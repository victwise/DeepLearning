{
  "nbformat": 4,
  "nbformat_minor": 0,
  "metadata": {
    "colab": {
      "name": "Capítulo5.ipynb",
      "version": "0.3.2",
      "provenance": [],
      "collapsed_sections": [],
      "include_colab_link": true
    },
    "kernelspec": {
      "name": "python3",
      "display_name": "Python 3"
    }
  },
  "cells": [
    {
      "cell_type": "markdown",
      "metadata": {
        "id": "view-in-github",
        "colab_type": "text"
      },
      "source": [
        "<a href=\"https://colab.research.google.com/github/victwise/fastai_numerical_linear_algebra/blob/master/Cap%C3%ADtulo5.ipynb\" target=\"_parent\"><img src=\"https://colab.research.google.com/assets/colab-badge.svg\" alt=\"Open In Colab\"/></a>"
      ]
    },
    {
      "metadata": {
        "id": "WIE56LjxYWt_",
        "colab_type": "text"
      },
      "cell_type": "markdown",
      "source": [
        "Sources:\n",
        "\n",
        "- https://eli.thegreenplace.net/2015/memory-layout-of-multi-dimensional-arrays/"
      ]
    },
    {
      "metadata": {
        "id": "uw4Bas5M6TIK",
        "colab_type": "code",
        "colab": {}
      },
      "cell_type": "code",
      "source": [
        "from sklearn import datasets, linear_model, metrics\n",
        "from sklearn.model_selection import train_test_split\n",
        "from sklearn.preprocessing import PolynomialFeatures\n",
        "import math, scipy, numpy as np\n",
        "from scipy import linalg"
      ],
      "execution_count": 0,
      "outputs": []
    },
    {
      "metadata": {
        "id": "W-UWmmRnBc8M",
        "colab_type": "code",
        "colab": {}
      },
      "cell_type": "code",
      "source": [
        "data = datasets.load_diabetes()"
      ],
      "execution_count": 0,
      "outputs": []
    },
    {
      "metadata": {
        "id": "5wf4CGNoCTuV",
        "colab_type": "code",
        "colab": {}
      },
      "cell_type": "code",
      "source": [
        "feature_names=['age', 'sex', 'bmi', 'bp', 's1', 's2', 's3', 's4', 's5', 's6']"
      ],
      "execution_count": 0,
      "outputs": []
    },
    {
      "metadata": {
        "id": "ETjMdPcMCVpB",
        "colab_type": "code",
        "colab": {}
      },
      "cell_type": "code",
      "source": [
        "trn,test,y_trn,y_test = train_test_split(data.data, data.target, test_size=0.2)"
      ],
      "execution_count": 0,
      "outputs": []
    },
    {
      "metadata": {
        "id": "h-85aDZTCXuZ",
        "colab_type": "code",
        "colab": {
          "base_uri": "https://localhost:8080/",
          "height": 34
        },
        "outputId": "4dc9d688-f6a5-4eaa-8dc2-38cc3e5cb37f"
      },
      "cell_type": "code",
      "source": [
        "trn.shape, test.shape"
      ],
      "execution_count": 5,
      "outputs": [
        {
          "output_type": "execute_result",
          "data": {
            "text/plain": [
              "((353, 10), (89, 10))"
            ]
          },
          "metadata": {
            "tags": []
          },
          "execution_count": 5
        }
      ]
    },
    {
      "metadata": {
        "id": "mT3xjqWxCfH7",
        "colab_type": "text"
      },
      "cell_type": "markdown",
      "source": [
        "# Regresión Lineal en Scikit Learn"
      ]
    },
    {
      "metadata": {
        "id": "4MFyGOkGCZlv",
        "colab_type": "code",
        "colab": {
          "base_uri": "https://localhost:8080/",
          "height": 50
        },
        "outputId": "c575c46c-f70a-4d4e-eefa-bb9d8557af36"
      },
      "cell_type": "code",
      "source": [
        "regr = linear_model.LinearRegression()\n",
        "%timeit regr.fit(trn, y_trn)"
      ],
      "execution_count": 6,
      "outputs": [
        {
          "output_type": "stream",
          "text": [
            "The slowest run took 95.08 times longer than the fastest. This could mean that an intermediate result is being cached.\n",
            "1000 loops, best of 3: 510 µs per loop\n"
          ],
          "name": "stdout"
        }
      ]
    },
    {
      "metadata": {
        "id": "iSF5ua6sLk9j",
        "colab_type": "code",
        "colab": {}
      },
      "cell_type": "code",
      "source": [
        "pred = regr.predict(test)"
      ],
      "execution_count": 0,
      "outputs": []
    },
    {
      "metadata": {
        "id": "pHG5bsTgLwgH",
        "colab_type": "text"
      },
      "cell_type": "markdown",
      "source": [
        "Será útil tener algunas métricas sobre qué tan bueno es nuestro pronóstico. Veremos la norma de la media al cuadrado (L2) y el error absoluto de la media (L1)."
      ]
    },
    {
      "metadata": {
        "id": "1rVJN9DpLoyn",
        "colab_type": "code",
        "colab": {}
      },
      "cell_type": "code",
      "source": [
        "def regr_metrics(act, pred):\n",
        "    return (math.sqrt(metrics.mean_squared_error(act, pred)), \n",
        "     metrics.mean_absolute_error(act, pred))"
      ],
      "execution_count": 0,
      "outputs": []
    },
    {
      "metadata": {
        "id": "a7WzJOrsL1Tr",
        "colab_type": "code",
        "colab": {
          "base_uri": "https://localhost:8080/",
          "height": 34
        },
        "outputId": "10fb1334-20fb-47ff-9ff6-6fb380fce847"
      },
      "cell_type": "code",
      "source": [
        "regr_metrics(y_test, regr.predict(test))"
      ],
      "execution_count": 10,
      "outputs": [
        {
          "output_type": "execute_result",
          "data": {
            "text/plain": [
              "(59.35040075820322, 48.05573038936139)"
            ]
          },
          "metadata": {
            "tags": []
          },
          "execution_count": 10
        }
      ]
    },
    {
      "metadata": {
        "id": "dklfp3YFL_X5",
        "colab_type": "text"
      },
      "cell_type": "markdown",
      "source": [
        "##Caracteristicas  Polinomiales"
      ]
    },
    {
      "metadata": {
        "id": "2s35FfwLL8P9",
        "colab_type": "code",
        "colab": {
          "base_uri": "https://localhost:8080/",
          "height": 34
        },
        "outputId": "b1ab984c-c7a9-4759-86e1-a3233c52c061"
      },
      "cell_type": "code",
      "source": [
        "trn.shape"
      ],
      "execution_count": 11,
      "outputs": [
        {
          "output_type": "execute_result",
          "data": {
            "text/plain": [
              "(353, 10)"
            ]
          },
          "metadata": {
            "tags": []
          },
          "execution_count": 11
        }
      ]
    },
    {
      "metadata": {
        "id": "3UTvJLqLNMl2",
        "colab_type": "code",
        "colab": {}
      },
      "cell_type": "code",
      "source": [
        "poly = PolynomialFeatures(include_bias=False)\n"
      ],
      "execution_count": 0,
      "outputs": []
    },
    {
      "metadata": {
        "id": "hXbgaoRmNQPB",
        "colab_type": "code",
        "colab": {}
      },
      "cell_type": "code",
      "source": [
        "trn_feat = poly.fit_transform(trn)"
      ],
      "execution_count": 0,
      "outputs": []
    },
    {
      "metadata": {
        "id": "6G9EVAwHNS0B",
        "colab_type": "code",
        "colab": {
          "base_uri": "https://localhost:8080/",
          "height": 54
        },
        "outputId": "addec778-2198-460d-b4e1-4fdc4eb1c027"
      },
      "cell_type": "code",
      "source": [
        "', '.join(poly.get_feature_names(feature_names))"
      ],
      "execution_count": 14,
      "outputs": [
        {
          "output_type": "execute_result",
          "data": {
            "text/plain": [
              "'age, sex, bmi, bp, s1, s2, s3, s4, s5, s6, age^2, age sex, age bmi, age bp, age s1, age s2, age s3, age s4, age s5, age s6, sex^2, sex bmi, sex bp, sex s1, sex s2, sex s3, sex s4, sex s5, sex s6, bmi^2, bmi bp, bmi s1, bmi s2, bmi s3, bmi s4, bmi s5, bmi s6, bp^2, bp s1, bp s2, bp s3, bp s4, bp s5, bp s6, s1^2, s1 s2, s1 s3, s1 s4, s1 s5, s1 s6, s2^2, s2 s3, s2 s4, s2 s5, s2 s6, s3^2, s3 s4, s3 s5, s3 s6, s4^2, s4 s5, s4 s6, s5^2, s5 s6, s6^2'"
            ]
          },
          "metadata": {
            "tags": []
          },
          "execution_count": 14
        }
      ]
    },
    {
      "metadata": {
        "id": "fMclpGnWNWEl",
        "colab_type": "code",
        "colab": {
          "base_uri": "https://localhost:8080/",
          "height": 34
        },
        "outputId": "b87a1fb9-62e1-4667-9ad9-5ec03698f39c"
      },
      "cell_type": "code",
      "source": [
        "trn_feat.shape"
      ],
      "execution_count": 15,
      "outputs": [
        {
          "output_type": "execute_result",
          "data": {
            "text/plain": [
              "(353, 65)"
            ]
          },
          "metadata": {
            "tags": []
          },
          "execution_count": 15
        }
      ]
    },
    {
      "metadata": {
        "id": "xSycPqzKNlAf",
        "colab_type": "code",
        "colab": {
          "base_uri": "https://localhost:8080/",
          "height": 34
        },
        "outputId": "5af30a40-7964-44d5-9673-d91dfeaf39b0"
      },
      "cell_type": "code",
      "source": [
        "regr.fit(trn_feat, y_trn)"
      ],
      "execution_count": 16,
      "outputs": [
        {
          "output_type": "execute_result",
          "data": {
            "text/plain": [
              "LinearRegression(copy_X=True, fit_intercept=True, n_jobs=1, normalize=False)"
            ]
          },
          "metadata": {
            "tags": []
          },
          "execution_count": 16
        }
      ]
    },
    {
      "metadata": {
        "id": "Tla4IeZkNncL",
        "colab_type": "code",
        "colab": {
          "base_uri": "https://localhost:8080/",
          "height": 34
        },
        "outputId": "cf5344a2-80ec-41bb-e668-5ff7bfb9130d"
      },
      "cell_type": "code",
      "source": [
        "regr_metrics(y_test, regr.predict(poly.fit_transform(test)))"
      ],
      "execution_count": 17,
      "outputs": [
        {
          "output_type": "execute_result",
          "data": {
            "text/plain": [
              "(64.89628354688391, 50.96249290563969)"
            ]
          },
          "metadata": {
            "tags": []
          },
          "execution_count": 17
        }
      ]
    },
    {
      "metadata": {
        "id": "Fx1p5FFUO-oj",
        "colab_type": "code",
        "colab": {
          "base_uri": "https://localhost:8080/",
          "height": 34
        },
        "outputId": "0666bea4-13a0-497b-b86c-c54c90c373fe"
      },
      "cell_type": "code",
      "source": [
        "%timeit poly.fit_transform(trn)"
      ],
      "execution_count": 18,
      "outputs": [
        {
          "output_type": "stream",
          "text": [
            "1000 loops, best of 3: 618 µs per loop\n"
          ],
          "name": "stdout"
        }
      ]
    },
    {
      "metadata": {
        "id": "R_hpomSqTy6X",
        "colab_type": "text"
      },
      "cell_type": "markdown",
      "source": [
        "##Experimentando con vecctorización y código nativo "
      ]
    },
    {
      "metadata": {
        "id": "7SihCvdzPBIY",
        "colab_type": "code",
        "colab": {}
      },
      "cell_type": "code",
      "source": [
        "%matplotlib inline"
      ],
      "execution_count": 0,
      "outputs": []
    },
    {
      "metadata": {
        "id": "M5KB9qM4VDVr",
        "colab_type": "code",
        "colab": {
          "base_uri": "https://localhost:8080/",
          "height": 168
        },
        "outputId": "cfe567b9-a2f5-47b7-abcd-a858ebd374af"
      },
      "cell_type": "code",
      "source": [
        "!pip install pandas_summary"
      ],
      "execution_count": 25,
      "outputs": [
        {
          "output_type": "stream",
          "text": [
            "Collecting pandas_summary\n",
            "  Downloading https://files.pythonhosted.org/packages/97/55/ea54109a4e7a8e7342bdf23e9382c858224263d984b0d95610568e564f59/pandas_summary-0.0.5-py2.py3-none-any.whl\n",
            "Requirement already satisfied: pandas in /usr/local/lib/python3.6/dist-packages (from pandas_summary) (0.22.0)\n",
            "Requirement already satisfied: numpy in /usr/local/lib/python3.6/dist-packages (from pandas_summary) (1.14.6)\n",
            "Requirement already satisfied: python-dateutil>=2 in /usr/local/lib/python3.6/dist-packages (from pandas->pandas_summary) (2.5.3)\n",
            "Requirement already satisfied: pytz>=2011k in /usr/local/lib/python3.6/dist-packages (from pandas->pandas_summary) (2018.7)\n",
            "Requirement already satisfied: six>=1.5 in /usr/local/lib/python3.6/dist-packages (from python-dateutil>=2->pandas->pandas_summary) (1.11.0)\n",
            "Installing collected packages: pandas-summary\n",
            "Successfully installed pandas-summary-0.0.5\n"
          ],
          "name": "stdout"
        }
      ]
    },
    {
      "metadata": {
        "id": "-48d5npmVJUH",
        "colab_type": "code",
        "colab": {
          "base_uri": "https://localhost:8080/",
          "height": 168
        },
        "outputId": "99d567c3-d791-42b0-fc01-ed1b20cc6dc3"
      },
      "cell_type": "code",
      "source": [
        "!pip install numba"
      ],
      "execution_count": 26,
      "outputs": [
        {
          "output_type": "stream",
          "text": [
            "Collecting numba\n",
            "\u001b[?25l  Downloading https://files.pythonhosted.org/packages/31/55/938f0023a4f37fe24460d46846670aba8170a6b736f1693293e710d4a6d0/numba-0.41.0-cp36-cp36m-manylinux1_x86_64.whl (3.2MB)\n",
            "\u001b[K    100% |████████████████████████████████| 3.2MB 7.5MB/s \n",
            "\u001b[?25hCollecting llvmlite>=0.26.0dev0 (from numba)\n",
            "\u001b[?25l  Downloading https://files.pythonhosted.org/packages/a2/60/d22966c97a47687ac1cc57c2e756380897c264f1ce40780105d7dbcd9564/llvmlite-0.26.0-cp36-cp36m-manylinux1_x86_64.whl (16.1MB)\n",
            "\u001b[K    100% |████████████████████████████████| 16.1MB 2.0MB/s \n",
            "\u001b[?25hRequirement already satisfied: numpy in /usr/local/lib/python3.6/dist-packages (from numba) (1.14.6)\n",
            "Installing collected packages: llvmlite, numba\n",
            "Successfully installed llvmlite-0.26.0 numba-0.41.0\n"
          ],
          "name": "stdout"
        }
      ]
    },
    {
      "metadata": {
        "id": "C4a8s6UzFIVk",
        "colab_type": "code",
        "colab": {}
      },
      "cell_type": "code",
      "source": [
        "import math, numpy as np, matplotlib.pyplot as plt\n",
        "from pandas_summary import DataFrameSummary\n",
        "from scipy import ndimage"
      ],
      "execution_count": 0,
      "outputs": []
    },
    {
      "metadata": {
        "id": "C9ERCbPdFKsD",
        "colab_type": "code",
        "colab": {}
      },
      "cell_type": "code",
      "source": [
        "from numba import jit, vectorize, guvectorize, cuda, float32, void, float64"
      ],
      "execution_count": 0,
      "outputs": []
    },
    {
      "metadata": {
        "id": "WH3vSuGMVVPR",
        "colab_type": "text"
      },
      "cell_type": "markdown",
      "source": [
        "Mostraremos el impacto de:\n",
        "\n",
        "- Evitar asignaciones de memoria y copias (más lento que los cálculos de la CPU)\n",
        "- Mejor localidad\n",
        "- Vectorización\n",
        "\n",
        "Si usamos numpy en arreglos completos a la vez, crea muchos temporarios y no podemos usar el caché. Si utilizamos un bucle numba a través de un elemento de matriz a la vez, no tenemos que asignar grandes matrices temporales, y podemos reutilizar los datos almacenados en caché, ya que estamos haciendo varios cálculos en cada elemento de la matriz."
      ]
    },
    {
      "metadata": {
        "id": "xYcKHPIAVm4g",
        "colab_type": "code",
        "colab": {}
      },
      "cell_type": "code",
      "source": [
        "# Untype and Unvectorized\n",
        "def proc_python(xx,yy):\n",
        "    zz = np.zeros(nobs, dtype='float32')\n",
        "    for j in range(nobs):   \n",
        "        x, y = xx[j], yy[j] \n",
        "        x = x*2 - ( y * 55 )\n",
        "        y = x + y*2         \n",
        "        z = x + y + 99      \n",
        "        z = z * ( z - .88 ) \n",
        "        zz[j] = z           \n",
        "    return zz"
      ],
      "execution_count": 0,
      "outputs": []
    },
    {
      "metadata": {
        "id": "kELleFL7VoEI",
        "colab_type": "code",
        "colab": {}
      },
      "cell_type": "code",
      "source": [
        "nobs = 10000\n",
        "x = np.random.randn(nobs).astype('float32')\n",
        "y = np.random.randn(nobs).astype('float32')"
      ],
      "execution_count": 0,
      "outputs": []
    },
    {
      "metadata": {
        "id": "h_ROfYRXVq5U",
        "colab_type": "code",
        "colab": {
          "base_uri": "https://localhost:8080/",
          "height": 34
        },
        "outputId": "bbc6e09b-be27-4d6b-c3d2-48687e03de1a"
      },
      "cell_type": "code",
      "source": [
        "%timeit proc_python(x,y)   # Untyped and unvectorized"
      ],
      "execution_count": 31,
      "outputs": [
        {
          "output_type": "stream",
          "text": [
            "10 loops, best of 3: 76.4 ms per loop\n"
          ],
          "name": "stdout"
        }
      ]
    },
    {
      "metadata": {
        "id": "0UMVE05qVcxB",
        "colab_type": "text"
      },
      "cell_type": "markdown",
      "source": [
        "##Numpy"
      ]
    },
    {
      "metadata": {
        "id": "cHUq8kDAU84l",
        "colab_type": "code",
        "colab": {}
      },
      "cell_type": "code",
      "source": [
        "# Typed and Vectorized\n",
        "def proc_numpy(x,y):\n",
        "    z = np.zeros(nobs, dtype='float32')\n",
        "    x = x*2 - ( y * 55 )\n",
        "    y = x + y*2         \n",
        "    z = x + y + 99      \n",
        "    z = z * ( z - .88 ) \n",
        "    return z"
      ],
      "execution_count": 0,
      "outputs": []
    },
    {
      "metadata": {
        "id": "1Edn7gaDWiSD",
        "colab_type": "code",
        "colab": {
          "base_uri": "https://localhost:8080/",
          "height": 34
        },
        "outputId": "0dfb2b4b-4e0b-4b63-cd83-82b5ac881e42"
      },
      "cell_type": "code",
      "source": [
        "np.allclose( proc_numpy(x,y), proc_python(x,y), atol=1e-4 )"
      ],
      "execution_count": 33,
      "outputs": [
        {
          "output_type": "execute_result",
          "data": {
            "text/plain": [
              "True"
            ]
          },
          "metadata": {
            "tags": []
          },
          "execution_count": 33
        }
      ]
    },
    {
      "metadata": {
        "id": "aG-mkbYiWkgv",
        "colab_type": "code",
        "colab": {
          "base_uri": "https://localhost:8080/",
          "height": 50
        },
        "outputId": "d84b41e3-92ce-4407-efab-df79c8aa782b"
      },
      "cell_type": "code",
      "source": [
        "%timeit proc_numpy(x,y)    # Typed and vectorized"
      ],
      "execution_count": 34,
      "outputs": [
        {
          "output_type": "stream",
          "text": [
            "The slowest run took 50.67 times longer than the fastest. This could mean that an intermediate result is being cached.\n",
            "10000 loops, best of 3: 30.4 µs per loop\n"
          ],
          "name": "stdout"
        }
      ]
    },
    {
      "metadata": {
        "id": "8ztsnPupWuEv",
        "colab_type": "text"
      },
      "cell_type": "markdown",
      "source": [
        "##Numba\n",
        "\n",
        "Numba ofrece varios decoradores diferentes. Intentaremos dos diferentes:\n",
        "\n",
        "- @jit: muy general\n",
        "- @vectorize: no es necesario escribir un bucle for.\n",
        "\n",
        "Útil cuando se opera en vectores del mismo tamaño.\n",
        "Primero, usaremos el decorador del compilador jit (just-in-time) de Numba, sin vectorizar explícitamente. Esto evita grandes asignaciones de memoria, por lo que tenemos una mejor localidad:"
      ]
    },
    {
      "metadata": {
        "id": "l8FpmlYwWm1o",
        "colab_type": "code",
        "colab": {}
      },
      "cell_type": "code",
      "source": [
        "@jit()\n",
        "def proc_numba(xx,yy,zz):\n",
        "    for j in range(nobs):   \n",
        "        x, y = xx[j], yy[j] \n",
        "        x = x*2 - ( y * 55 )\n",
        "        y = x + y*2         \n",
        "        z = x + y + 99      \n",
        "        z = z * ( z - .88 ) \n",
        "        zz[j] = z           \n",
        "    return zz"
      ],
      "execution_count": 0,
      "outputs": []
    },
    {
      "metadata": {
        "id": "iNffxGYaXCDy",
        "colab_type": "code",
        "colab": {
          "base_uri": "https://localhost:8080/",
          "height": 34
        },
        "outputId": "b036463b-d129-4bdf-f1c6-8d6137d74f81"
      },
      "cell_type": "code",
      "source": [
        "z = np.zeros(nobs).astype('float32')\n",
        "np.allclose( proc_numpy(x,y), proc_numba(x,y,z), atol=1e-4 )"
      ],
      "execution_count": 36,
      "outputs": [
        {
          "output_type": "execute_result",
          "data": {
            "text/plain": [
              "True"
            ]
          },
          "metadata": {
            "tags": []
          },
          "execution_count": 36
        }
      ]
    },
    {
      "metadata": {
        "id": "sBev_2SYXEZh",
        "colab_type": "code",
        "colab": {
          "base_uri": "https://localhost:8080/",
          "height": 50
        },
        "outputId": "b953ab99-7893-4bcd-ba05-ee1cc0003dc9"
      },
      "cell_type": "code",
      "source": [
        "%timeit proc_numba(x,y,z)"
      ],
      "execution_count": 37,
      "outputs": [
        {
          "output_type": "stream",
          "text": [
            "The slowest run took 5.14 times longer than the fastest. This could mean that an intermediate result is being cached.\n",
            "100000 loops, best of 3: 8.75 µs per loop\n"
          ],
          "name": "stdout"
        }
      ]
    },
    {
      "metadata": {
        "id": "4oPinjgGXSxd",
        "colab_type": "text"
      },
      "cell_type": "markdown",
      "source": [
        "Ahora usaremos el decorador **vectorize** de Numba. El compilador de Numba optimiza esto de una manera más inteligente que lo que es posible con Python y Numpy."
      ]
    },
    {
      "metadata": {
        "id": "cS-KDAW_XIx1",
        "colab_type": "code",
        "colab": {}
      },
      "cell_type": "code",
      "source": [
        "@vectorize\n",
        "def vec_numba(x,y):\n",
        "    x = x*2 - ( y * 55 )\n",
        "    y = x + y*2         \n",
        "    z = x + y + 99      \n",
        "    return z * ( z - .88 ) \n",
        "  "
      ],
      "execution_count": 0,
      "outputs": []
    },
    {
      "metadata": {
        "id": "Uehqd-4KXgaB",
        "colab_type": "code",
        "colab": {
          "base_uri": "https://localhost:8080/",
          "height": 34
        },
        "outputId": "f56f358d-6d2e-4665-c88b-20104aad7446"
      },
      "cell_type": "code",
      "source": [
        "np.allclose(vec_numba(x,y), proc_numba(x,y,z), atol=1e-4 )"
      ],
      "execution_count": 39,
      "outputs": [
        {
          "output_type": "execute_result",
          "data": {
            "text/plain": [
              "True"
            ]
          },
          "metadata": {
            "tags": []
          },
          "execution_count": 39
        }
      ]
    },
    {
      "metadata": {
        "id": "Uov2SbqlXiz4",
        "colab_type": "code",
        "colab": {
          "base_uri": "https://localhost:8080/",
          "height": 50
        },
        "outputId": "f970efb2-1dfd-46bc-90bc-6f97ad601acd"
      },
      "cell_type": "code",
      "source": [
        "%timeit vec_numba(x,y)"
      ],
      "execution_count": 40,
      "outputs": [
        {
          "output_type": "stream",
          "text": [
            "The slowest run took 47.93 times longer than the fastest. This could mean that an intermediate result is being cached.\n",
            "100000 loops, best of 3: 7.91 µs per loop\n"
          ],
          "name": "stdout"
        }
      ]
    },
    {
      "metadata": {
        "id": "ZlYVNElsXrsv",
        "colab_type": "text"
      },
      "cell_type": "markdown",
      "source": [
        "##Numba - caracteristicas polinomiales\n",
        "\n",
        "De la entrada del blog de Eli Bendersky :\n",
        "\n",
        "\"El diseño de la fila principal de una matriz, coloca la primera fila en la memoria contigua, luego la segunda fila justo después de ella, luego la tercera, y así sucesivamente. El diseño de la columna principal coloca la primera columna en la memoria contigua, luego la segunda, etc. .... Si bien saber qué diseño está utilizando un conjunto de datos en particular es fundamental para un buen rendimiento, no hay una respuesta única a la pregunta de qué diseño 'es mejor' en general.\n",
        "\n",
        "\"Resulta que la coincidencia con la forma en que funciona su algoritmo con el diseño de datos puede hacer o deshacer el rendimiento de una aplicación.\n",
        "\n",
        "\"El corto para llevar es: recorrer siempre los datos en el orden en que se diseñaron \".\n",
        "\n",
        "Diseño de columna principal : Fortran, Matlab, R y Julia\n",
        "\n",
        "Diseño de la fila principal : C, C ++, Python, Pascal, Mathematica"
      ]
    },
    {
      "metadata": {
        "id": "HOmOCzbhXmL8",
        "colab_type": "code",
        "colab": {}
      },
      "cell_type": "code",
      "source": [
        "@jit(nopython=True)\n",
        "def vec_poly(x, res):\n",
        "    m,n=x.shape\n",
        "    feat_idx=0\n",
        "    for i in range(n):\n",
        "        v1=x[:,i]\n",
        "        for k in range(m): res[k,feat_idx] = v1[k]\n",
        "        feat_idx+=1\n",
        "        for j in range(i,n):\n",
        "            for k in range(m): res[k,feat_idx] = v1[k]*x[k,j]\n",
        "            feat_idx+=1\n"
      ],
      "execution_count": 0,
      "outputs": []
    },
    {
      "metadata": {
        "id": "KHlD6yFrrDZx",
        "colab_type": "text"
      },
      "cell_type": "markdown",
      "source": [
        "Row-Major vs Column-Major Storage"
      ]
    },
    {
      "metadata": {
        "id": "FidpO3vLXzcp",
        "colab_type": "code",
        "colab": {}
      },
      "cell_type": "code",
      "source": [
        "trn = np.asfortranarray(trn)\n",
        "test = np.asfortranarray(test)"
      ],
      "execution_count": 0,
      "outputs": []
    },
    {
      "metadata": {
        "id": "3BHF-pvJrGl6",
        "colab_type": "code",
        "colab": {}
      },
      "cell_type": "code",
      "source": [
        "m,n=trn.shape\n",
        "n_feat = n*(n+1)//2 + n\n",
        "trn_feat = np.zeros((m,n_feat), order='F')\n",
        "test_feat = np.zeros((len(y_test), n_feat), order='F')"
      ],
      "execution_count": 0,
      "outputs": []
    },
    {
      "metadata": {
        "id": "C7yTwzNorJUP",
        "colab_type": "code",
        "colab": {}
      },
      "cell_type": "code",
      "source": [
        "vec_poly(trn, trn_feat)\n",
        "vec_poly(test, test_feat)"
      ],
      "execution_count": 0,
      "outputs": []
    },
    {
      "metadata": {
        "id": "c_fmi5JGrLjY",
        "colab_type": "code",
        "colab": {
          "base_uri": "https://localhost:8080/",
          "height": 34
        },
        "outputId": "11152757-dfd9-437a-8797-2ac5159ba43a"
      },
      "cell_type": "code",
      "source": [
        "regr.fit(trn_feat, y_trn)"
      ],
      "execution_count": 45,
      "outputs": [
        {
          "output_type": "execute_result",
          "data": {
            "text/plain": [
              "LinearRegression(copy_X=True, fit_intercept=True, n_jobs=1, normalize=False)"
            ]
          },
          "metadata": {
            "tags": []
          },
          "execution_count": 45
        }
      ]
    },
    {
      "metadata": {
        "id": "TmEecFArrNV7",
        "colab_type": "code",
        "colab": {
          "base_uri": "https://localhost:8080/",
          "height": 34
        },
        "outputId": "44c0969a-9409-4dd9-ce6f-44ed6007f31b"
      },
      "cell_type": "code",
      "source": [
        "regr_metrics(y_test, regr.predict(test_feat))"
      ],
      "execution_count": 46,
      "outputs": [
        {
          "output_type": "execute_result",
          "data": {
            "text/plain": [
              "(64.89628354688381, 50.96249290563954)"
            ]
          },
          "metadata": {
            "tags": []
          },
          "execution_count": 46
        }
      ]
    },
    {
      "metadata": {
        "id": "USWc1AMKrPWF",
        "colab_type": "code",
        "colab": {
          "base_uri": "https://localhost:8080/",
          "height": 50
        },
        "outputId": "36c411d6-df92-48a6-80a7-fe2e2b5f0c8c"
      },
      "cell_type": "code",
      "source": [
        "%timeit vec_poly(trn, trn_feat)"
      ],
      "execution_count": 47,
      "outputs": [
        {
          "output_type": "stream",
          "text": [
            "The slowest run took 7.05 times longer than the fastest. This could mean that an intermediate result is being cached.\n",
            "100000 loops, best of 3: 8.16 µs per loop\n"
          ],
          "name": "stdout"
        }
      ]
    },
    {
      "metadata": {
        "id": "Xu4Azbi1rRKo",
        "colab_type": "code",
        "colab": {
          "base_uri": "https://localhost:8080/",
          "height": 50
        },
        "outputId": "b7877401-e864-4cd7-f6fe-1d3f033af32c"
      },
      "cell_type": "code",
      "source": [
        "%timeit poly.fit_transform(trn)"
      ],
      "execution_count": 48,
      "outputs": [
        {
          "output_type": "stream",
          "text": [
            "The slowest run took 6.77 times longer than the fastest. This could mean that an intermediate result is being cached.\n",
            "1000 loops, best of 3: 596 µs per loop\n"
          ],
          "name": "stdout"
        }
      ]
    },
    {
      "metadata": {
        "id": "kRkIGCqPrW0h",
        "colab_type": "code",
        "colab": {
          "base_uri": "https://localhost:8080/",
          "height": 34
        },
        "outputId": "8cdceace-2c01-4528-9d37-31924c2bb727"
      },
      "cell_type": "code",
      "source": [
        "605/7.7"
      ],
      "execution_count": 49,
      "outputs": [
        {
          "output_type": "execute_result",
          "data": {
            "text/plain": [
              "78.57142857142857"
            ]
          },
          "metadata": {
            "tags": []
          },
          "execution_count": 49
        }
      ]
    },
    {
      "metadata": {
        "id": "mnbVykrOrgAI",
        "colab_type": "text"
      },
      "cell_type": "markdown",
      "source": [
        "¡Este es un gran avance! Numba es increíble ! Con una sola línea de código, estamos obteniendo una aceleración de 78x sobre scikit learn (que fue optimizada por expertos)."
      ]
    },
    {
      "metadata": {
        "id": "MvQpsF3hrnlJ",
        "colab_type": "text"
      },
      "cell_type": "markdown",
      "source": [
        "##Regularización y ruido \n",
        "\n",
        "La regularización es una forma de reducir el ajuste excesivo y crear modelos que se generalicen mejor a nuevos datos."
      ]
    },
    {
      "metadata": {
        "id": "XROsdcXJr1e3",
        "colab_type": "text"
      },
      "cell_type": "markdown",
      "source": [
        "Regularización \n",
        "\n",
        "La regresión de lazo utiliza una penalización de L1, que empuja hacia coeficientes dispersos. El parámetro se utiliza para ponderar el término de la penalidad. Lasso CV de Scikit Learn realiza una validación cruzada con varios valores diferentes para α.\n"
      ]
    },
    {
      "metadata": {
        "id": "7iPkempBrZy-",
        "colab_type": "code",
        "colab": {}
      },
      "cell_type": "code",
      "source": [
        "reg_regr = linear_model.LassoCV(n_alphas=10)"
      ],
      "execution_count": 0,
      "outputs": []
    },
    {
      "metadata": {
        "id": "6JSlX-V-sF3b",
        "colab_type": "code",
        "colab": {
          "base_uri": "https://localhost:8080/",
          "height": 138
        },
        "outputId": "43c0b89f-42ca-4386-db21-a19963eb7b86"
      },
      "cell_type": "code",
      "source": [
        "reg_regr.fit(trn_feat, y_trn)"
      ],
      "execution_count": 51,
      "outputs": [
        {
          "output_type": "stream",
          "text": [
            "/usr/local/lib/python3.6/dist-packages/sklearn/linear_model/coordinate_descent.py:491: ConvergenceWarning: Objective did not converge. You might want to increase the number of iterations. Fitting data with very small alpha may cause precision problems.\n",
            "  ConvergenceWarning)\n"
          ],
          "name": "stderr"
        },
        {
          "output_type": "execute_result",
          "data": {
            "text/plain": [
              "LassoCV(alphas=None, copy_X=True, cv=None, eps=0.001, fit_intercept=True,\n",
              "    max_iter=1000, n_alphas=10, n_jobs=1, normalize=False, positive=False,\n",
              "    precompute='auto', random_state=None, selection='cyclic', tol=0.0001,\n",
              "    verbose=False)"
            ]
          },
          "metadata": {
            "tags": []
          },
          "execution_count": 51
        }
      ]
    },
    {
      "metadata": {
        "id": "inDiLSQDsH_f",
        "colab_type": "code",
        "colab": {
          "base_uri": "https://localhost:8080/",
          "height": 34
        },
        "outputId": "44f4a2ec-af93-40f6-8b01-696dfd76eb48"
      },
      "cell_type": "code",
      "source": [
        "reg_regr.alpha_"
      ],
      "execution_count": 52,
      "outputs": [
        {
          "output_type": "execute_result",
          "data": {
            "text/plain": [
              "0.010299084881356342"
            ]
          },
          "metadata": {
            "tags": []
          },
          "execution_count": 52
        }
      ]
    },
    {
      "metadata": {
        "id": "Oyj6er_WsK68",
        "colab_type": "code",
        "colab": {
          "base_uri": "https://localhost:8080/",
          "height": 34
        },
        "outputId": "8085a1a1-acd7-4476-9341-359fedddf5ff"
      },
      "cell_type": "code",
      "source": [
        "regr_metrics(y_test, reg_regr.predict(test_feat))"
      ],
      "execution_count": 53,
      "outputs": [
        {
          "output_type": "execute_result",
          "data": {
            "text/plain": [
              "(57.763607562678985, 46.73144756229311)"
            ]
          },
          "metadata": {
            "tags": []
          },
          "execution_count": 53
        }
      ]
    },
    {
      "metadata": {
        "id": "j-eHr9GssTEX",
        "colab_type": "text"
      },
      "cell_type": "markdown",
      "source": [
        "##Ruido\n",
        "\n",
        "Ahora añadimos algo de ruido a la Data."
      ]
    },
    {
      "metadata": {
        "id": "_4BPGwyDsQb0",
        "colab_type": "code",
        "colab": {}
      },
      "cell_type": "code",
      "source": [
        "idxs = np.random.randint(0, len(trn), 10)"
      ],
      "execution_count": 0,
      "outputs": []
    },
    {
      "metadata": {
        "id": "uSjKNaorsia-",
        "colab_type": "code",
        "colab": {}
      },
      "cell_type": "code",
      "source": [
        "y_trn2 = np.copy(y_trn)\n",
        "y_trn2[idxs] *= 10 # label noise"
      ],
      "execution_count": 0,
      "outputs": []
    },
    {
      "metadata": {
        "id": "CNoYCs-_sjyd",
        "colab_type": "code",
        "colab": {
          "base_uri": "https://localhost:8080/",
          "height": 34
        },
        "outputId": "d4d6fe84-eddb-478a-9b9d-adc5af813835"
      },
      "cell_type": "code",
      "source": [
        "regr = linear_model.LinearRegression()\n",
        "regr.fit(trn, y_trn)\n",
        "regr_metrics(y_test, regr.predict(test))"
      ],
      "execution_count": 56,
      "outputs": [
        {
          "output_type": "execute_result",
          "data": {
            "text/plain": [
              "(59.350400758203214, 48.055730389361386)"
            ]
          },
          "metadata": {
            "tags": []
          },
          "execution_count": 56
        }
      ]
    },
    {
      "metadata": {
        "id": "awNw8YMislRt",
        "colab_type": "code",
        "colab": {
          "base_uri": "https://localhost:8080/",
          "height": 34
        },
        "outputId": "f6d657f1-1feb-4082-de3a-4237ff812ddc"
      },
      "cell_type": "code",
      "source": [
        "regr.fit(trn, y_trn2)\n",
        "regr_metrics(y_test, regr.predict(test))"
      ],
      "execution_count": 57,
      "outputs": [
        {
          "output_type": "execute_result",
          "data": {
            "text/plain": [
              "(78.56285761014834, 61.66400253944768)"
            ]
          },
          "metadata": {
            "tags": []
          },
          "execution_count": 57
        }
      ]
    },
    {
      "metadata": {
        "id": "3Rzl62XQsxeN",
        "colab_type": "text"
      },
      "cell_type": "markdown",
      "source": [
        "La pérdida de Huber es una función de pérdida que es menos sensible a los valores atípicos que la pérdida por error al cuadrado. Es cuadrático para valores de error pequeños y lineal para valores grandes."
      ]
    },
    {
      "metadata": {
        "id": "tTPLhLDksoY0",
        "colab_type": "code",
        "colab": {
          "base_uri": "https://localhost:8080/",
          "height": 34
        },
        "outputId": "d2a222e0-01ba-498f-f1cd-47266b72d4a3"
      },
      "cell_type": "code",
      "source": [
        "hregr = linear_model.HuberRegressor()\n",
        "hregr.fit(trn, y_trn2)\n",
        "regr_metrics(y_test, hregr.predict(test))"
      ],
      "execution_count": 58,
      "outputs": [
        {
          "output_type": "execute_result",
          "data": {
            "text/plain": [
              "(59.45305509008837, 48.01953043044526)"
            ]
          },
          "metadata": {
            "tags": []
          },
          "execution_count": 58
        }
      ]
    }
  ]
}