{
  "nbformat": 4,
  "nbformat_minor": 0,
  "metadata": {
    "colab": {
      "name": "Capítulo8.ipynb",
      "version": "0.3.2",
      "provenance": [],
      "include_colab_link": true
    },
    "kernelspec": {
      "name": "python3",
      "display_name": "Python 3"
    }
  },
  "cells": [
    {
      "cell_type": "markdown",
      "metadata": {
        "id": "view-in-github",
        "colab_type": "text"
      },
      "source": [
        "<a href=\"https://colab.research.google.com/github/victwise/DeepLearning/blob/master/Cap%C3%ADtulo8.ipynb\" target=\"_parent\"><img src=\"https://colab.research.google.com/assets/colab-badge.svg\" alt=\"Open In Colab\"/></a>"
      ]
    },
    {
      "metadata": {
        "id": "yMlx7yuOW6Z0",
        "colab_type": "text"
      },
      "cell_type": "markdown",
      "source": [
        "#Implementando la factorización QR\n",
        "\n",
        "Utilizamos la factorización QR para calcular los valores propios y para calcular la regresión de mínimos cuadrados. Es un bloque de construcción importante en el álgebra lineal numérica."
      ]
    },
    {
      "metadata": {
        "id": "MILZSUYgXMcM",
        "colab_type": "text"
      },
      "cell_type": "markdown",
      "source": [
        "##Numpy"
      ]
    },
    {
      "metadata": {
        "id": "6UPXytNXXB06",
        "colab_type": "code",
        "colab": {}
      },
      "cell_type": "code",
      "source": [
        "import numpy as np\n",
        "\n",
        "np.set_printoptions(suppress=True, precision=4)"
      ],
      "execution_count": 0,
      "outputs": []
    },
    {
      "metadata": {
        "id": "lqu3ed9-XQF7",
        "colab_type": "code",
        "colab": {}
      },
      "cell_type": "code",
      "source": [
        "n = 5\n",
        "A = np.random.rand(n,n)\n",
        "npQ, npR = np.linalg.qr(A)"
      ],
      "execution_count": 0,
      "outputs": []
    },
    {
      "metadata": {
        "id": "B0TemhNKXT-o",
        "colab_type": "text"
      },
      "cell_type": "markdown",
      "source": [
        "Comprobando que Q es ortogonal"
      ]
    },
    {
      "metadata": {
        "id": "tw-_V6u_XSaN",
        "colab_type": "code",
        "colab": {
          "base_uri": "https://localhost:8080/",
          "height": 34
        },
        "outputId": "bb63645a-fa5d-4e27-f08c-8c73f067b165"
      },
      "cell_type": "code",
      "source": [
        "np.allclose(np.eye(n), npQ @ npQ.T), np.allclose(np.eye(n), npQ.T @ npQ)\n"
      ],
      "execution_count": 3,
      "outputs": [
        {
          "output_type": "execute_result",
          "data": {
            "text/plain": [
              "(True, True)"
            ]
          },
          "metadata": {
            "tags": []
          },
          "execution_count": 3
        }
      ]
    },
    {
      "metadata": {
        "id": "RoWy5FO9XawF",
        "colab_type": "text"
      },
      "cell_type": "markdown",
      "source": [
        "Validando que R es una matriz triangular"
      ]
    },
    {
      "metadata": {
        "id": "tKHjq-ehXZ71",
        "colab_type": "code",
        "colab": {
          "base_uri": "https://localhost:8080/",
          "height": 101
        },
        "outputId": "d4b91066-d4fe-4b1f-d31d-9502e9bfbe05"
      },
      "cell_type": "code",
      "source": [
        "npR"
      ],
      "execution_count": 4,
      "outputs": [
        {
          "output_type": "execute_result",
          "data": {
            "text/plain": [
              "array([[-1.3832, -1.4192, -0.8742, -0.9388, -0.609 ],\n",
              "       [ 0.    ,  0.5402,  0.6119,  0.2204,  0.1138],\n",
              "       [ 0.    ,  0.    , -0.2959, -0.22  , -0.4283],\n",
              "       [ 0.    ,  0.    ,  0.    , -0.8057, -0.4125],\n",
              "       [ 0.    ,  0.    ,  0.    ,  0.    , -0.5342]])"
            ]
          },
          "metadata": {
            "tags": []
          },
          "execution_count": 4
        }
      ]
    },
    {
      "metadata": {
        "id": "ELF1AEHyXrQA",
        "colab_type": "text"
      },
      "cell_type": "markdown",
      "source": [
        "##Gram-Schmidt"
      ]
    },
    {
      "metadata": {
        "id": "YTPrqbXCXwxZ",
        "colab_type": "text"
      },
      "cell_type": "markdown",
      "source": [
        "Classical Gram-Schmidt (inestable)"
      ]
    },
    {
      "metadata": {
        "id": "BBkxEoUbXq4d",
        "colab_type": "code",
        "colab": {}
      },
      "cell_type": "code",
      "source": [
        "def cgs(A):\n",
        "    m, n = A.shape\n",
        "    Q = np.zeros([m,n], dtype=np.float64)\n",
        "    R = np.zeros([n,n], dtype=np.float64)\n",
        "    for j in range(n):\n",
        "        v = A[:,j]\n",
        "        for i in range(j):\n",
        "            R[i,j] = np.dot(Q[:,i], A[:,j])\n",
        "            v = v - (R[i,j] * Q[:,i])\n",
        "        R[j,j] = np.linalg.norm(v)\n",
        "        Q[:, j] = v / R[j,j]\n",
        "    return Q, R"
      ],
      "execution_count": 0,
      "outputs": []
    },
    {
      "metadata": {
        "id": "WL_ROKO0XnZT",
        "colab_type": "code",
        "colab": {}
      },
      "cell_type": "code",
      "source": [
        "Q, R = cgs(A)"
      ],
      "execution_count": 0,
      "outputs": []
    },
    {
      "metadata": {
        "id": "a9ZZGliTX1ts",
        "colab_type": "code",
        "colab": {
          "base_uri": "https://localhost:8080/",
          "height": 34
        },
        "outputId": "1c4c373c-5b8f-43ce-fd0e-b6f9788903d2"
      },
      "cell_type": "code",
      "source": [
        "np.allclose(A, Q @ R)"
      ],
      "execution_count": 7,
      "outputs": [
        {
          "output_type": "execute_result",
          "data": {
            "text/plain": [
              "True"
            ]
          },
          "metadata": {
            "tags": []
          },
          "execution_count": 7
        }
      ]
    },
    {
      "metadata": {
        "id": "s0180WhQX6gM",
        "colab_type": "text"
      },
      "cell_type": "markdown",
      "source": [
        "Validar si Q es Unitario"
      ]
    },
    {
      "metadata": {
        "id": "69EjPBQlX3ne",
        "colab_type": "code",
        "colab": {
          "base_uri": "https://localhost:8080/",
          "height": 34
        },
        "outputId": "2d31afe4-e5d0-42ac-86d5-d2fd031a40d0"
      },
      "cell_type": "code",
      "source": [
        "np.allclose(np.eye(len(Q)), Q.dot(Q.T))"
      ],
      "execution_count": 8,
      "outputs": [
        {
          "output_type": "execute_result",
          "data": {
            "text/plain": [
              "True"
            ]
          },
          "metadata": {
            "tags": []
          },
          "execution_count": 8
        }
      ]
    },
    {
      "metadata": {
        "id": "7MgjZM3mX-_o",
        "colab_type": "code",
        "colab": {
          "base_uri": "https://localhost:8080/",
          "height": 34
        },
        "outputId": "2a30416c-bdda-47c9-8fd1-f82a67678b83"
      },
      "cell_type": "code",
      "source": [
        "np.allclose(npQ, -Q)"
      ],
      "execution_count": 9,
      "outputs": [
        {
          "output_type": "execute_result",
          "data": {
            "text/plain": [
              "False"
            ]
          },
          "metadata": {
            "tags": []
          },
          "execution_count": 9
        }
      ]
    },
    {
      "metadata": {
        "id": "PbO0NKcdYKxK",
        "colab_type": "text"
      },
      "cell_type": "markdown",
      "source": [
        "Gram-Schmidt debería recordarle un poco de la iteración de Arnoldi (utilizada para transformar una matriz a la forma de Hessenberg), ya que también es una ortogonalización estructurada."
      ]
    },
    {
      "metadata": {
        "id": "FXi_VXMqYPEv",
        "colab_type": "text"
      },
      "cell_type": "markdown",
      "source": [
        "##Gram-Schmidt modificado"
      ]
    },
    {
      "metadata": {
        "id": "i9D_rkz6YANt",
        "colab_type": "code",
        "colab": {}
      },
      "cell_type": "code",
      "source": [
        "import numpy as np\n",
        "n = 3\n",
        "A = np.random.rand(n,n).astype(np.float64)"
      ],
      "execution_count": 0,
      "outputs": []
    },
    {
      "metadata": {
        "id": "HYakxhAtYTCL",
        "colab_type": "code",
        "colab": {}
      },
      "cell_type": "code",
      "source": [
        "def mgs(A):\n",
        "    V = A.copy()\n",
        "    m, n = A.shape\n",
        "    Q = np.zeros([m,n], dtype=np.float64)\n",
        "    R = np.zeros([n,n], dtype=np.float64)\n",
        "    for i in range(n):\n",
        "        R[i,i] = np.linalg.norm(V[:,i])\n",
        "        Q[:,i] = V[:,i] / R[i,i]\n",
        "        for j in range(i, n):\n",
        "            R[i,j] = np.dot(Q[:,i],V[:,j])\n",
        "            V[:,j] = V[:,j] - R[i,j]*Q[:,i]\n",
        "    return Q, R"
      ],
      "execution_count": 0,
      "outputs": []
    },
    {
      "metadata": {
        "id": "lr720t9jYUja",
        "colab_type": "code",
        "colab": {}
      },
      "cell_type": "code",
      "source": [
        "Q, R = mgs(A)"
      ],
      "execution_count": 0,
      "outputs": []
    },
    {
      "metadata": {
        "id": "qk5wbrlMYWMD",
        "colab_type": "code",
        "colab": {
          "base_uri": "https://localhost:8080/",
          "height": 34
        },
        "outputId": "f4cb2157-0e30-40ec-9c95-36c4ac10c8c2"
      },
      "cell_type": "code",
      "source": [
        "np.allclose(np.eye(len(Q)), Q.dot(Q.T.conj()))"
      ],
      "execution_count": 13,
      "outputs": [
        {
          "output_type": "execute_result",
          "data": {
            "text/plain": [
              "True"
            ]
          },
          "metadata": {
            "tags": []
          },
          "execution_count": 13
        }
      ]
    },
    {
      "metadata": {
        "id": "F6Q2eTDzYXqs",
        "colab_type": "code",
        "colab": {
          "base_uri": "https://localhost:8080/",
          "height": 34
        },
        "outputId": "81c7e1e0-482b-4136-d8eb-f52fa0372b89"
      },
      "cell_type": "code",
      "source": [
        "np.allclose(A, np.matmul(Q,R))"
      ],
      "execution_count": 14,
      "outputs": [
        {
          "output_type": "execute_result",
          "data": {
            "text/plain": [
              "True"
            ]
          },
          "metadata": {
            "tags": []
          },
          "execution_count": 14
        }
      ]
    },
    {
      "metadata": {
        "id": "qfHeFr5yb4Kj",
        "colab_type": "text"
      },
      "cell_type": "markdown",
      "source": [
        "##Householder"
      ]
    },
    {
      "metadata": {
        "id": "O5wECEHGcApy",
        "colab_type": "text"
      },
      "cell_type": "markdown",
      "source": [
        "Las reflexiones de los miembros de la familia conducen a una matriz Q más casi ortogonal con errores de redondeo\n",
        "\n",
        "Gram-Schmidt se puede detener de manera parcial, dejando un QR reducido de las columnas de la 1ª n de A"
      ]
    },
    {
      "metadata": {
        "id": "ja0s7s_lYZZS",
        "colab_type": "code",
        "colab": {}
      },
      "cell_type": "code",
      "source": [
        "import numpy as np\n",
        "n = 4\n",
        "A = np.random.rand(n,n).astype(np.float64)\n",
        "\n",
        "Q = np.zeros([n,n], dtype=np.float64)\n",
        "R = np.zeros([n,n], dtype=np.float64)"
      ],
      "execution_count": 0,
      "outputs": []
    },
    {
      "metadata": {
        "id": "hKOq_sCSb_l6",
        "colab_type": "code",
        "colab": {
          "base_uri": "https://localhost:8080/",
          "height": 84
        },
        "outputId": "2cbe95ad-729b-4cce-d7c9-b74f9bc19a94"
      },
      "cell_type": "code",
      "source": [
        "A"
      ],
      "execution_count": 17,
      "outputs": [
        {
          "output_type": "execute_result",
          "data": {
            "text/plain": [
              "array([[0.9592, 0.6772, 0.5466, 0.8434],\n",
              "       [0.2119, 0.4671, 0.3611, 0.3967],\n",
              "       [0.1183, 0.8258, 0.5076, 0.6576],\n",
              "       [0.7123, 0.7728, 0.4586, 0.6199]])"
            ]
          },
          "metadata": {
            "tags": []
          },
          "execution_count": 17
        }
      ]
    },
    {
      "metadata": {
        "id": "iMD-Z4crcGfE",
        "colab_type": "code",
        "colab": {}
      },
      "cell_type": "code",
      "source": [
        "from scipy.linalg import block_diag"
      ],
      "execution_count": 0,
      "outputs": []
    },
    {
      "metadata": {
        "id": "r1IkQbXQcI0h",
        "colab_type": "code",
        "colab": {}
      },
      "cell_type": "code",
      "source": [
        "np.set_printoptions(5)"
      ],
      "execution_count": 0,
      "outputs": []
    },
    {
      "metadata": {
        "id": "aiqdJinPcMXa",
        "colab_type": "text"
      },
      "cell_type": "markdown",
      "source": [
        "##Algoritmo"
      ]
    },
    {
      "metadata": {
        "id": "5b6K8d8xcLVX",
        "colab_type": "code",
        "colab": {}
      },
      "cell_type": "code",
      "source": [
        "def householder_lots(A):\n",
        "    m, n = A.shape\n",
        "    R = np.copy(A)\n",
        "    V = []\n",
        "    Fs = []\n",
        "    for k in range(n):\n",
        "        v = np.copy(R[k:,k])\n",
        "        v = np.reshape(v, (n-k, 1))\n",
        "        v[0] += np.sign(v[0]) * np.linalg.norm(v)\n",
        "        v /= np.linalg.norm(v)\n",
        "        R[k:,k:] = R[k:,k:] - 2*np.matmul(v, np.matmul(v.T, R[k:,k:]))\n",
        "        V.append(v)\n",
        "        F = np.eye(n-k) - 2 * np.matmul(v, v.T)/np.matmul(v.T, v)\n",
        "        Fs.append(F)\n",
        "    return R, V, Fs"
      ],
      "execution_count": 0,
      "outputs": []
    },
    {
      "metadata": {
        "id": "PEiq__8AcsWp",
        "colab_type": "code",
        "colab": {}
      },
      "cell_type": "code",
      "source": [
        ""
      ],
      "execution_count": 0,
      "outputs": []
    }
  ]
}