{
  "nbformat": 4,
  "nbformat_minor": 0,
  "metadata": {
    "colab": {
      "name": "Capítulo6.ipynb",
      "version": "0.3.2",
      "provenance": [],
      "collapsed_sections": [],
      "include_colab_link": true
    },
    "kernelspec": {
      "name": "python3",
      "display_name": "Python 3"
    }
  },
  "cells": [
    {
      "cell_type": "markdown",
      "metadata": {
        "id": "view-in-github",
        "colab_type": "text"
      },
      "source": [
        "<a href=\"https://colab.research.google.com/github/victwise/fastai/blob/master/Cap%C3%ADtulo6.ipynb\" target=\"_parent\"><img src=\"https://colab.research.google.com/assets/colab-badge.svg\" alt=\"Open In Colab\"/></a>"
      ]
    },
    {
      "metadata": {
        "id": "hhP_F2rBuvdF",
        "colab_type": "code",
        "colab": {}
      },
      "cell_type": "code",
      "source": [
        "from sklearn import datasets, linear_model, metrics\n",
        "from sklearn.model_selection import train_test_split\n",
        "from sklearn.preprocessing import PolynomialFeatures\n",
        "import math, scipy, numpy as np\n",
        "from scipy import linalg"
      ],
      "execution_count": 0,
      "outputs": []
    },
    {
      "metadata": {
        "id": "5_xMzUPtu8nE",
        "colab_type": "code",
        "colab": {}
      },
      "cell_type": "code",
      "source": [
        "np.set_printoptions(precision=6)"
      ],
      "execution_count": 0,
      "outputs": []
    },
    {
      "metadata": {
        "id": "PB0wOAGTEkFO",
        "colab_type": "code",
        "colab": {}
      },
      "cell_type": "code",
      "source": [
        "data = datasets.load_diabetes()"
      ],
      "execution_count": 0,
      "outputs": []
    },
    {
      "metadata": {
        "id": "BIrfe_N_EoHl",
        "colab_type": "code",
        "colab": {}
      },
      "cell_type": "code",
      "source": [
        "data = datasets.load_diabetes()"
      ],
      "execution_count": 0,
      "outputs": []
    },
    {
      "metadata": {
        "id": "USyd4G9iEqMk",
        "colab_type": "code",
        "colab": {}
      },
      "cell_type": "code",
      "source": [
        "trn,test,y_trn,y_test = train_test_split(data.data, data.target, test_size=0.2)"
      ],
      "execution_count": 0,
      "outputs": []
    },
    {
      "metadata": {
        "id": "pFW-d4JvEsN5",
        "colab_type": "code",
        "colab": {
          "base_uri": "https://localhost:8080/",
          "height": 34
        },
        "outputId": "5fd20fb3-5029-42e5-bf0e-6c3cafd5163a"
      },
      "cell_type": "code",
      "source": [
        "trn.shape, test.shape"
      ],
      "execution_count": 16,
      "outputs": [
        {
          "output_type": "execute_result",
          "data": {
            "text/plain": [
              "((353, 10), (89, 10))"
            ]
          },
          "metadata": {
            "tags": []
          },
          "execution_count": 16
        }
      ]
    },
    {
      "metadata": {
        "id": "K8ypgCFqEumH",
        "colab_type": "code",
        "colab": {}
      },
      "cell_type": "code",
      "source": [
        "def regr_metrics(act, pred):\n",
        "    return (math.sqrt(metrics.mean_squared_error(act, pred)), \n",
        "     metrics.mean_absolute_error(act, pred))"
      ],
      "execution_count": 0,
      "outputs": []
    },
    {
      "metadata": {
        "id": "i9LnwSHidrWN",
        "colab_type": "text"
      },
      "cell_type": "markdown",
      "source": [
        "##linalg.lstqr \n",
        "La implementación de sklearn se manejó agregando un término constante (ya que la intersección con y no es probablemente 0 para la línea ). "
      ]
    },
    {
      "metadata": {
        "id": "45V72bNYEwYC",
        "colab_type": "code",
        "colab": {}
      },
      "cell_type": "code",
      "source": [
        "trn_int = np.c_[trn, np.ones(trn.shape[0])]\n",
        "test_int = np.c_[test, np.ones(test.shape[0])]"
      ],
      "execution_count": 0,
      "outputs": []
    },
    {
      "metadata": {
        "id": "ECEwvSZpd2Ig",
        "colab_type": "text"
      },
      "cell_type": "markdown",
      "source": [
        "Ya que linalg.lstsqnos permite especificar qué rutina LAPACK queremos usar, probémoslos todos y hagamos algunas comparaciones de tiempo:"
      ]
    },
    {
      "metadata": {
        "id": "oSUUTbyfd7BQ",
        "colab_type": "code",
        "colab": {
          "base_uri": "https://localhost:8080/",
          "height": 50
        },
        "outputId": "98f271d1-4a4b-46b5-c144-ade213a55f94"
      },
      "cell_type": "code",
      "source": [
        "%timeit coef, _,_,_ = linalg.lstsq(trn_int, y_trn, lapack_driver=\"gelsd\")"
      ],
      "execution_count": 20,
      "outputs": [
        {
          "output_type": "stream",
          "text": [
            "The slowest run took 111.75 times longer than the fastest. This could mean that an intermediate result is being cached.\n",
            "1000 loops, best of 3: 279 µs per loop\n"
          ],
          "name": "stdout"
        }
      ]
    },
    {
      "metadata": {
        "id": "b28HPTRQd89-",
        "colab_type": "code",
        "colab": {
          "base_uri": "https://localhost:8080/",
          "height": 50
        },
        "outputId": "c206d770-a7cc-44b3-ac03-1866ec497773"
      },
      "cell_type": "code",
      "source": [
        "%timeit coef, _,_,_ = linalg.lstsq(trn_int, y_trn, lapack_driver=\"gelsy\")"
      ],
      "execution_count": 21,
      "outputs": [
        {
          "output_type": "stream",
          "text": [
            "The slowest run took 6.96 times longer than the fastest. This could mean that an intermediate result is being cached.\n",
            "10000 loops, best of 3: 165 µs per loop\n"
          ],
          "name": "stdout"
        }
      ]
    },
    {
      "metadata": {
        "id": "Nor9aGPdeAFk",
        "colab_type": "code",
        "colab": {
          "base_uri": "https://localhost:8080/",
          "height": 50
        },
        "outputId": "abdde64c-7f74-42a4-c76b-a29ce0a3ad25"
      },
      "cell_type": "code",
      "source": [
        "%timeit coef, _,_,_ = linalg.lstsq(trn_int, y_trn, lapack_driver=\"gelss\")"
      ],
      "execution_count": 22,
      "outputs": [
        {
          "output_type": "stream",
          "text": [
            "The slowest run took 11.11 times longer than the fastest. This could mean that an intermediate result is being cached.\n",
            "1000 loops, best of 3: 265 µs per loop\n"
          ],
          "name": "stdout"
        }
      ]
    },
    {
      "metadata": {
        "id": "2KLeZJ0-elVR",
        "colab_type": "text"
      },
      "cell_type": "markdown",
      "source": [
        "##Solución sencilla"
      ]
    },
    {
      "metadata": {
        "id": "MoUEef2VeFkp",
        "colab_type": "code",
        "colab": {}
      },
      "cell_type": "code",
      "source": [
        "def ls_naive(A, b):\n",
        "     return np.linalg.inv(A.T @ A) @ A.T @ b"
      ],
      "execution_count": 0,
      "outputs": []
    },
    {
      "metadata": {
        "id": "-vh8wL5Vep7P",
        "colab_type": "code",
        "colab": {
          "base_uri": "https://localhost:8080/",
          "height": 50
        },
        "outputId": "a85fe8df-0e59-463a-b77f-f8046559ea8c"
      },
      "cell_type": "code",
      "source": [
        "%timeit coeffs_naive = ls_naive(trn_int, y_trn)"
      ],
      "execution_count": 24,
      "outputs": [
        {
          "output_type": "stream",
          "text": [
            "The slowest run took 223.25 times longer than the fastest. This could mean that an intermediate result is being cached.\n",
            "10000 loops, best of 3: 53 µs per loop\n"
          ],
          "name": "stdout"
        }
      ]
    },
    {
      "metadata": {
        "id": "wWBcpPTUer0a",
        "colab_type": "code",
        "colab": {
          "base_uri": "https://localhost:8080/",
          "height": 34
        },
        "outputId": "19f5d92f-cafb-4cff-9d03-61f9492767ad"
      },
      "cell_type": "code",
      "source": [
        "coeffs_naive = ls_naive(trn_int, y_trn)\n",
        "regr_metrics(y_test, test_int @ coeffs_naive)"
      ],
      "execution_count": 25,
      "outputs": [
        {
          "output_type": "execute_result",
          "data": {
            "text/plain": [
              "(50.87649500973857, 41.35749286895491)"
            ]
          },
          "metadata": {
            "tags": []
          },
          "execution_count": 25
        }
      ]
    },
    {
      "metadata": {
        "id": "PO3gUWQhev2a",
        "colab_type": "text"
      },
      "cell_type": "markdown",
      "source": [
        "##Ecuaciones Normales(Cholesky)"
      ]
    },
    {
      "metadata": {
        "id": "Lt3oD-xzetdh",
        "colab_type": "code",
        "colab": {}
      },
      "cell_type": "code",
      "source": [
        "A = trn_int"
      ],
      "execution_count": 0,
      "outputs": []
    },
    {
      "metadata": {
        "id": "_UX8p2HTe369",
        "colab_type": "code",
        "colab": {}
      },
      "cell_type": "code",
      "source": [
        "b = y_trn"
      ],
      "execution_count": 0,
      "outputs": []
    },
    {
      "metadata": {
        "id": "rj0HXmd6e5RW",
        "colab_type": "code",
        "colab": {}
      },
      "cell_type": "code",
      "source": [
        "AtA = A.T @ A\n",
        "Atb = A.T @ b"
      ],
      "execution_count": 0,
      "outputs": []
    },
    {
      "metadata": {
        "id": "g-80ptohe-ib",
        "colab_type": "text"
      },
      "cell_type": "markdown",
      "source": [
        "**Advertencia: ** Numpy y Scipy por defecto tienen Upper/lower diferentes en Cholesky"
      ]
    },
    {
      "metadata": {
        "id": "CUS8DV4Ke6rq",
        "colab_type": "code",
        "colab": {}
      },
      "cell_type": "code",
      "source": [
        "R = scipy.linalg.cholesky(AtA)"
      ],
      "execution_count": 0,
      "outputs": []
    },
    {
      "metadata": {
        "id": "BM6Hc99yfQOP",
        "colab_type": "code",
        "colab": {
          "base_uri": "https://localhost:8080/",
          "height": 386
        },
        "outputId": "5c7ea477-6e28-4920-a7e7-002aacde30b9"
      },
      "cell_type": "code",
      "source": [
        "np.set_printoptions(suppress=True, precision=4)\n",
        "R"
      ],
      "execution_count": 30,
      "outputs": [
        {
          "output_type": "execute_result",
          "data": {
            "text/plain": [
              "array([[ 0.8846,  0.1581,  0.1731,  0.3252,  0.2362,  0.194 , -0.0626,\n",
              "         0.183 ,  0.2418,  0.2806,  0.5877],\n",
              "       [ 0.    ,  0.8804,  0.0395,  0.1548, -0.0256,  0.085 , -0.321 ,\n",
              "         0.2456,  0.0669,  0.1612,  0.1847],\n",
              "       [ 0.    ,  0.    ,  0.8821,  0.2672,  0.1721,  0.1792, -0.2957,\n",
              "         0.3244,  0.3535,  0.3007,  0.0138],\n",
              "       [ 0.    ,  0.    ,  0.    ,  0.7906,  0.0512, -0.0166,  0.011 ,\n",
              "         0.0099,  0.1545,  0.1722,  0.5386],\n",
              "       [ 0.    ,  0.    ,  0.    ,  0.    ,  0.8094,  0.7219,  0.1125,\n",
              "         0.4122,  0.3406,  0.1644, -0.7101],\n",
              "       [ 0.    ,  0.    ,  0.    ,  0.    ,  0.    ,  0.3865, -0.3917,\n",
              "         0.261 , -0.338 , -0.0245, -0.5089],\n",
              "       [ 0.    ,  0.    ,  0.    ,  0.    ,  0.    ,  0.    ,  0.675 ,\n",
              "        -0.5334, -0.5488, -0.1498, -0.1073],\n",
              "       [ 0.    ,  0.    ,  0.    ,  0.    ,  0.    ,  0.    ,  0.    ,\n",
              "         0.3027, -0.0268,  0.0689,  0.1307],\n",
              "       [ 0.    ,  0.    ,  0.    ,  0.    ,  0.    ,  0.    ,  0.    ,\n",
              "         0.    ,  0.2904,  0.0662, -0.3366],\n",
              "       [ 0.    ,  0.    ,  0.    ,  0.    ,  0.    ,  0.    ,  0.    ,\n",
              "         0.    ,  0.    ,  0.735 ,  0.0352],\n",
              "       [ 0.    ,  0.    ,  0.    ,  0.    ,  0.    ,  0.    ,  0.    ,\n",
              "         0.    ,  0.    ,  0.    , 18.7463]])"
            ]
          },
          "metadata": {
            "tags": []
          },
          "execution_count": 30
        }
      ]
    },
    {
      "metadata": {
        "id": "HYzBCvsOfUEc",
        "colab_type": "text"
      },
      "cell_type": "markdown",
      "source": [
        "Revisando la factorización"
      ]
    },
    {
      "metadata": {
        "id": "nRbD4lnBfRz5",
        "colab_type": "code",
        "colab": {
          "base_uri": "https://localhost:8080/",
          "height": 34
        },
        "outputId": "8f314dab-458e-4aab-b642-f65545d1bfca"
      },
      "cell_type": "code",
      "source": [
        "np.linalg.norm(AtA - R.T @ R)"
      ],
      "execution_count": 31,
      "outputs": [
        {
          "output_type": "execute_result",
          "data": {
            "text/plain": [
              "3.539601127436055e-16"
            ]
          },
          "metadata": {
            "tags": []
          },
          "execution_count": 31
        }
      ]
    },
    {
      "metadata": {
        "id": "8DSqRkWPfYDc",
        "colab_type": "code",
        "colab": {}
      },
      "cell_type": "code",
      "source": [
        "w = scipy.linalg.solve_triangular(R, Atb, lower=False, trans='T')"
      ],
      "execution_count": 0,
      "outputs": []
    },
    {
      "metadata": {
        "id": "r7C1MBDDfb5R",
        "colab_type": "code",
        "colab": {
          "base_uri": "https://localhost:8080/",
          "height": 34
        },
        "outputId": "a2cca10f-093d-4476-b63e-2000c613dcc2"
      },
      "cell_type": "code",
      "source": [
        "np.linalg.norm(R.T @ w - Atb)"
      ],
      "execution_count": 33,
      "outputs": [
        {
          "output_type": "execute_result",
          "data": {
            "text/plain": [
              "1.6140428288623166e-13"
            ]
          },
          "metadata": {
            "tags": []
          },
          "execution_count": 33
        }
      ]
    },
    {
      "metadata": {
        "id": "COLtb-mGfeJA",
        "colab_type": "code",
        "colab": {}
      },
      "cell_type": "code",
      "source": [
        "  coeffs_chol = scipy.linalg.solve_triangular(R, w, lower=False)"
      ],
      "execution_count": 0,
      "outputs": []
    },
    {
      "metadata": {
        "id": "vEmZrO8Tff4A",
        "colab_type": "code",
        "colab": {
          "base_uri": "https://localhost:8080/",
          "height": 34
        },
        "outputId": "b7478d31-63e4-4d97-f0fd-0f69fba12a94"
      },
      "cell_type": "code",
      "source": [
        "np.linalg.norm(R @ coeffs_chol - w)"
      ],
      "execution_count": 35,
      "outputs": [
        {
          "output_type": "execute_result",
          "data": {
            "text/plain": [
              "4.691869230566371e-13"
            ]
          },
          "metadata": {
            "tags": []
          },
          "execution_count": 35
        }
      ]
    },
    {
      "metadata": {
        "id": "kimPv1JvfiD7",
        "colab_type": "code",
        "colab": {}
      },
      "cell_type": "code",
      "source": [
        "def ls_chol(A, b):\n",
        "    R = scipy.linalg.cholesky(A.T @ A)\n",
        "    w = scipy.linalg.solve_triangular(R, A.T @ b, trans='T')\n",
        "    return scipy.linalg.solve_triangular(R, w)"
      ],
      "execution_count": 0,
      "outputs": []
    },
    {
      "metadata": {
        "id": "bdlyPT7mfzQR",
        "colab_type": "code",
        "colab": {
          "base_uri": "https://localhost:8080/",
          "height": 50
        },
        "outputId": "740795c4-cf2f-4b69-9d96-dad2fe92df44"
      },
      "cell_type": "code",
      "source": [
        "%timeit coeffs_chol = ls_chol(trn_int, y_trn)"
      ],
      "execution_count": 37,
      "outputs": [
        {
          "output_type": "stream",
          "text": [
            "The slowest run took 9.65 times longer than the fastest. This could mean that an intermediate result is being cached.\n",
            "10000 loops, best of 3: 132 µs per loop\n"
          ],
          "name": "stdout"
        }
      ]
    },
    {
      "metadata": {
        "id": "rEgO91klf2dI",
        "colab_type": "code",
        "colab": {
          "base_uri": "https://localhost:8080/",
          "height": 34
        },
        "outputId": "91efac49-1a6c-41bf-f654-d2574fabfccb"
      },
      "cell_type": "code",
      "source": [
        "coeffs_chol = ls_chol(trn_int, y_trn)\n",
        "regr_metrics(y_test, test_int @ coeffs_chol)"
      ],
      "execution_count": 38,
      "outputs": [
        {
          "output_type": "execute_result",
          "data": {
            "text/plain": [
              "(50.87649500973837, 41.35749286895471)"
            ]
          },
          "metadata": {
            "tags": []
          },
          "execution_count": 38
        }
      ]
    },
    {
      "metadata": {
        "id": "wHxJoTUcf6H4",
        "colab_type": "text"
      },
      "cell_type": "markdown",
      "source": [
        "##Factorización QR"
      ]
    },
    {
      "metadata": {
        "id": "Eqao0Rckf5U9",
        "colab_type": "code",
        "colab": {}
      },
      "cell_type": "code",
      "source": [
        "def ls_qr(A,b):\n",
        "    Q, R = scipy.linalg.qr(A, mode='economic')\n",
        "    return scipy.linalg.solve_triangular(R, Q.T @ b)"
      ],
      "execution_count": 0,
      "outputs": []
    },
    {
      "metadata": {
        "id": "CE6CJw-Sf-dm",
        "colab_type": "code",
        "colab": {
          "base_uri": "https://localhost:8080/",
          "height": 50
        },
        "outputId": "7e430308-177e-426c-ca52-d15e86e04453"
      },
      "cell_type": "code",
      "source": [
        "%timeit coeffs_qr = ls_qr(trn_int, y_trn)"
      ],
      "execution_count": 40,
      "outputs": [
        {
          "output_type": "stream",
          "text": [
            "The slowest run took 11.29 times longer than the fastest. This could mean that an intermediate result is being cached.\n",
            "10000 loops, best of 3: 166 µs per loop\n"
          ],
          "name": "stdout"
        }
      ]
    },
    {
      "metadata": {
        "id": "lsYUyyx2gAHy",
        "colab_type": "code",
        "colab": {
          "base_uri": "https://localhost:8080/",
          "height": 34
        },
        "outputId": "7b04140a-de04-4714-88e2-136e56c6f67e"
      },
      "cell_type": "code",
      "source": [
        "coeffs_qr = ls_qr(trn_int, y_trn)\n",
        "regr_metrics(y_test, test_int @ coeffs_qr)"
      ],
      "execution_count": 41,
      "outputs": [
        {
          "output_type": "execute_result",
          "data": {
            "text/plain": [
              "(50.87649500973839, 41.35749286895472)"
            ]
          },
          "metadata": {
            "tags": []
          },
          "execution_count": 41
        }
      ]
    },
    {
      "metadata": {
        "id": "63tdLdEAhjKA",
        "colab_type": "text"
      },
      "cell_type": "markdown",
      "source": [
        "##SVD"
      ]
    },
    {
      "metadata": {
        "id": "kMk0z4rlgBmp",
        "colab_type": "code",
        "colab": {}
      },
      "cell_type": "code",
      "source": [
        "def ls_svd(A,b):\n",
        "    m, n = A.shape\n",
        "    U, sigma, Vh = scipy.linalg.svd(A, full_matrices=False, lapack_driver='gesdd')\n",
        "    w = (U.T @ b)/ sigma\n",
        "    return Vh.T @ w"
      ],
      "execution_count": 0,
      "outputs": []
    },
    {
      "metadata": {
        "id": "GlBii2_khmZt",
        "colab_type": "code",
        "colab": {
          "base_uri": "https://localhost:8080/",
          "height": 50
        },
        "outputId": "f5d064a6-eab9-432d-8830-e258f9ff0749"
      },
      "cell_type": "code",
      "source": [
        "%timeit coeffs_svd = ls_svd(trn_int, y_trn)"
      ],
      "execution_count": 43,
      "outputs": [
        {
          "output_type": "stream",
          "text": [
            "The slowest run took 4.22 times longer than the fastest. This could mean that an intermediate result is being cached.\n",
            "1000 loops, best of 3: 269 µs per loop\n"
          ],
          "name": "stdout"
        }
      ]
    },
    {
      "metadata": {
        "id": "5T7XOaKshqJ0",
        "colab_type": "code",
        "colab": {
          "base_uri": "https://localhost:8080/",
          "height": 50
        },
        "outputId": "e299bea3-fe4b-4c33-d2eb-bab5b9c76c9d"
      },
      "cell_type": "code",
      "source": [
        "%timeit coeffs_svd = ls_svd(trn_int, y_trn)"
      ],
      "execution_count": 44,
      "outputs": [
        {
          "output_type": "stream",
          "text": [
            "The slowest run took 6.91 times longer than the fastest. This could mean that an intermediate result is being cached.\n",
            "1000 loops, best of 3: 267 µs per loop\n"
          ],
          "name": "stdout"
        }
      ]
    },
    {
      "metadata": {
        "id": "0NKPQ-_Phr81",
        "colab_type": "code",
        "colab": {
          "base_uri": "https://localhost:8080/",
          "height": 34
        },
        "outputId": "70e4a30e-98b8-44ab-c499-ada19dca42fb"
      },
      "cell_type": "code",
      "source": [
        "coeffs_svd = ls_svd(trn_int, y_trn)\n",
        "regr_metrics(y_test, test_int @ coeffs_svd)"
      ],
      "execution_count": 45,
      "outputs": [
        {
          "output_type": "execute_result",
          "data": {
            "text/plain": [
              "(50.8764950097385, 41.35749286895473)"
            ]
          },
          "metadata": {
            "tags": []
          },
          "execution_count": 45
        }
      ]
    },
    {
      "metadata": {
        "id": "zaoud_hPkBRL",
        "colab_type": "text"
      },
      "cell_type": "markdown",
      "source": [
        "##Técnica de dibujo al azar para la regresión de mínimos cuadrados \n",
        "\n",
        "Dibujo lineal (Woodruff)\n",
        "\n",
        "- Muestra arxn matriz aleatoria S, r << n\n",
        "- Calcular SA y S b\n",
        "- Encuentre la solución exacta x a la regresión SA x = Sb"
      ]
    },
    {
      "metadata": {
        "id": "BqAHlwqehvOr",
        "colab_type": "code",
        "colab": {}
      },
      "cell_type": "code",
      "source": [
        "import timeit\n",
        "import pandas as pd"
      ],
      "execution_count": 0,
      "outputs": []
    },
    {
      "metadata": {
        "id": "7jYFEgpokOlz",
        "colab_type": "code",
        "colab": {}
      },
      "cell_type": "code",
      "source": [
        "def scipylstq(A, b):\n",
        "    return scipy.linalg.lstsq(A,b)[0]"
      ],
      "execution_count": 0,
      "outputs": []
    },
    {
      "metadata": {
        "id": "K26XWHVhkQhZ",
        "colab_type": "code",
        "colab": {}
      },
      "cell_type": "code",
      "source": [
        "row_names = ['Normal Eqns- Naive',\n",
        "             'Normal Eqns- Cholesky', \n",
        "             'QR Factorization', \n",
        "             'SVD', \n",
        "             'Scipy lstsq']\n",
        "\n",
        "name2func = {'Normal Eqns- Naive': 'ls_naive', \n",
        "             'Normal Eqns- Cholesky': 'ls_chol', \n",
        "             'QR Factorization': 'ls_qr',\n",
        "             'SVD': 'ls_svd',\n",
        "             'Scipy lstsq': 'scipylstq'}"
      ],
      "execution_count": 0,
      "outputs": []
    },
    {
      "metadata": {
        "id": "OK34rlwAkSLQ",
        "colab_type": "code",
        "colab": {}
      },
      "cell_type": "code",
      "source": [
        "m_array = np.array([100, 1000, 10000])\n",
        "n_array = np.array([20, 100, 1000])"
      ],
      "execution_count": 0,
      "outputs": []
    },
    {
      "metadata": {
        "id": "lkj8mPpCkVlc",
        "colab_type": "code",
        "colab": {}
      },
      "cell_type": "code",
      "source": [
        "index = pd.MultiIndex.from_product([m_array, n_array], names=['# rows', '# cols'])"
      ],
      "execution_count": 0,
      "outputs": []
    },
    {
      "metadata": {
        "id": "WyyOHArskXtH",
        "colab_type": "code",
        "colab": {}
      },
      "cell_type": "code",
      "source": [
        "pd.options.display.float_format = '{:,.6f}'.format\n",
        "df = pd.DataFrame(index=row_names, columns=index)\n",
        "df_error = pd.DataFrame(index=row_names, columns=index)"
      ],
      "execution_count": 0,
      "outputs": []
    },
    {
      "metadata": {
        "id": "c0rgM6F1kZQW",
        "colab_type": "code",
        "colab": {
          "base_uri": "https://localhost:8080/",
          "height": 104
        },
        "outputId": "acf446f4-8233-4e37-e26f-e44b52a2688d"
      },
      "cell_type": "code",
      "source": [
        "# %%prun\n",
        "for m in m_array:\n",
        "    for n in n_array:\n",
        "        if m >= n:        \n",
        "            x = np.random.uniform(-10,10,n)\n",
        "            A = np.random.uniform(-40,40,[m,n])   # removed np.asfortranarray\n",
        "            b = np.matmul(A, x) + np.random.normal(0,2,m)\n",
        "            for name in row_names:\n",
        "                fcn = name2func[name]\n",
        "                t = timeit.timeit(fcn + '(A,b)', number=5, globals=globals())\n",
        "                df.set_value(name, (m,n), t)\n",
        "                coeffs = locals()[fcn](A, b)\n",
        "                reg_met = regr_metrics(b, A @ coeffs)\n",
        "                df_error.set_value(name, (m,n), reg_met[0])"
      ],
      "execution_count": 52,
      "outputs": [
        {
          "output_type": "stream",
          "text": [
            "/usr/local/lib/python3.6/dist-packages/ipykernel_launcher.py:10: FutureWarning: set_value is deprecated and will be removed in a future release. Please use .at[] or .iat[] accessors instead\n",
            "  # Remove the CWD from sys.path while we load stuff.\n",
            "/usr/local/lib/python3.6/dist-packages/ipykernel_launcher.py:13: FutureWarning: set_value is deprecated and will be removed in a future release. Please use .at[] or .iat[] accessors instead\n",
            "  del sys.path[0]\n"
          ],
          "name": "stderr"
        }
      ]
    },
    {
      "metadata": {
        "id": "ZXqh6s-hkbGX",
        "colab_type": "code",
        "colab": {
          "base_uri": "https://localhost:8080/",
          "height": 225
        },
        "outputId": "e9e60e50-9bc7-4786-cb23-d5a5812fe355"
      },
      "cell_type": "code",
      "source": [
        "df"
      ],
      "execution_count": 53,
      "outputs": [
        {
          "output_type": "execute_result",
          "data": {
            "text/html": [
              "<div>\n",
              "<style scoped>\n",
              "    .dataframe tbody tr th:only-of-type {\n",
              "        vertical-align: middle;\n",
              "    }\n",
              "\n",
              "    .dataframe tbody tr th {\n",
              "        vertical-align: top;\n",
              "    }\n",
              "\n",
              "    .dataframe thead tr th {\n",
              "        text-align: left;\n",
              "    }\n",
              "</style>\n",
              "<table border=\"1\" class=\"dataframe\">\n",
              "  <thead>\n",
              "    <tr>\n",
              "      <th># rows</th>\n",
              "      <th colspan=\"3\" halign=\"left\">100</th>\n",
              "      <th colspan=\"3\" halign=\"left\">1000</th>\n",
              "      <th colspan=\"3\" halign=\"left\">10000</th>\n",
              "    </tr>\n",
              "    <tr>\n",
              "      <th># cols</th>\n",
              "      <th>20</th>\n",
              "      <th>100</th>\n",
              "      <th>1000</th>\n",
              "      <th>20</th>\n",
              "      <th>100</th>\n",
              "      <th>1000</th>\n",
              "      <th>20</th>\n",
              "      <th>100</th>\n",
              "      <th>1000</th>\n",
              "    </tr>\n",
              "  </thead>\n",
              "  <tbody>\n",
              "    <tr>\n",
              "      <th>Normal Eqns- Naive</th>\n",
              "      <td>0.007973</td>\n",
              "      <td>0.004553</td>\n",
              "      <td>NaN</td>\n",
              "      <td>0.002328</td>\n",
              "      <td>0.016656</td>\n",
              "      <td>0.789696</td>\n",
              "      <td>0.023852</td>\n",
              "      <td>0.143463</td>\n",
              "      <td>6.006322</td>\n",
              "    </tr>\n",
              "    <tr>\n",
              "      <th>Normal Eqns- Cholesky</th>\n",
              "      <td>0.001040</td>\n",
              "      <td>0.006658</td>\n",
              "      <td>NaN</td>\n",
              "      <td>0.001284</td>\n",
              "      <td>0.006049</td>\n",
              "      <td>0.510102</td>\n",
              "      <td>0.006776</td>\n",
              "      <td>0.064241</td>\n",
              "      <td>2.407535</td>\n",
              "    </tr>\n",
              "    <tr>\n",
              "      <th>QR Factorization</th>\n",
              "      <td>0.001087</td>\n",
              "      <td>0.006425</td>\n",
              "      <td>NaN</td>\n",
              "      <td>0.003872</td>\n",
              "      <td>0.044941</td>\n",
              "      <td>1.271616</td>\n",
              "      <td>0.027691</td>\n",
              "      <td>0.697593</td>\n",
              "      <td>11.452201</td>\n",
              "    </tr>\n",
              "    <tr>\n",
              "      <th>SVD</th>\n",
              "      <td>0.004084</td>\n",
              "      <td>0.069216</td>\n",
              "      <td>NaN</td>\n",
              "      <td>0.008536</td>\n",
              "      <td>0.117926</td>\n",
              "      <td>5.699254</td>\n",
              "      <td>0.049638</td>\n",
              "      <td>0.862575</td>\n",
              "      <td>19.737812</td>\n",
              "    </tr>\n",
              "    <tr>\n",
              "      <th>Scipy lstsq</th>\n",
              "      <td>0.003391</td>\n",
              "      <td>0.061438</td>\n",
              "      <td>NaN</td>\n",
              "      <td>0.005576</td>\n",
              "      <td>0.087808</td>\n",
              "      <td>3.463721</td>\n",
              "      <td>0.034988</td>\n",
              "      <td>0.430731</td>\n",
              "      <td>9.978616</td>\n",
              "    </tr>\n",
              "  </tbody>\n",
              "</table>\n",
              "</div>"
            ],
            "text/plain": [
              "# rows                   100                    1000                     \\\n",
              "# cols                    20       100  1000     20       100      1000   \n",
              "Normal Eqns- Naive    0.007973 0.004553  NaN 0.002328 0.016656 0.789696   \n",
              "Normal Eqns- Cholesky 0.001040 0.006658  NaN 0.001284 0.006049 0.510102   \n",
              "QR Factorization      0.001087 0.006425  NaN 0.003872 0.044941 1.271616   \n",
              "SVD                   0.004084 0.069216  NaN 0.008536 0.117926 5.699254   \n",
              "Scipy lstsq           0.003391 0.061438  NaN 0.005576 0.087808 3.463721   \n",
              "\n",
              "# rows                   10000                     \n",
              "# cols                    20       100       1000  \n",
              "Normal Eqns- Naive    0.023852 0.143463  6.006322  \n",
              "Normal Eqns- Cholesky 0.006776 0.064241  2.407535  \n",
              "QR Factorization      0.027691 0.697593 11.452201  \n",
              "SVD                   0.049638 0.862575 19.737812  \n",
              "Scipy lstsq           0.034988 0.430731  9.978616  "
            ]
          },
          "metadata": {
            "tags": []
          },
          "execution_count": 53
        }
      ]
    },
    {
      "metadata": {
        "id": "8-GLfLvZld0f",
        "colab_type": "code",
        "colab": {
          "base_uri": "https://localhost:8080/",
          "height": 225
        },
        "outputId": "82af33b9-d03d-484a-a9d8-e6f9a79956d4"
      },
      "cell_type": "code",
      "source": [
        "df_error"
      ],
      "execution_count": 54,
      "outputs": [
        {
          "output_type": "execute_result",
          "data": {
            "text/html": [
              "<div>\n",
              "<style scoped>\n",
              "    .dataframe tbody tr th:only-of-type {\n",
              "        vertical-align: middle;\n",
              "    }\n",
              "\n",
              "    .dataframe tbody tr th {\n",
              "        vertical-align: top;\n",
              "    }\n",
              "\n",
              "    .dataframe thead tr th {\n",
              "        text-align: left;\n",
              "    }\n",
              "</style>\n",
              "<table border=\"1\" class=\"dataframe\">\n",
              "  <thead>\n",
              "    <tr>\n",
              "      <th># rows</th>\n",
              "      <th colspan=\"3\" halign=\"left\">100</th>\n",
              "      <th colspan=\"3\" halign=\"left\">1000</th>\n",
              "      <th colspan=\"3\" halign=\"left\">10000</th>\n",
              "    </tr>\n",
              "    <tr>\n",
              "      <th># cols</th>\n",
              "      <th>20</th>\n",
              "      <th>100</th>\n",
              "      <th>1000</th>\n",
              "      <th>20</th>\n",
              "      <th>100</th>\n",
              "      <th>1000</th>\n",
              "      <th>20</th>\n",
              "      <th>100</th>\n",
              "      <th>1000</th>\n",
              "    </tr>\n",
              "  </thead>\n",
              "  <tbody>\n",
              "    <tr>\n",
              "      <th>Normal Eqns- Naive</th>\n",
              "      <td>1.786005</td>\n",
              "      <td>0.000000</td>\n",
              "      <td>NaN</td>\n",
              "      <td>2.013661</td>\n",
              "      <td>1.844199</td>\n",
              "      <td>0.000000</td>\n",
              "      <td>1.966557</td>\n",
              "      <td>1.994381</td>\n",
              "      <td>1.870033</td>\n",
              "    </tr>\n",
              "    <tr>\n",
              "      <th>Normal Eqns- Cholesky</th>\n",
              "      <td>1.786005</td>\n",
              "      <td>0.000000</td>\n",
              "      <td>NaN</td>\n",
              "      <td>2.013661</td>\n",
              "      <td>1.844199</td>\n",
              "      <td>0.000000</td>\n",
              "      <td>1.966557</td>\n",
              "      <td>1.994381</td>\n",
              "      <td>1.870033</td>\n",
              "    </tr>\n",
              "    <tr>\n",
              "      <th>QR Factorization</th>\n",
              "      <td>1.786005</td>\n",
              "      <td>0.000000</td>\n",
              "      <td>NaN</td>\n",
              "      <td>2.013661</td>\n",
              "      <td>1.844199</td>\n",
              "      <td>0.000000</td>\n",
              "      <td>1.966557</td>\n",
              "      <td>1.994381</td>\n",
              "      <td>1.870033</td>\n",
              "    </tr>\n",
              "    <tr>\n",
              "      <th>SVD</th>\n",
              "      <td>1.786005</td>\n",
              "      <td>0.000000</td>\n",
              "      <td>NaN</td>\n",
              "      <td>2.013661</td>\n",
              "      <td>1.844199</td>\n",
              "      <td>0.000000</td>\n",
              "      <td>1.966557</td>\n",
              "      <td>1.994381</td>\n",
              "      <td>1.870033</td>\n",
              "    </tr>\n",
              "    <tr>\n",
              "      <th>Scipy lstsq</th>\n",
              "      <td>1.786005</td>\n",
              "      <td>0.000000</td>\n",
              "      <td>NaN</td>\n",
              "      <td>2.013661</td>\n",
              "      <td>1.844199</td>\n",
              "      <td>0.000000</td>\n",
              "      <td>1.966557</td>\n",
              "      <td>1.994381</td>\n",
              "      <td>1.870033</td>\n",
              "    </tr>\n",
              "  </tbody>\n",
              "</table>\n",
              "</div>"
            ],
            "text/plain": [
              "# rows                   100                    1000                     \\\n",
              "# cols                    20       100  1000     20       100      1000   \n",
              "Normal Eqns- Naive    1.786005 0.000000  NaN 2.013661 1.844199 0.000000   \n",
              "Normal Eqns- Cholesky 1.786005 0.000000  NaN 2.013661 1.844199 0.000000   \n",
              "QR Factorization      1.786005 0.000000  NaN 2.013661 1.844199 0.000000   \n",
              "SVD                   1.786005 0.000000  NaN 2.013661 1.844199 0.000000   \n",
              "Scipy lstsq           1.786005 0.000000  NaN 2.013661 1.844199 0.000000   \n",
              "\n",
              "# rows                   10000                    \n",
              "# cols                    20       100      1000  \n",
              "Normal Eqns- Naive    1.966557 1.994381 1.870033  \n",
              "Normal Eqns- Cholesky 1.966557 1.994381 1.870033  \n",
              "QR Factorization      1.966557 1.994381 1.870033  \n",
              "SVD                   1.966557 1.994381 1.870033  \n",
              "Scipy lstsq           1.966557 1.994381 1.870033  "
            ]
          },
          "metadata": {
            "tags": []
          },
          "execution_count": 54
        }
      ]
    },
    {
      "metadata": {
        "id": "zcF8G601lhHt",
        "colab_type": "code",
        "colab": {}
      },
      "cell_type": "code",
      "source": [
        "store = pd.HDFStore('least_squares_results.h5')"
      ],
      "execution_count": 0,
      "outputs": []
    },
    {
      "metadata": {
        "id": "AD7pPLgnljyO",
        "colab_type": "code",
        "colab": {}
      },
      "cell_type": "code",
      "source": [
        "store['df'] = df"
      ],
      "execution_count": 0,
      "outputs": []
    },
    {
      "metadata": {
        "id": "Yw69o9RamAPa",
        "colab_type": "text"
      },
      "cell_type": "markdown",
      "source": [
        "##Notas \n",
        "Utilicé el magick% prun para perfilar mi código.\n",
        "\n",
        "Alternativa: mínima desviación absoluta (regresión L1)\n",
        "\n",
        "Menos sensible a los valores atípicos que los mínimos cuadrados.\n",
        "\n",
        "No hay solución de forma cerrada, pero se puede resolver con programación lineal."
      ]
    },
    {
      "metadata": {
        "id": "PkfIM7s-mh9M",
        "colab_type": "text"
      },
      "cell_type": "markdown",
      "source": [
        "##Ejemplo de condicionamiento "
      ]
    },
    {
      "metadata": {
        "id": "wnEa-HZimDSU",
        "colab_type": "code",
        "colab": {}
      },
      "cell_type": "code",
      "source": [
        "A = [[1, 1000], [0, 1]]\n",
        "B = [[1, 1000], [0.001, 1]]"
      ],
      "execution_count": 0,
      "outputs": []
    },
    {
      "metadata": {
        "id": "JA4UPqwCmob2",
        "colab_type": "code",
        "colab": {}
      },
      "cell_type": "code",
      "source": [
        "wA, vrA = scipy.linalg.eig(A)\n",
        "wB, vrB = scipy.linalg.eig(B)"
      ],
      "execution_count": 0,
      "outputs": []
    },
    {
      "metadata": {
        "id": "K3OwAbGTmpv6",
        "colab_type": "code",
        "colab": {
          "base_uri": "https://localhost:8080/",
          "height": 34
        },
        "outputId": "5becca17-8c7a-469e-b538-1b78c9d0339b"
      },
      "cell_type": "code",
      "source": [
        "wA, wB"
      ],
      "execution_count": 59,
      "outputs": [
        {
          "output_type": "execute_result",
          "data": {
            "text/plain": [
              "(array([1.+0.j, 1.+0.j]), array([2.+0.j, 0.+0.j]))"
            ]
          },
          "metadata": {
            "tags": []
          },
          "execution_count": 59
        }
      ]
    },
    {
      "metadata": {
        "id": "HIcrJUL6nYIv",
        "colab_type": "text"
      },
      "cell_type": "markdown",
      "source": [
        "##La inversión matricial es inestable "
      ]
    },
    {
      "metadata": {
        "id": "cq849_CEmrqp",
        "colab_type": "code",
        "colab": {}
      },
      "cell_type": "code",
      "source": [
        "from scipy.linalg import hilbert"
      ],
      "execution_count": 0,
      "outputs": []
    },
    {
      "metadata": {
        "id": "dMLu2ahpndG1",
        "colab_type": "code",
        "colab": {}
      },
      "cell_type": "code",
      "source": [
        "n = 14\n",
        "A = hilbert(n)\n",
        "x = np.random.uniform(-10,10,n)\n",
        "b = A @ x"
      ],
      "execution_count": 0,
      "outputs": []
    },
    {
      "metadata": {
        "id": "jxOyKYTpnedW",
        "colab_type": "code",
        "colab": {}
      },
      "cell_type": "code",
      "source": [
        "A_inv = np.linalg.inv(A)"
      ],
      "execution_count": 0,
      "outputs": []
    },
    {
      "metadata": {
        "id": "0fukIh7rnf3Z",
        "colab_type": "code",
        "colab": {
          "base_uri": "https://localhost:8080/",
          "height": 34
        },
        "outputId": "e5e66252-916e-47a1-dc13-98792f7bb0d3"
      },
      "cell_type": "code",
      "source": [
        "np.linalg.norm(np.eye(n) - A @ A_inv)"
      ],
      "execution_count": 63,
      "outputs": [
        {
          "output_type": "execute_result",
          "data": {
            "text/plain": [
              "4.63098333381631"
            ]
          },
          "metadata": {
            "tags": []
          },
          "execution_count": 63
        }
      ]
    },
    {
      "metadata": {
        "id": "d1ToL6A1niQM",
        "colab_type": "code",
        "colab": {
          "base_uri": "https://localhost:8080/",
          "height": 34
        },
        "outputId": "768ba724-c4d5-474c-ee4b-ae788e33f8ae"
      },
      "cell_type": "code",
      "source": [
        "np.linalg.cond(A)"
      ],
      "execution_count": 64,
      "outputs": [
        {
          "output_type": "execute_result",
          "data": {
            "text/plain": [
              "6.200786263161444e+17"
            ]
          },
          "metadata": {
            "tags": []
          },
          "execution_count": 64
        }
      ]
    },
    {
      "metadata": {
        "id": "1d31cwAlnjpI",
        "colab_type": "code",
        "colab": {
          "base_uri": "https://localhost:8080/",
          "height": 487
        },
        "outputId": "fe479469-8477-4627-f8a8-41320c4dc6da"
      },
      "cell_type": "code",
      "source": [
        "A @ A_inv"
      ],
      "execution_count": 65,
      "outputs": [
        {
          "output_type": "execute_result",
          "data": {
            "text/plain": [
              "array([[ 1.    ,  0.    ,  0.    ,  0.0003, -0.0008, -0.0033, -0.0557,\n",
              "        -0.0587, -0.0236,  0.3125,  0.0879, -0.1484,  0.0065, -0.0569],\n",
              "       [-0.    ,  1.    , -0.0001,  0.0014, -0.0126,  0.0785, -0.2299,\n",
              "         0.2113, -0.2763,  0.625 , -0.9451, -0.1367,  0.1234, -0.0101],\n",
              "       [ 0.    , -0.    ,  1.    , -0.0002,  0.002 ,  0.002 , -0.0469,\n",
              "        -0.0156,  0.3125,  0.125 , -0.2812, -0.0312,  0.    , -0.0127],\n",
              "       [ 0.    ,  0.    ,  0.    ,  0.9999,  0.0047, -0.0407,  0.0894,\n",
              "        -0.6306,  0.9308, -1.4375,  1.2176, -1.0351,  0.4388, -0.0656],\n",
              "       [ 0.    , -0.    ,  0.    , -0.    ,  1.0011,  0.0031,  0.0148,\n",
              "        -0.1498,  0.4747,  0.    ,  0.2246, -0.0547,  0.0454, -0.0039],\n",
              "       [ 0.    , -0.    ,  0.    , -0.0002,  0.0062,  0.964 ,  0.0511,\n",
              "        -0.3853,  0.6504, -0.4688,  0.5615, -0.2886,  0.2377, -0.0267],\n",
              "       [ 0.    , -0.    ,  0.    , -0.0005,  0.007 , -0.0264,  1.0179,\n",
              "        -0.2277,  0.6103, -0.2188,  0.1478, -0.1211,  0.0712, -0.0013],\n",
              "       [-0.    , -0.    ,  0.    ,  0.0002,  0.0009, -0.0055,  0.0384,\n",
              "         0.9296,  0.2239, -0.1875,  0.3086, -0.1875,  0.1137, -0.0081],\n",
              "       [ 0.    , -0.    ,  0.    , -0.0007,  0.0071, -0.0468,  0.1594,\n",
              "        -0.6134,  2.0899, -1.375 ,  1.2291, -0.8576,  0.336 , -0.0507],\n",
              "       [-0.    , -0.    ,  0.    , -0.0001,  0.0026, -0.0024, -0.0305,\n",
              "        -0.0885,  0.1898,  1.    , -0.1539, -0.0812,  0.0166,  0.0062],\n",
              "       [ 0.    , -0.    , -0.    , -0.0001,  0.0012, -0.0099,  0.0268,\n",
              "        -0.1045,  0.1998, -0.375 ,  1.0435, -0.1308,  0.078 , -0.0024],\n",
              "       [ 0.    , -0.    ,  0.    , -0.0004,  0.0057, -0.0331,  0.114 ,\n",
              "        -0.3636,  0.9706, -0.9375,  0.6756,  0.4871,  0.2194, -0.024 ],\n",
              "       [ 0.    , -0.    ,  0.    , -0.0003,  0.0026, -0.0082, -0.0202,\n",
              "         0.1145,  0.0151,  0.5938, -0.6964,  0.3672,  0.849 ,  0.0227],\n",
              "       [-0.    ,  0.    , -0.    ,  0.0003, -0.0026,  0.0154, -0.0878,\n",
              "         0.1345, -0.3189,  0.4688, -0.9179,  0.375 , -0.0765,  1.0153]])"
            ]
          },
          "metadata": {
            "tags": []
          },
          "execution_count": 65
        }
      ]
    },
    {
      "metadata": {
        "id": "WXDRP9DSnlQc",
        "colab_type": "code",
        "colab": {}
      },
      "cell_type": "code",
      "source": [
        "row_names = ['Normal Eqns- Naive',\n",
        "             'QR Factorization', \n",
        "             'SVD', \n",
        "             'Scipy lstsq']\n",
        "\n",
        "name2func = {'Normal Eqns- Naive': 'ls_naive', \n",
        "             'QR Factorization': 'ls_qr',\n",
        "             'SVD': 'ls_svd',\n",
        "             'Scipy lstsq': 'scipylstq'}"
      ],
      "execution_count": 0,
      "outputs": []
    },
    {
      "metadata": {
        "id": "gkgbgiHRoEAJ",
        "colab_type": "code",
        "colab": {}
      },
      "cell_type": "code",
      "source": [
        "pd.options.display.float_format = '{:,.9f}'.format\n",
        "df = pd.DataFrame(index=row_names, columns=['Time', 'Error'])"
      ],
      "execution_count": 0,
      "outputs": []
    },
    {
      "metadata": {
        "id": "G_-aCz7foFs3",
        "colab_type": "code",
        "colab": {
          "base_uri": "https://localhost:8080/",
          "height": 104
        },
        "outputId": "46b4d869-698b-4de8-c82d-5d641027dce2"
      },
      "cell_type": "code",
      "source": [
        "for name in row_names:\n",
        "    fcn = name2func[name]\n",
        "    t = timeit.timeit(fcn + '(A,b)', number=5, globals=globals())\n",
        "    coeffs = locals()[fcn](A, b)\n",
        "    df.set_value(name, 'Time', t)\n",
        "    df.set_value(name, 'Error', regr_metrics(b, A @ coeffs)[0])"
      ],
      "execution_count": 68,
      "outputs": [
        {
          "output_type": "stream",
          "text": [
            "/usr/local/lib/python3.6/dist-packages/ipykernel_launcher.py:5: FutureWarning: set_value is deprecated and will be removed in a future release. Please use .at[] or .iat[] accessors instead\n",
            "  \"\"\"\n",
            "/usr/local/lib/python3.6/dist-packages/ipykernel_launcher.py:6: FutureWarning: set_value is deprecated and will be removed in a future release. Please use .at[] or .iat[] accessors instead\n",
            "  \n"
          ],
          "name": "stderr"
        }
      ]
    },
    {
      "metadata": {
        "id": "mLpVxoLaoIED",
        "colab_type": "code",
        "colab": {
          "base_uri": "https://localhost:8080/",
          "height": 166
        },
        "outputId": "19b7206a-010b-4764-b200-785f283192ce"
      },
      "cell_type": "code",
      "source": [
        "df"
      ],
      "execution_count": 69,
      "outputs": [
        {
          "output_type": "execute_result",
          "data": {
            "text/html": [
              "<div>\n",
              "<style scoped>\n",
              "    .dataframe tbody tr th:only-of-type {\n",
              "        vertical-align: middle;\n",
              "    }\n",
              "\n",
              "    .dataframe tbody tr th {\n",
              "        vertical-align: top;\n",
              "    }\n",
              "\n",
              "    .dataframe thead th {\n",
              "        text-align: right;\n",
              "    }\n",
              "</style>\n",
              "<table border=\"1\" class=\"dataframe\">\n",
              "  <thead>\n",
              "    <tr style=\"text-align: right;\">\n",
              "      <th></th>\n",
              "      <th>Time</th>\n",
              "      <th>Error</th>\n",
              "    </tr>\n",
              "  </thead>\n",
              "  <tbody>\n",
              "    <tr>\n",
              "      <th>Normal Eqns- Naive</th>\n",
              "      <td>0.003623464</td>\n",
              "      <td>2.055097427</td>\n",
              "    </tr>\n",
              "    <tr>\n",
              "      <th>QR Factorization</th>\n",
              "      <td>0.001393888</td>\n",
              "      <td>0.000000000</td>\n",
              "    </tr>\n",
              "    <tr>\n",
              "      <th>SVD</th>\n",
              "      <td>0.005120002</td>\n",
              "      <td>0.000000000</td>\n",
              "    </tr>\n",
              "    <tr>\n",
              "      <th>Scipy lstsq</th>\n",
              "      <td>0.001018512</td>\n",
              "      <td>0.000000000</td>\n",
              "    </tr>\n",
              "  </tbody>\n",
              "</table>\n",
              "</div>"
            ],
            "text/plain": [
              "                          Time       Error\n",
              "Normal Eqns- Naive 0.003623464 2.055097427\n",
              "QR Factorization   0.001393888 0.000000000\n",
              "SVD                0.005120002 0.000000000\n",
              "Scipy lstsq        0.001018512 0.000000000"
            ]
          },
          "metadata": {
            "tags": []
          },
          "execution_count": 69
        }
      ]
    },
    {
      "metadata": {
        "id": "3vJHpT_Fpm2j",
        "colab_type": "code",
        "colab": {
          "base_uri": "https://localhost:8080/",
          "height": 166
        },
        "outputId": "fea86f8e-e510-4105-933b-72a7b1d7a14c"
      },
      "cell_type": "code",
      "source": [
        "df"
      ],
      "execution_count": 70,
      "outputs": [
        {
          "output_type": "execute_result",
          "data": {
            "text/html": [
              "<div>\n",
              "<style scoped>\n",
              "    .dataframe tbody tr th:only-of-type {\n",
              "        vertical-align: middle;\n",
              "    }\n",
              "\n",
              "    .dataframe tbody tr th {\n",
              "        vertical-align: top;\n",
              "    }\n",
              "\n",
              "    .dataframe thead th {\n",
              "        text-align: right;\n",
              "    }\n",
              "</style>\n",
              "<table border=\"1\" class=\"dataframe\">\n",
              "  <thead>\n",
              "    <tr style=\"text-align: right;\">\n",
              "      <th></th>\n",
              "      <th>Time</th>\n",
              "      <th>Error</th>\n",
              "    </tr>\n",
              "  </thead>\n",
              "  <tbody>\n",
              "    <tr>\n",
              "      <th>Normal Eqns- Naive</th>\n",
              "      <td>0.003623464</td>\n",
              "      <td>2.055097427</td>\n",
              "    </tr>\n",
              "    <tr>\n",
              "      <th>QR Factorization</th>\n",
              "      <td>0.001393888</td>\n",
              "      <td>0.000000000</td>\n",
              "    </tr>\n",
              "    <tr>\n",
              "      <th>SVD</th>\n",
              "      <td>0.005120002</td>\n",
              "      <td>0.000000000</td>\n",
              "    </tr>\n",
              "    <tr>\n",
              "      <th>Scipy lstsq</th>\n",
              "      <td>0.001018512</td>\n",
              "      <td>0.000000000</td>\n",
              "    </tr>\n",
              "  </tbody>\n",
              "</table>\n",
              "</div>"
            ],
            "text/plain": [
              "                          Time       Error\n",
              "Normal Eqns- Naive 0.003623464 2.055097427\n",
              "QR Factorization   0.001393888 0.000000000\n",
              "SVD                0.005120002 0.000000000\n",
              "Scipy lstsq        0.001018512 0.000000000"
            ]
          },
          "metadata": {
            "tags": []
          },
          "execution_count": 70
        }
      ]
    },
    {
      "metadata": {
        "id": "dqYNYDxnq5L1",
        "colab_type": "text"
      },
      "cell_type": "markdown",
      "source": [
        "##QR"
      ]
    },
    {
      "metadata": {
        "id": "MxLLbcm1psJH",
        "colab_type": "code",
        "colab": {}
      },
      "cell_type": "code",
      "source": [
        "m=100\n",
        "n=15\n",
        "t=np.linspace(0, 1, m)"
      ],
      "execution_count": 0,
      "outputs": []
    },
    {
      "metadata": {
        "id": "x47h8akKq9Ph",
        "colab_type": "code",
        "colab": {}
      },
      "cell_type": "code",
      "source": [
        "# Vandermonde matrix\n",
        "A=np.stack([t**i for i in range(n)], 1)"
      ],
      "execution_count": 0,
      "outputs": []
    },
    {
      "metadata": {
        "id": "DqOOLJf3q_yZ",
        "colab_type": "code",
        "colab": {}
      },
      "cell_type": "code",
      "source": [
        "b=np.exp(np.sin(4*t))\n",
        "\n",
        "# This will turn out to normalize the solution to be 1\n",
        "b /= 2006.787453080206"
      ],
      "execution_count": 0,
      "outputs": []
    },
    {
      "metadata": {
        "id": "efHzMKCerIQQ",
        "colab_type": "code",
        "colab": {}
      },
      "cell_type": "code",
      "source": [
        "from matplotlib import pyplot as plt\n",
        "%matplotlib inline"
      ],
      "execution_count": 0,
      "outputs": []
    },
    {
      "metadata": {
        "id": "by8zPlmnrJ8P",
        "colab_type": "code",
        "colab": {
          "base_uri": "https://localhost:8080/",
          "height": 284
        },
        "outputId": "67a8af3c-1b40-49fe-cca8-f59aadfe1e7c"
      },
      "cell_type": "code",
      "source": [
        "plt.plot(t, b)"
      ],
      "execution_count": 75,
      "outputs": [
        {
          "output_type": "execute_result",
          "data": {
            "text/plain": [
              "[<matplotlib.lines.Line2D at 0x7f9f25bd62e8>]"
            ]
          },
          "metadata": {
            "tags": []
          },
          "execution_count": 75
        },
        {
          "output_type": "display_data",
          "data": {
            "image/png": "[encoded data removed]",
            "text/plain": [
              "<matplotlib.figure.Figure at 0x7f9f25b60160>"
            ]
          },
          "metadata": {
            "tags": []
          }
        }
      ]
    },
    {
      "metadata": {
        "id": "2pKnLBwOrLaV",
        "colab_type": "code",
        "colab": {
          "base_uri": "https://localhost:8080/",
          "height": 34
        },
        "outputId": "f7a3bce0-8c7d-41df-96fd-2dbd0307b080"
      },
      "cell_type": "code",
      "source": [
        "1 - ls_qr(A, b)[14]"
      ],
      "execution_count": 76,
      "outputs": [
        {
          "output_type": "execute_result",
          "data": {
            "text/plain": [
              "7.818991876185066e-08"
            ]
          },
          "metadata": {
            "tags": []
          },
          "execution_count": 76
        }
      ]
    },
    {
      "metadata": {
        "id": "FRT6iK9LrNmu",
        "colab_type": "code",
        "colab": {
          "base_uri": "https://localhost:8080/",
          "height": 34
        },
        "outputId": "01b7d1da-20c3-4fb3-fe0c-d3b3e9bff78e"
      },
      "cell_type": "code",
      "source": [
        "kappa = np.linalg.cond(A); kappa"
      ],
      "execution_count": 77,
      "outputs": [
        {
          "output_type": "execute_result",
          "data": {
            "text/plain": [
              "22717772123.079235"
            ]
          },
          "metadata": {
            "tags": []
          },
          "execution_count": 77
        }
      ]
    },
    {
      "metadata": {
        "id": "GPaMrFPYrQez",
        "colab_type": "code",
        "colab": {}
      },
      "cell_type": "code",
      "source": [
        "row_names = ['Normal Eqns- Naive',\n",
        "             'QR Factorization', \n",
        "             'SVD', \n",
        "             'Scipy lstsq']\n",
        "\n",
        "name2func = {'Normal Eqns- Naive': 'ls_naive', \n",
        "             'QR Factorization': 'ls_qr',\n",
        "             'SVD': 'ls_svd',\n",
        "             'Scipy lstsq': 'scipylstq'}"
      ],
      "execution_count": 0,
      "outputs": []
    },
    {
      "metadata": {
        "id": "cGCUB6ECrTTG",
        "colab_type": "code",
        "colab": {}
      },
      "cell_type": "code",
      "source": [
        "pd.options.display.float_format = '{:,.9f}'.format\n",
        "df = pd.DataFrame(index=row_names, columns=['Time', 'Error'])"
      ],
      "execution_count": 0,
      "outputs": []
    },
    {
      "metadata": {
        "id": "Ui2ZRpeCrVeH",
        "colab_type": "code",
        "colab": {
          "base_uri": "https://localhost:8080/",
          "height": 104
        },
        "outputId": "d8d14947-d8a6-4d11-8d40-be1c450dc0bc"
      },
      "cell_type": "code",
      "source": [
        "for name in row_names:\n",
        "    fcn = name2func[name]\n",
        "    t = timeit.timeit(fcn + '(A,b)', number=5, globals=globals())\n",
        "    coeffs = locals()[fcn](A, b)\n",
        "    df.set_value(name, 'Time', t)\n",
        "    df.set_value(name, 'Error', np.abs(1 - coeffs[-1]))"
      ],
      "execution_count": 80,
      "outputs": [
        {
          "output_type": "stream",
          "text": [
            "/usr/local/lib/python3.6/dist-packages/ipykernel_launcher.py:5: FutureWarning: set_value is deprecated and will be removed in a future release. Please use .at[] or .iat[] accessors instead\n",
            "  \"\"\"\n",
            "/usr/local/lib/python3.6/dist-packages/ipykernel_launcher.py:6: FutureWarning: set_value is deprecated and will be removed in a future release. Please use .at[] or .iat[] accessors instead\n",
            "  \n"
          ],
          "name": "stderr"
        }
      ]
    },
    {
      "metadata": {
        "id": "yfYg_7FSrW6d",
        "colab_type": "code",
        "colab": {
          "base_uri": "https://localhost:8080/",
          "height": 166
        },
        "outputId": "392c59af-d925-4aa9-9a30-740642bdece3"
      },
      "cell_type": "code",
      "source": [
        "df"
      ],
      "execution_count": 81,
      "outputs": [
        {
          "output_type": "execute_result",
          "data": {
            "text/html": [
              "<div>\n",
              "<style scoped>\n",
              "    .dataframe tbody tr th:only-of-type {\n",
              "        vertical-align: middle;\n",
              "    }\n",
              "\n",
              "    .dataframe tbody tr th {\n",
              "        vertical-align: top;\n",
              "    }\n",
              "\n",
              "    .dataframe thead th {\n",
              "        text-align: right;\n",
              "    }\n",
              "</style>\n",
              "<table border=\"1\" class=\"dataframe\">\n",
              "  <thead>\n",
              "    <tr style=\"text-align: right;\">\n",
              "      <th></th>\n",
              "      <th>Time</th>\n",
              "      <th>Error</th>\n",
              "    </tr>\n",
              "  </thead>\n",
              "  <tbody>\n",
              "    <tr>\n",
              "      <th>Normal Eqns- Naive</th>\n",
              "      <td>0.009902263</td>\n",
              "      <td>0.793144747</td>\n",
              "    </tr>\n",
              "    <tr>\n",
              "      <th>QR Factorization</th>\n",
              "      <td>0.002030079</td>\n",
              "      <td>0.000000078</td>\n",
              "    </tr>\n",
              "    <tr>\n",
              "      <th>SVD</th>\n",
              "      <td>0.002271685</td>\n",
              "      <td>0.000000078</td>\n",
              "    </tr>\n",
              "    <tr>\n",
              "      <th>Scipy lstsq</th>\n",
              "      <td>0.006447878</td>\n",
              "      <td>0.000000078</td>\n",
              "    </tr>\n",
              "  </tbody>\n",
              "</table>\n",
              "</div>"
            ],
            "text/plain": [
              "                          Time       Error\n",
              "Normal Eqns- Naive 0.009902263 0.793144747\n",
              "QR Factorization   0.002030079 0.000000078\n",
              "SVD                0.002271685 0.000000078\n",
              "Scipy lstsq        0.006447878 0.000000078"
            ]
          },
          "metadata": {
            "tags": []
          },
          "execution_count": 81
        }
      ]
    },
    {
      "metadata": {
        "id": "NVrIPfzDrcq8",
        "colab_type": "text"
      },
      "cell_type": "markdown",
      "source": [
        "##Bajo rango"
      ]
    },
    {
      "metadata": {
        "id": "g39-LLO1rYTe",
        "colab_type": "code",
        "colab": {}
      },
      "cell_type": "code",
      "source": [
        "m = 100\n",
        "n = 10\n",
        "x = np.random.uniform(-10,10,n)\n",
        "A2 = np.random.uniform(-40,40, [m, int(n/2)])   # removed np.asfortranarray\n",
        "A = np.hstack([A2, A2])"
      ],
      "execution_count": 0,
      "outputs": []
    },
    {
      "metadata": {
        "id": "44NyesAqriPe",
        "colab_type": "code",
        "colab": {
          "base_uri": "https://localhost:8080/",
          "height": 34
        },
        "outputId": "51dc2ff1-a142-4105-9c1c-fe304b86d4dd"
      },
      "cell_type": "code",
      "source": [
        "A.shape, A2.shape"
      ],
      "execution_count": 83,
      "outputs": [
        {
          "output_type": "execute_result",
          "data": {
            "text/plain": [
              "((100, 10), (100, 5))"
            ]
          },
          "metadata": {
            "tags": []
          },
          "execution_count": 83
        }
      ]
    },
    {
      "metadata": {
        "id": "-u2W6geZrjmK",
        "colab_type": "code",
        "colab": {}
      },
      "cell_type": "code",
      "source": [
        "b = A @ x + np.random.normal(0,1,m)"
      ],
      "execution_count": 0,
      "outputs": []
    },
    {
      "metadata": {
        "id": "FNeF76MKrlS0",
        "colab_type": "code",
        "colab": {}
      },
      "cell_type": "code",
      "source": [
        "row_names = ['Normal Eqns- Naive',\n",
        "             'QR Factorization', \n",
        "             'SVD', \n",
        "             'Scipy lstsq']\n",
        "\n",
        "name2func = {'Normal Eqns- Naive': 'ls_naive', \n",
        "             'QR Factorization': 'ls_qr',\n",
        "             'SVD': 'ls_svd',\n",
        "             'Scipy lstsq': 'scipylstq'}"
      ],
      "execution_count": 0,
      "outputs": []
    },
    {
      "metadata": {
        "id": "hgFuACNWro6B",
        "colab_type": "code",
        "colab": {}
      },
      "cell_type": "code",
      "source": [
        "pd.options.display.float_format = '{:,.9f}'.format\n",
        "df = pd.DataFrame(index=row_names, columns=['Time', 'Error'])"
      ],
      "execution_count": 0,
      "outputs": []
    },
    {
      "metadata": {
        "id": "ptpNRmQJq03S",
        "colab_type": "text"
      },
      "cell_type": "markdown",
      "source": [
        "Desde Trefethen (página 84):\n",
        "\n",
        "Ecuaciones normales / Cholesky es más rápido cuando funciona. Cholesky solo se puede utilizar en matrices definidas positivas simétricas. Además, las ecuaciones normales / Cholesky son inestables para matrices con números de condición altos o con rango bajo.\n",
        "\n",
        "La regresión lineal a través de QR ha sido recomendada por los analistas numéricos como el método estándar durante años. Es natural, elegante y bueno para el \"uso diario\"."
      ]
    }
  ]
}