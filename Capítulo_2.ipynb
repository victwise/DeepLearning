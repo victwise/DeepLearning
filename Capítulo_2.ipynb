{
  "nbformat": 4,
  "nbformat_minor": 0,
  "metadata": {
    "colab": {
      "name": "Capítulo_2.ipynb",
      "version": "0.3.2",
      "provenance": [],
      "collapsed_sections": [],
      "toc_visible": true,
      "include_colab_link": true
    },
    "kernelspec": {
      "name": "python3",
      "display_name": "Python 3"
    }
  },
  "cells": [
    {
      "cell_type": "markdown",
      "metadata": {
        "id": "view-in-github",
        "colab_type": "text"
      },
      "source": [
        "[![Open In Colab](https://colab.research.google.com/assets/colab-badge.svg)](https://colab.research.google.com/github/victwise/fastai_numerical_linear_algebra/blob/master/Cap%C3%ADtulo_2.ipynb)"
      ]
    },
    {
      "metadata": {
        "id": "E4ZGK-I4hANA",
        "colab_type": "text"
      },
      "cell_type": "markdown",
      "source": [
        "# Modelando con NMF y SVD"
      ]
    },
    {
      "metadata": {
        "id": "drehWWyThGLQ",
        "colab_type": "code",
        "colab": {}
      },
      "cell_type": "code",
      "source": [
        "import numpy as np\n",
        "from sklearn.datasets import fetch_20newsgroups\n",
        "from sklearn import decomposition\n",
        "from scipy import linalg\n",
        "import matplotlib.pyplot as plt"
      ],
      "execution_count": 0,
      "outputs": []
    },
    {
      "metadata": {
        "id": "RRA9eSo7nb8T",
        "colab_type": "code",
        "colab": {}
      },
      "cell_type": "code",
      "source": [
        "%matplotlib inline\n",
        "np.set_printoptions(suppress=True)"
      ],
      "execution_count": 0,
      "outputs": []
    },
    {
      "metadata": {
        "id": "iJ_UAXrBn7xd",
        "colab_type": "text"
      },
      "cell_type": "markdown",
      "source": [
        "Configurando Datos"
      ]
    },
    {
      "metadata": {
        "id": "uDeC3vuan-mA",
        "colab_type": "code",
        "colab": {
          "base_uri": "https://localhost:8080/",
          "height": 51
        },
        "outputId": "385d3144-3d2e-4faf-d091-da337eea2bc8"
      },
      "cell_type": "code",
      "source": [
        "categories = ['alt.atheism', 'talk.religion.misc', 'comp.graphics', 'sci.space']\n",
        "remove = ('headers', 'footers', 'quotes')\n",
        "newsgroups_train = fetch_20newsgroups(subset='train', categories=categories, remove=remove)\n",
        "newsgroups_test = fetch_20newsgroups(subset='test', categories=categories, remove=remove)"
      ],
      "execution_count": 3,
      "outputs": [
        {
          "output_type": "stream",
          "text": [
            "Downloading 20news dataset. This may take a few minutes.\n",
            "Downloading dataset from https://ndownloader.figshare.com/files/5975967 (14 MB)\n"
          ],
          "name": "stderr"
        }
      ]
    },
    {
      "metadata": {
        "id": "i-MRg55XoAA6",
        "colab_type": "code",
        "colab": {
          "base_uri": "https://localhost:8080/",
          "height": 34
        },
        "outputId": "174838c3-baeb-4c0f-8af1-13c2283e2971"
      },
      "cell_type": "code",
      "source": [
        "newsgroups_train.filenames.shape, newsgroups_train.target.shape"
      ],
      "execution_count": 4,
      "outputs": [
        {
          "output_type": "execute_result",
          "data": {
            "text/plain": [
              "((2034,), (2034,))"
            ]
          },
          "metadata": {
            "tags": []
          },
          "execution_count": 4
        }
      ]
    },
    {
      "metadata": {
        "id": "o80vvCLwomyb",
        "colab_type": "code",
        "colab": {
          "base_uri": "https://localhost:8080/",
          "height": 612
        },
        "outputId": "19baf3a6-5f54-4953-a0e6-84402ffc600f"
      },
      "cell_type": "code",
      "source": [
        "print(\"\\n\".join(newsgroups_train.data[:3]))"
      ],
      "execution_count": 5,
      "outputs": [
        {
          "output_type": "stream",
          "text": [
            "Hi,\n",
            "\n",
            "I've noticed that if you only save a model (with all your mapping planes\n",
            "positioned carefully) to a .3DS file that when you reload it after restarting\n",
            "3DS, they are given a default position and orientation.  But if you save\n",
            "to a .PRJ file their positions/orientation are preserved.  Does anyone\n",
            "know why this information is not stored in the .3DS file?  Nothing is\n",
            "explicitly said in the manual about saving texture rules in the .PRJ file. \n",
            "I'd like to be able to read the texture rule information, does anyone have \n",
            "the format for the .PRJ file?\n",
            "\n",
            "Is the .CEL file format available from somewhere?\n",
            "\n",
            "Rych\n",
            "\n",
            "\n",
            "Seems to be, barring evidence to the contrary, that Koresh was simply\n",
            "another deranged fanatic who thought it neccessary to take a whole bunch of\n",
            "folks with him, children and all, to satisfy his delusional mania. Jim\n",
            "Jones, circa 1993.\n",
            "\n",
            "\n",
            "Nope - fruitcakes like Koresh have been demonstrating such evil corruption\n",
            "for centuries.\n",
            "\n",
            " >In article <1993Apr19.020359.26996@sq.sq.com>, msb@sq.sq.com (Mark Brader) \n",
            "\n",
            "MB>                                                             So the\n",
            "MB> 1970 figure seems unlikely to actually be anything but a perijove.\n",
            "\n",
            "JG>Sorry, _perijoves_...I'm not used to talking this language.\n",
            "\n",
            "Couldn't we just say periapsis or apoapsis?\n",
            "\n",
            " \n"
          ],
          "name": "stdout"
        }
      ]
    },
    {
      "metadata": {
        "id": "2Z6wPq2_o-1n",
        "colab_type": "code",
        "colab": {
          "base_uri": "https://localhost:8080/",
          "height": 34
        },
        "outputId": "9bfadf5b-88a9-4761-bc53-ccec53604308"
      },
      "cell_type": "code",
      "source": [
        "newsgroups_train.target"
      ],
      "execution_count": 6,
      "outputs": [
        {
          "output_type": "execute_result",
          "data": {
            "text/plain": [
              "array([1, 3, 2, ..., 1, 0, 1])"
            ]
          },
          "metadata": {
            "tags": []
          },
          "execution_count": 6
        }
      ]
    },
    {
      "metadata": {
        "id": "XzRCKRYzpZNT",
        "colab_type": "code",
        "colab": {
          "base_uri": "https://localhost:8080/",
          "height": 51
        },
        "outputId": "205402a6-2469-4aca-e5ba-fcd98f184f39"
      },
      "cell_type": "code",
      "source": [
        "np.array(newsgroups_train.target_names)[newsgroups_train.target[:]]"
      ],
      "execution_count": 7,
      "outputs": [
        {
          "output_type": "execute_result",
          "data": {
            "text/plain": [
              "array(['comp.graphics', 'talk.religion.misc', 'sci.space', ...,\n",
              "       'comp.graphics', 'alt.atheism', 'comp.graphics'], dtype='<U18')"
            ]
          },
          "metadata": {
            "tags": []
          },
          "execution_count": 7
        }
      ]
    },
    {
      "metadata": {
        "id": "TK-ORh4mpaG3",
        "colab_type": "code",
        "colab": {
          "base_uri": "https://localhost:8080/",
          "height": 34
        },
        "outputId": "1af1ef9c-c8af-45a2-e45e-f7b5e301578a"
      },
      "cell_type": "code",
      "source": [
        "newsgroups_train.target[:10]"
      ],
      "execution_count": 8,
      "outputs": [
        {
          "output_type": "execute_result",
          "data": {
            "text/plain": [
              "array([1, 3, 2, 0, 2, 0, 2, 1, 2, 1])"
            ]
          },
          "metadata": {
            "tags": []
          },
          "execution_count": 8
        }
      ]
    },
    {
      "metadata": {
        "id": "-sEC8LcGpsMy",
        "colab_type": "code",
        "colab": {}
      },
      "cell_type": "code",
      "source": [
        "num_topics, num_top_words = 6, 8"
      ],
      "execution_count": 0,
      "outputs": []
    },
    {
      "metadata": {
        "id": "0hxG9FYGpywB",
        "colab_type": "code",
        "colab": {}
      },
      "cell_type": "code",
      "source": [
        "from sklearn.feature_extraction.text import CountVectorizer, TfidfVectorizer"
      ],
      "execution_count": 0,
      "outputs": []
    },
    {
      "metadata": {
        "id": "9qJnlB89v2s3",
        "colab_type": "code",
        "colab": {
          "base_uri": "https://localhost:8080/",
          "height": 34
        },
        "outputId": "326103f4-131b-4ea3-c3a9-dbce61a530bd"
      },
      "cell_type": "code",
      "source": [
        "vectorizer = CountVectorizer(stop_words='english')\n",
        "vectors = vectorizer.fit_transform(newsgroups_train.data).todense() # (documents, vocab)\n",
        "vectors.shape #, vectors.nnz / vectors.shape[0], row_means.shape"
      ],
      "execution_count": 11,
      "outputs": [
        {
          "output_type": "execute_result",
          "data": {
            "text/plain": [
              "(2034, 26576)"
            ]
          },
          "metadata": {
            "tags": []
          },
          "execution_count": 11
        }
      ]
    },
    {
      "metadata": {
        "id": "3ZbSSE6sv5eK",
        "colab_type": "code",
        "colab": {
          "base_uri": "https://localhost:8080/",
          "height": 34
        },
        "outputId": "3b620b04-d2ac-4282-8ac0-ea7ecd06d236"
      },
      "cell_type": "code",
      "source": [
        "print(len(newsgroups_train.data), vectors.shape)"
      ],
      "execution_count": 12,
      "outputs": [
        {
          "output_type": "stream",
          "text": [
            "2034 (2034, 26576)\n"
          ],
          "name": "stdout"
        }
      ]
    },
    {
      "metadata": {
        "id": "lWoh-lScv-15",
        "colab_type": "code",
        "colab": {}
      },
      "cell_type": "code",
      "source": [
        "vocab = np.array(vectorizer.get_feature_names())"
      ],
      "execution_count": 0,
      "outputs": []
    },
    {
      "metadata": {
        "id": "R9ZOC7PpwEZ-",
        "colab_type": "code",
        "colab": {
          "base_uri": "https://localhost:8080/",
          "height": 34
        },
        "outputId": "4a5d6f66-613e-4b2e-ebea-7f4109d9dd14"
      },
      "cell_type": "code",
      "source": [
        "vocab.shape"
      ],
      "execution_count": 14,
      "outputs": [
        {
          "output_type": "execute_result",
          "data": {
            "text/plain": [
              "(26576,)"
            ]
          },
          "metadata": {
            "tags": []
          },
          "execution_count": 14
        }
      ]
    },
    {
      "metadata": {
        "id": "LaRuqWA0wGjA",
        "colab_type": "code",
        "colab": {
          "base_uri": "https://localhost:8080/",
          "height": 85
        },
        "outputId": "bf12b705-98b2-4e5a-8567-5d489b6e9575"
      },
      "cell_type": "code",
      "source": [
        "vocab[7000:7020]"
      ],
      "execution_count": 15,
      "outputs": [
        {
          "output_type": "execute_result",
          "data": {
            "text/plain": [
              "array(['cosmonauts', 'cosmos', 'cosponsored', 'cost', 'costa', 'costar',\n",
              "       'costing', 'costly', 'costruction', 'costs', 'cosy', 'cote',\n",
              "       'couched', 'couldn', 'council', 'councils', 'counsel',\n",
              "       'counselees', 'counselor', 'count'], dtype='<U80')"
            ]
          },
          "metadata": {
            "tags": []
          },
          "execution_count": 15
        }
      ]
    },
    {
      "metadata": {
        "id": "yIf9YolBxC7J",
        "colab_type": "text"
      },
      "cell_type": "markdown",
      "source": [
        "#Descomposición de Valor Singular"
      ]
    },
    {
      "metadata": {
        "id": "okZhKGkGwJzs",
        "colab_type": "code",
        "colab": {
          "base_uri": "https://localhost:8080/",
          "height": 51
        },
        "outputId": "9bc42c40-8291-454d-88b6-cd206d8faf9a"
      },
      "cell_type": "code",
      "source": [
        "%time U, s, Vh = linalg.svd(vectors, full_matrices=False)"
      ],
      "execution_count": 16,
      "outputs": [
        {
          "output_type": "stream",
          "text": [
            "CPU times: user 2min 1s, sys: 8.14 s, total: 2min 9s\n",
            "Wall time: 1min 6s\n"
          ],
          "name": "stdout"
        }
      ]
    },
    {
      "metadata": {
        "id": "UPd94LesxBcS",
        "colab_type": "code",
        "colab": {
          "base_uri": "https://localhost:8080/",
          "height": 34
        },
        "outputId": "46aa48ce-9592-4005-8f04-aa105733425f"
      },
      "cell_type": "code",
      "source": [
        "print(U.shape, s.shape, Vh.shape)"
      ],
      "execution_count": 17,
      "outputs": [
        {
          "output_type": "stream",
          "text": [
            "(2034, 2034) (2034,) (2034, 26576)\n"
          ],
          "name": "stdout"
        }
      ]
    },
    {
      "metadata": {
        "id": "DKNOVXiskwO-",
        "colab_type": "text"
      },
      "cell_type": "markdown",
      "source": [
        "### Ejercicio: confirma que U, s, Vh es una descomposición de las variables vector "
      ]
    },
    {
      "metadata": {
        "id": "1bwKcnFExWCC",
        "colab_type": "code",
        "colab": {
          "base_uri": "https://localhost:8080/",
          "height": 34
        },
        "outputId": "94b7c4e6-d80b-4153-a4e8-8dccb44c4ccf"
      },
      "cell_type": "code",
      "source": [
        "#Obteniendo o creando la diagonal de un vector - np.diag\n",
        "#np.diag te permite obtener una matriz de un vector, o un vector de una matriz\n",
        "reconstruyendo_vector = U @ np.diag(s) @  Vh\n",
        "np.linalg.norm(reconstruyendo_vector - vectors)\n",
        "np.allclose(reconstruyendo_vector,vectors)"
      ],
      "execution_count": 18,
      "outputs": [
        {
          "output_type": "execute_result",
          "data": {
            "text/plain": [
              "True"
            ]
          },
          "metadata": {
            "tags": []
          },
          "execution_count": 18
        }
      ]
    },
    {
      "metadata": {
        "id": "zWzrrpbCuUap",
        "colab_type": "text"
      },
      "cell_type": "markdown",
      "source": [
        "###Ejercicio: confirme que U, Vh son ortonormales"
      ]
    },
    {
      "metadata": {
        "id": "oeWSjPCUoouW",
        "colab_type": "code",
        "colab": {
          "base_uri": "https://localhost:8080/",
          "height": 34
        },
        "outputId": "035a1e32-574d-4238-9bcf-cd5bd4797234"
      },
      "cell_type": "code",
      "source": [
        "#Ortogonales:Multiplicación de sus transposiciones y luego su comparación con su identidad\n",
        "#np.eye - Devuelve una matriz que tiene 1 en la diagonal y 0 en cualquier otra parte de la matriz\n",
        "np.allclose(U @ U.T, np.eye(U.shape[0]))\n",
        "np.allclose(Vh @ Vh.T, np.eye(Vh.shape[0]))"
      ],
      "execution_count": 20,
      "outputs": [
        {
          "output_type": "execute_result",
          "data": {
            "text/plain": [
              "True"
            ]
          },
          "metadata": {
            "tags": []
          },
          "execution_count": 20
        }
      ]
    },
    {
      "metadata": {
        "id": "aBShDwfEVXAh",
        "colab_type": "code",
        "colab": {
          "base_uri": "https://localhost:8080/",
          "height": 282
        },
        "outputId": "a7552379-8496-469a-8a90-3a100feb1060"
      },
      "cell_type": "code",
      "source": [
        "plt.plot(s)"
      ],
      "execution_count": 21,
      "outputs": [
        {
          "output_type": "execute_result",
          "data": {
            "text/plain": [
              "[<matplotlib.lines.Line2D at 0x7f0b2e7fdd68>]"
            ]
          },
          "metadata": {
            "tags": []
          },
          "execution_count": 21
        },
        {
          "output_type": "display_data",
          "data": {
            "image/png": "[encoded data removed]",
            "text/plain": [
              "<matplotlib.figure.Figure at 0x7f0b327f1198>"
            ]
          },
          "metadata": {
            "tags": []
          }
        }
      ]
    },
    {
      "metadata": {
        "id": "-C17p6i-VbqB",
        "colab_type": "code",
        "colab": {
          "base_uri": "https://localhost:8080/",
          "height": 287
        },
        "outputId": "f3c0f2df-be42-43c7-f6a3-0e052ed6812b"
      },
      "cell_type": "code",
      "source": [
        "plt.plot(s[:10])"
      ],
      "execution_count": 22,
      "outputs": [
        {
          "output_type": "execute_result",
          "data": {
            "text/plain": [
              "[<matplotlib.lines.Line2D at 0x7f0b2d948390>]"
            ]
          },
          "metadata": {
            "tags": []
          },
          "execution_count": 22
        },
        {
          "output_type": "display_data",
          "data": {
            "image/png": "[encoded data removed]",
            "text/plain": [
              "<matplotlib.figure.Figure at 0x7f0b2d9a1908>"
            ]
          },
          "metadata": {
            "tags": []
          }
        }
      ]
    },
    {
      "metadata": {
        "id": "Qezwu2AtVmlZ",
        "colab_type": "code",
        "colab": {}
      },
      "cell_type": "code",
      "source": [
        "#np.argsort - Devuelve los índices que clasificarían una matriz.\n",
        "#El método join () proporciona una forma flexible de concatenar strings. \n",
        "#Concatena cada elemento de forma iterable (como listas, strings y tuplas) y devuelve el string concatenado.\n",
        "\n",
        "\n",
        "num_top_words=8\n",
        "\n",
        "\n",
        "def show_topics(a):\n",
        "    top_words = lambda t: [vocab[i] for i in np.argsort(t)[:-num_top_words-1:-1]]\n",
        "    topic_words = ([top_words(t) for t in a])\n",
        "    return [' '.join(t) for t in topic_words]"
      ],
      "execution_count": 0,
      "outputs": []
    },
    {
      "metadata": {
        "id": "NbdbTYqSY1TA",
        "colab_type": "code",
        "colab": {
          "base_uri": "https://localhost:8080/",
          "height": 187
        },
        "outputId": "782bbb87-0a80-4ac6-e999-11e0a11a09c7"
      },
      "cell_type": "code",
      "source": [
        "show_topics(Vh[:10])"
      ],
      "execution_count": 30,
      "outputs": [
        {
          "output_type": "execute_result",
          "data": {
            "text/plain": [
              "['ditto critus propagandist surname galacticentric kindergarten surreal imaginative',\n",
              " 'jpeg gif file color quality image jfif format',\n",
              " 'graphics edu pub mail 128 3d ray ftp',\n",
              " 'jesus god matthew people atheists atheism does graphics',\n",
              " 'image data processing analysis software available tools display',\n",
              " 'god atheists atheism religious believe religion argument true',\n",
              " 'space nasa lunar mars probe moon missions probes',\n",
              " 'image probe surface lunar mars probes moon orbit',\n",
              " 'argument fallacy conclusion example true ad argumentum premises',\n",
              " 'space larson image theory universe physical nasa material']"
            ]
          },
          "metadata": {
            "tags": []
          },
          "execution_count": 30
        }
      ]
    },
    {
      "metadata": {
        "id": "U_NpvUvWaNvA",
        "colab_type": "text"
      },
      "cell_type": "markdown",
      "source": [
        "# Factorización matricial no negativa (NMF)"
      ]
    },
    {
      "metadata": {
        "id": "cij6YlQjaRZ3",
        "colab_type": "code",
        "colab": {}
      },
      "cell_type": "code",
      "source": [
        "#doc"
      ],
      "execution_count": 0,
      "outputs": []
    },
    {
      "metadata": {
        "id": "nrTrYZiEsYIz",
        "colab_type": "text"
      },
      "cell_type": "markdown",
      "source": [
        "Resources:\n",
        "\n",
        "\n",
        "*   Main: http://nbviewer.jupyter.org/github/fastai/numerical-linear-algebra/blob/master/nbs/2.%20Topic%20Modeling%20with%20NMF%20and%20SVD.ipynb\n",
        "*   Norms: https://machinelearningmastery.com/vector-norms-machine-learning/\n",
        "\n"
      ]
    }
  ]
}