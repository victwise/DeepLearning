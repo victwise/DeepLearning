{
  "nbformat": 4,
  "nbformat_minor": 0,
  "metadata": {
    "colab": {
      "name": "Capítulo_2.ipynb",
      "version": "0.3.2",
      "provenance": [],
      "collapsed_sections": [],
      "toc_visible": true,
      "include_colab_link": true
    },
    "kernelspec": {
      "name": "python3",
      "display_name": "Python 3"
    }
  },
  "cells": [
    {
      "cell_type": "markdown",
      "metadata": {
        "id": "view-in-github",
        "colab_type": "text"
      },
      "source": [
        "<a href=\"https://colab.research.google.com/github/victwise/fastai_numerical_linear_algebra/blob/master/Cap%C3%ADtulo_2.ipynb\" target=\"_parent\"><img src=\"https://colab.research.google.com/assets/colab-badge.svg\" alt=\"Open In Colab\"/></a>"
      ]
    },
    {
      "metadata": {
        "id": "nrTrYZiEsYIz",
        "colab_type": "text"
      },
      "cell_type": "markdown",
      "source": [
        "Resources:\n",
        "\n",
        "\n",
        "*   Main: http://nbviewer.jupyter.org/github/fastai/numerical-linear-algebra/blob/master/nbs/2.%20Topic%20Modeling%20with%20NMF%20and%20SVD.ipynb\n",
        "*   Norms: https://machinelearningmastery.com/vector-norms-machine-learning/\n",
        "*  SGD: https://machinelearningmastery.com/gradient-descent-for-machine-learning/\n",
        "\n"
      ]
    },
    {
      "metadata": {
        "id": "U0F3g8lfY7so",
        "colab_type": "code",
        "colab": {
          "base_uri": "https://localhost:8080/",
          "height": 12418
        },
        "outputId": "fa3c0cbf-855a-434c-cf1f-8f60a1b3626f"
      },
      "cell_type": "code",
      "source": [
        "! pip install ipywidgets\n",
        "!apt install ffmpeg"
      ],
      "execution_count": 19,
      "outputs": [
        {
          "output_type": "stream",
          "text": [
            "Requirement already satisfied: ipywidgets in /usr/local/lib/python3.6/dist-packages (7.4.2)\n",
            "Requirement already satisfied: ipython>=4.0.0; python_version >= \"3.3\" in /usr/local/lib/python3.6/dist-packages (from ipywidgets) (5.5.0)\n",
            "Requirement already satisfied: ipykernel>=4.5.1 in /usr/local/lib/python3.6/dist-packages (from ipywidgets) (4.6.1)\n",
            "Requirement already satisfied: widgetsnbextension~=3.4.0 in /usr/local/lib/python3.6/dist-packages (from ipywidgets) (3.4.2)\n",
            "Requirement already satisfied: traitlets>=4.3.1 in /usr/local/lib/python3.6/dist-packages (from ipywidgets) (4.3.2)\n",
            "Requirement already satisfied: nbformat>=4.2.0 in /usr/local/lib/python3.6/dist-packages (from ipywidgets) (4.4.0)\n",
            "Requirement already satisfied: pygments in /usr/local/lib/python3.6/dist-packages (from ipython>=4.0.0; python_version >= \"3.3\"->ipywidgets) (2.1.3)\n",
            "Requirement already satisfied: prompt-toolkit<2.0.0,>=1.0.4 in /usr/local/lib/python3.6/dist-packages (from ipython>=4.0.0; python_version >= \"3.3\"->ipywidgets) (1.0.15)\n",
            "Requirement already satisfied: pexpect; sys_platform != \"win32\" in /usr/local/lib/python3.6/dist-packages (from ipython>=4.0.0; python_version >= \"3.3\"->ipywidgets) (4.6.0)\n",
            "Requirement already satisfied: pickleshare in /usr/local/lib/python3.6/dist-packages (from ipython>=4.0.0; python_version >= \"3.3\"->ipywidgets) (0.7.5)\n",
            "Requirement already satisfied: simplegeneric>0.8 in /usr/local/lib/python3.6/dist-packages (from ipython>=4.0.0; python_version >= \"3.3\"->ipywidgets) (0.8.1)\n",
            "Requirement already satisfied: decorator in /usr/local/lib/python3.6/dist-packages (from ipython>=4.0.0; python_version >= \"3.3\"->ipywidgets) (4.3.0)\n",
            "Requirement already satisfied: setuptools>=18.5 in /usr/local/lib/python3.6/dist-packages (from ipython>=4.0.0; python_version >= \"3.3\"->ipywidgets) (40.5.0)\n",
            "Requirement already satisfied: jupyter-client in /usr/local/lib/python3.6/dist-packages (from ipykernel>=4.5.1->ipywidgets) (5.2.3)\n",
            "Requirement already satisfied: tornado>=4.0 in /usr/local/lib/python3.6/dist-packages (from ipykernel>=4.5.1->ipywidgets) (4.5.3)\n",
            "Requirement already satisfied: notebook>=4.4.1 in /usr/local/lib/python3.6/dist-packages (from widgetsnbextension~=3.4.0->ipywidgets) (5.2.2)\n",
            "Requirement already satisfied: six in /usr/local/lib/python3.6/dist-packages (from traitlets>=4.3.1->ipywidgets) (1.11.0)\n",
            "Requirement already satisfied: ipython-genutils in /usr/local/lib/python3.6/dist-packages (from traitlets>=4.3.1->ipywidgets) (0.2.0)\n",
            "Requirement already satisfied: jupyter-core in /usr/local/lib/python3.6/dist-packages (from nbformat>=4.2.0->ipywidgets) (4.4.0)\n",
            "Requirement already satisfied: jsonschema!=2.5.0,>=2.4 in /usr/local/lib/python3.6/dist-packages (from nbformat>=4.2.0->ipywidgets) (2.6.0)\n",
            "Requirement already satisfied: wcwidth in /usr/local/lib/python3.6/dist-packages (from prompt-toolkit<2.0.0,>=1.0.4->ipython>=4.0.0; python_version >= \"3.3\"->ipywidgets) (0.1.7)\n",
            "Requirement already satisfied: ptyprocess>=0.5 in /usr/local/lib/python3.6/dist-packages (from pexpect; sys_platform != \"win32\"->ipython>=4.0.0; python_version >= \"3.3\"->ipywidgets) (0.6.0)\n",
            "Requirement already satisfied: pyzmq>=13 in /usr/local/lib/python3.6/dist-packages (from jupyter-client->ipykernel>=4.5.1->ipywidgets) (17.0.0)\n",
            "Requirement already satisfied: python-dateutil>=2.1 in /usr/local/lib/python3.6/dist-packages (from jupyter-client->ipykernel>=4.5.1->ipywidgets) (2.5.3)\n",
            "Requirement already satisfied: nbconvert in /usr/local/lib/python3.6/dist-packages (from notebook>=4.4.1->widgetsnbextension~=3.4.0->ipywidgets) (5.4.0)\n",
            "Requirement already satisfied: terminado>=0.3.3; sys_platform != \"win32\" in /usr/local/lib/python3.6/dist-packages (from notebook>=4.4.1->widgetsnbextension~=3.4.0->ipywidgets) (0.8.1)\n",
            "Requirement already satisfied: jinja2 in /usr/local/lib/python3.6/dist-packages (from notebook>=4.4.1->widgetsnbextension~=3.4.0->ipywidgets) (2.10)\n",
            "Requirement already satisfied: bleach in /usr/local/lib/python3.6/dist-packages (from nbconvert->notebook>=4.4.1->widgetsnbextension~=3.4.0->ipywidgets) (3.0.2)\n",
            "Requirement already satisfied: entrypoints>=0.2.2 in /usr/local/lib/python3.6/dist-packages (from nbconvert->notebook>=4.4.1->widgetsnbextension~=3.4.0->ipywidgets) (0.2.3)\n",
            "Requirement already satisfied: pandocfilters>=1.4.1 in /usr/local/lib/python3.6/dist-packages (from nbconvert->notebook>=4.4.1->widgetsnbextension~=3.4.0->ipywidgets) (1.4.2)\n",
            "Requirement already satisfied: testpath in /usr/local/lib/python3.6/dist-packages (from nbconvert->notebook>=4.4.1->widgetsnbextension~=3.4.0->ipywidgets) (0.4.2)\n",
            "Requirement already satisfied: defusedxml in /usr/local/lib/python3.6/dist-packages (from nbconvert->notebook>=4.4.1->widgetsnbextension~=3.4.0->ipywidgets) (0.5.0)\n",
            "Requirement already satisfied: mistune>=0.8.1 in /usr/local/lib/python3.6/dist-packages (from nbconvert->notebook>=4.4.1->widgetsnbextension~=3.4.0->ipywidgets) (0.8.4)\n",
            "Requirement already satisfied: MarkupSafe>=0.23 in /usr/local/lib/python3.6/dist-packages (from jinja2->notebook>=4.4.1->widgetsnbextension~=3.4.0->ipywidgets) (1.1.0)\n",
            "Requirement already satisfied: webencodings in /usr/local/lib/python3.6/dist-packages (from bleach->nbconvert->notebook>=4.4.1->widgetsnbextension~=3.4.0->ipywidgets) (0.5.1)\n",
            "Reading package lists... Done\n",
            "Building dependency tree       \n",
            "Reading state information... Done\n",
            "The following additional packages will be installed:\n",
            "  fontconfig i965-va-driver libaacs0 libasound2 libasound2-data libass9\n",
            "  libasyncns0 libavc1394-0 libavcodec57 libavdevice57 libavfilter6\n",
            "  libavformat57 libavresample3 libavutil55 libbdplus0 libbluray2 libbs2b0\n",
            "  libcaca0 libcairo2 libcdio-cdda2 libcdio-paranoia2 libcdio17 libchromaprint1\n",
            "  libcroco3 libcrystalhd3 libdatrie1 libdc1394-22 libdrm-amdgpu1 libdrm-intel1\n",
            "  libdrm-nouveau2 libdrm-radeon1 libfftw3-double3 libflac8 libflite1\n",
            "  libfribidi0 libgdk-pixbuf2.0-0 libgdk-pixbuf2.0-bin libgdk-pixbuf2.0-common\n",
            "  libgl1 libgl1-mesa-dri libglx-mesa0 libglx0 libgme0 libgsm1 libiec61883-0\n",
            "  libjack-jackd2-0 libjbig0 libllvm6.0 libmp3lame0 libmpg123-0 libmysofa0\n",
            "  libnuma1 libogg0 libopenal-data libopenal1 libopenjp2-7 libopenmpt0 libopus0\n",
            "  libpango-1.0-0 libpangocairo-1.0-0 libpangoft2-1.0-0 libpciaccess0\n",
            "  libpixman-1-0 libpostproc54 libpulse0 libraw1394-11 librsvg2-2\n",
            "  librsvg2-common librubberband2 libsamplerate0 libsdl2-2.0-0 libsensors4\n",
            "  libshine3 libslang2 libsnappy1v5 libsndfile1 libsndio6.1 libsoxr0 libspeex1\n",
            "  libssh-gcrypt-4 libswresample2 libswscale4 libthai-data libthai0 libtheora0\n",
            "  libtiff5 libtwolame0 libusb-1.0-0 libva-drm2 libva-x11-2 libva2 libvdpau1\n",
            "  libvorbis0a libvorbisenc2 libvorbisfile3 libvpx5 libwavpack1\n",
            "  libwayland-cursor0 libwayland-egl1-mesa libwebp6 libwebpmux3 libwrap0\n",
            "  libx264-152 libx265-146 libxcb-glx0 libxcb-render0 libxcb-shape0 libxcb-shm0\n",
            "  libxcursor1 libxdamage1 libxfixes3 libxi6 libxinerama1 libxkbcommon0\n",
            "  libxrandr2 libxv1 libxvidcore4 libxxf86vm1 libzvbi-common libzvbi0\n",
            "  mesa-va-drivers mesa-vdpau-drivers shared-mime-info va-driver-all\n",
            "  vdpau-driver-all xkb-data\n",
            "Suggested packages:\n",
            "  ffmpeg-doc i965-va-driver-shaders libasound2-plugins alsa-utils\n",
            "  libbluray-bdj firmware-crystalhd libfftw3-bin libfftw3-dev jackd2\n",
            "  libportaudio2 opus-tools pciutils pulseaudio libraw1394-doc librsvg2-bin\n",
            "  lm-sensors sndiod speex libvdpau-va-gl1 nvidia-vdpau-driver\n",
            "  nvidia-legacy-340xx-vdpau-driver\n",
            "The following NEW packages will be installed:\n",
            "  ffmpeg fontconfig i965-va-driver libaacs0 libasound2 libasound2-data libass9\n",
            "  libasyncns0 libavc1394-0 libavcodec57 libavdevice57 libavfilter6\n",
            "  libavformat57 libavresample3 libavutil55 libbdplus0 libbluray2 libbs2b0\n",
            "  libcaca0 libcairo2 libcdio-cdda2 libcdio-paranoia2 libcdio17 libchromaprint1\n",
            "  libcroco3 libcrystalhd3 libdatrie1 libdc1394-22 libdrm-amdgpu1 libdrm-intel1\n",
            "  libdrm-nouveau2 libdrm-radeon1 libfftw3-double3 libflac8 libflite1\n",
            "  libfribidi0 libgdk-pixbuf2.0-0 libgdk-pixbuf2.0-bin libgdk-pixbuf2.0-common\n",
            "  libgl1 libgl1-mesa-dri libglx-mesa0 libglx0 libgme0 libgsm1 libiec61883-0\n",
            "  libjack-jackd2-0 libjbig0 libllvm6.0 libmp3lame0 libmpg123-0 libmysofa0\n",
            "  libnuma1 libogg0 libopenal-data libopenal1 libopenjp2-7 libopenmpt0 libopus0\n",
            "  libpango-1.0-0 libpangocairo-1.0-0 libpangoft2-1.0-0 libpciaccess0\n",
            "  libpixman-1-0 libpostproc54 libpulse0 libraw1394-11 librsvg2-2\n",
            "  librsvg2-common librubberband2 libsamplerate0 libsdl2-2.0-0 libsensors4\n",
            "  libshine3 libslang2 libsnappy1v5 libsndfile1 libsndio6.1 libsoxr0 libspeex1\n",
            "  libssh-gcrypt-4 libswresample2 libswscale4 libthai-data libthai0 libtheora0\n",
            "  libtiff5 libtwolame0 libusb-1.0-0 libva-drm2 libva-x11-2 libva2 libvdpau1\n",
            "  libvorbis0a libvorbisenc2 libvorbisfile3 libvpx5 libwavpack1\n",
            "  libwayland-cursor0 libwayland-egl1-mesa libwebp6 libwebpmux3 libwrap0\n",
            "  libx264-152 libx265-146 libxcb-glx0 libxcb-render0 libxcb-shape0 libxcb-shm0\n",
            "  libxcursor1 libxdamage1 libxfixes3 libxi6 libxinerama1 libxkbcommon0\n",
            "  libxrandr2 libxv1 libxvidcore4 libxxf86vm1 libzvbi-common libzvbi0\n",
            "  mesa-va-drivers mesa-vdpau-drivers shared-mime-info va-driver-all\n",
            "  vdpau-driver-all xkb-data\n",
            "0 upgraded, 127 newly installed, 0 to remove and 5 not upgraded.\n",
            "Need to get 60.5 MB of archives.\n",
            "After this operation, 355 MB of additional disk space will be used.\n",
            "Get:1 http://archive.ubuntu.com/ubuntu bionic/main amd64 fontconfig amd64 2.12.6-0ubuntu2 [169 kB]\n",
            "Get:2 http://archive.ubuntu.com/ubuntu bionic/main amd64 libogg0 amd64 1.3.2-1 [17.2 kB]\n",
            "Get:3 http://archive.ubuntu.com/ubuntu bionic/main amd64 libxinerama1 amd64 2:1.1.3-1 [7,908 B]\n",
            "Get:4 http://archive.ubuntu.com/ubuntu bionic/main amd64 libxxf86vm1 amd64 1:1.1.4-1 [10.6 kB]\n",
            "Get:5 http://archive.ubuntu.com/ubuntu bionic/main amd64 libfribidi0 amd64 0.19.7-2 [24.9 kB]\n",
            "Get:6 http://archive.ubuntu.com/ubuntu bionic/main amd64 libslang2 amd64 2.3.1a-3ubuntu1 [424 kB]\n",
            "Get:7 http://archive.ubuntu.com/ubuntu bionic/main amd64 shared-mime-info amd64 1.9-2 [426 kB]\n",
            "Get:8 http://archive.ubuntu.com/ubuntu bionic/main amd64 xkb-data all 2.23.1-1ubuntu1 [325 kB]\n",
            "Get:9 http://archive.ubuntu.com/ubuntu bionic/main amd64 libnuma1 amd64 2.0.11-2.1 [21.6 kB]\n",
            "Get:10 http://archive.ubuntu.com/ubuntu bionic/main amd64 libusb-1.0-0 amd64 2:1.0.21-2 [43.3 kB]\n",
            "Get:11 http://archive.ubuntu.com/ubuntu bionic/universe amd64 libva2 amd64 2.1.0-3 [47.6 kB]\n",
            "Get:12 http://archive.ubuntu.com/ubuntu bionic/universe amd64 libva-drm2 amd64 2.1.0-3 [6,880 B]\n",
            "Get:13 http://archive.ubuntu.com/ubuntu bionic/main amd64 libxfixes3 amd64 1:5.0.3-1 [10.8 kB]\n",
            "Get:14 http://archive.ubuntu.com/ubuntu bionic/universe amd64 libva-x11-2 amd64 2.1.0-3 [11.5 kB]\n",
            "Get:15 http://archive.ubuntu.com/ubuntu bionic/main amd64 libvdpau1 amd64 1.1.1-3ubuntu1 [25.5 kB]\n",
            "Get:16 http://archive.ubuntu.com/ubuntu bionic-updates/universe amd64 libavutil55 amd64 7:3.4.4-0ubuntu0.18.04.1 [190 kB]\n",
            "Get:17 http://archive.ubuntu.com/ubuntu bionic/main amd64 libpixman-1-0 amd64 0.34.0-2 [229 kB]\n",
            "Get:18 http://archive.ubuntu.com/ubuntu bionic/main amd64 libxcb-render0 amd64 1.13-1 [14.7 kB]\n",
            "Get:19 http://archive.ubuntu.com/ubuntu bionic/main amd64 libxcb-shm0 amd64 1.13-1 [5,572 B]\n",
            "Get:20 http://archive.ubuntu.com/ubuntu bionic/main amd64 libcairo2 amd64 1.15.10-2 [580 kB]\n",
            "Get:21 http://archive.ubuntu.com/ubuntu bionic/universe amd64 libcrystalhd3 amd64 1:0.0~git20110715.fdd2f19-12 [45.8 kB]\n",
            "Get:22 http://archive.ubuntu.com/ubuntu bionic/universe amd64 libgsm1 amd64 1.0.13-4build1 [22.4 kB]\n",
            "Get:23 http://archive.ubuntu.com/ubuntu bionic/main amd64 libmp3lame0 amd64 3.100-2 [136 kB]\n",
            "Get:24 http://archive.ubuntu.com/ubuntu bionic/universe amd64 libopenjp2-7 amd64 2.3.0-1 [145 kB]\n",
            "Get:25 http://archive.ubuntu.com/ubuntu bionic/main amd64 libopus0 amd64 1.1.2-1ubuntu1 [159 kB]\n",
            "Get:26 http://archive.ubuntu.com/ubuntu bionic/main amd64 libcroco3 amd64 0.6.12-2 [81.3 kB]\n",
            "Get:27 http://archive.ubuntu.com/ubuntu bionic/main amd64 libjbig0 amd64 2.1-3.1build1 [26.7 kB]\n",
            "Get:28 http://archive.ubuntu.com/ubuntu bionic/main amd64 libtiff5 amd64 4.0.9-5 [152 kB]\n",
            "Get:29 http://archive.ubuntu.com/ubuntu bionic/main amd64 libgdk-pixbuf2.0-common all 2.36.11-2 [4,536 B]\n",
            "Get:30 http://archive.ubuntu.com/ubuntu bionic/main amd64 libgdk-pixbuf2.0-0 amd64 2.36.11-2 [165 kB]\n",
            "Get:31 http://archive.ubuntu.com/ubuntu bionic/main amd64 libthai-data all 0.1.27-2 [133 kB]\n",
            "Get:32 http://archive.ubuntu.com/ubuntu bionic/main amd64 libdatrie1 amd64 0.2.10-7 [17.8 kB]\n",
            "Get:33 http://archive.ubuntu.com/ubuntu bionic/main amd64 libthai0 amd64 0.1.27-2 [18.0 kB]\n",
            "Get:34 http://archive.ubuntu.com/ubuntu bionic-updates/main amd64 libpango-1.0-0 amd64 1.40.14-1ubuntu0.1 [153 kB]\n",
            "Get:35 http://archive.ubuntu.com/ubuntu bionic-updates/main amd64 libpangoft2-1.0-0 amd64 1.40.14-1ubuntu0.1 [33.2 kB]\n",
            "Get:36 http://archive.ubuntu.com/ubuntu bionic-updates/main amd64 libpangocairo-1.0-0 amd64 1.40.14-1ubuntu0.1 [20.8 kB]\n",
            "Get:37 http://archive.ubuntu.com/ubuntu bionic/main amd64 librsvg2-2 amd64 2.40.20-2 [98.6 kB]\n",
            "Get:38 http://archive.ubuntu.com/ubuntu bionic/universe amd64 libshine3 amd64 3.1.1-1 [22.9 kB]\n",
            "Get:39 http://archive.ubuntu.com/ubuntu bionic/main amd64 libsnappy1v5 amd64 1.1.7-1 [16.0 kB]\n",
            "Get:40 http://archive.ubuntu.com/ubuntu bionic/main amd64 libspeex1 amd64 1.2~rc1.2-1ubuntu2 [52.1 kB]\n",
            "Get:41 http://archive.ubuntu.com/ubuntu bionic/universe amd64 libsoxr0 amd64 0.1.2-3 [65.9 kB]\n",
            "Get:42 http://archive.ubuntu.com/ubuntu bionic-updates/universe amd64 libswresample2 amd64 7:3.4.4-0ubuntu0.18.04.1 [55.2 kB]\n",
            "Get:43 http://archive.ubuntu.com/ubuntu bionic/main amd64 libtheora0 amd64 1.1.1+dfsg.1-14 [170 kB]\n",
            "Get:44 http://archive.ubuntu.com/ubuntu bionic/main amd64 libtwolame0 amd64 0.3.13-3 [46.7 kB]\n",
            "Get:45 http://archive.ubuntu.com/ubuntu bionic/main amd64 libvorbis0a amd64 1.3.5-4.2 [86.4 kB]\n",
            "Get:46 http://archive.ubuntu.com/ubuntu bionic/main amd64 libvorbisenc2 amd64 1.3.5-4.2 [70.7 kB]\n",
            "Get:47 http://archive.ubuntu.com/ubuntu bionic/main amd64 libvpx5 amd64 1.7.0-3 [798 kB]\n",
            "Get:48 http://archive.ubuntu.com/ubuntu bionic-updates/main amd64 libwavpack1 amd64 5.1.0-2ubuntu1.1 [76.6 kB]\n",
            "Get:49 http://archive.ubuntu.com/ubuntu bionic/main amd64 libwebp6 amd64 0.6.1-2 [185 kB]\n",
            "Get:50 http://archive.ubuntu.com/ubuntu bionic/main amd64 libwebpmux3 amd64 0.6.1-2 [19.6 kB]\n",
            "Get:51 http://archive.ubuntu.com/ubuntu bionic/universe amd64 libx264-152 amd64 2:0.152.2854+gite9a5903-2 [609 kB]\n",
            "Get:52 http://archive.ubuntu.com/ubuntu bionic/universe amd64 libx265-146 amd64 2.6-3 [1,026 kB]\n",
            "Get:53 http://archive.ubuntu.com/ubuntu bionic/universe amd64 libxvidcore4 amd64 2:1.3.5-1 [200 kB]\n",
            "Get:54 http://archive.ubuntu.com/ubuntu bionic/universe amd64 libzvbi-common all 0.2.35-13 [32.1 kB]\n",
            "Get:55 http://archive.ubuntu.com/ubuntu bionic/universe amd64 libzvbi0 amd64 0.2.35-13 [235 kB]\n",
            "Get:56 http://archive.ubuntu.com/ubuntu bionic-updates/universe amd64 libavcodec57 amd64 7:3.4.4-0ubuntu0.18.04.1 [4,592 kB]\n",
            "Get:57 http://archive.ubuntu.com/ubuntu bionic-updates/main amd64 libasound2-data all 1.1.3-5ubuntu0.1 [36.3 kB]\n",
            "Get:58 http://archive.ubuntu.com/ubuntu bionic-updates/main amd64 libasound2 amd64 1.1.3-5ubuntu0.1 [359 kB]\n",
            "Get:59 http://archive.ubuntu.com/ubuntu bionic/main amd64 libraw1394-11 amd64 2.1.2-1 [30.7 kB]\n",
            "Get:60 http://archive.ubuntu.com/ubuntu bionic/main amd64 libavc1394-0 amd64 0.5.4-4build1 [16.1 kB]\n",
            "Get:61 http://archive.ubuntu.com/ubuntu bionic/universe amd64 libass9 amd64 1:0.14.0-1 [88.2 kB]\n",
            "Get:62 http://archive.ubuntu.com/ubuntu bionic/universe amd64 libbluray2 amd64 1:1.0.2-3 [141 kB]\n",
            "Get:63 http://archive.ubuntu.com/ubuntu bionic/universe amd64 libchromaprint1 amd64 1.4.3-1 [36.8 kB]\n",
            "Get:64 http://archive.ubuntu.com/ubuntu bionic/universe amd64 libgme0 amd64 0.6.2-1 [121 kB]\n",
            "Get:65 http://archive.ubuntu.com/ubuntu bionic/main amd64 libmpg123-0 amd64 1.25.10-1 [125 kB]\n",
            "Get:66 http://archive.ubuntu.com/ubuntu bionic/main amd64 libvorbisfile3 amd64 1.3.5-4.2 [16.0 kB]\n",
            "Get:67 http://archive.ubuntu.com/ubuntu bionic/universe amd64 libopenmpt0 amd64 0.3.6-1 [561 kB]\n",
            "Get:68 http://archive.ubuntu.com/ubuntu bionic-updates/main amd64 libssh-gcrypt-4 amd64 0.8.0~20170825.94fa1e38-1ubuntu0.1 [171 kB]\n",
            "Get:69 http://archive.ubuntu.com/ubuntu bionic-updates/universe amd64 libavformat57 amd64 7:3.4.4-0ubuntu0.18.04.1 [949 kB]\n",
            "Get:70 http://archive.ubuntu.com/ubuntu bionic-updates/universe amd64 libavresample3 amd64 7:3.4.4-0ubuntu0.18.04.1 [52.6 kB]\n",
            "Get:71 http://archive.ubuntu.com/ubuntu bionic/universe amd64 libbs2b0 amd64 3.1.0+dfsg-2.2 [10.5 kB]\n",
            "Get:72 http://archive.ubuntu.com/ubuntu bionic/universe amd64 libflite1 amd64 2.1-release-1 [12.8 MB]\n",
            "Get:73 http://archive.ubuntu.com/ubuntu bionic/universe amd64 libmysofa0 amd64 0.6~dfsg0-2 [37.8 kB]\n",
            "Get:74 http://archive.ubuntu.com/ubuntu bionic-updates/universe amd64 libpostproc54 amd64 7:3.4.4-0ubuntu0.18.04.1 [50.4 kB]\n",
            "Get:75 http://archive.ubuntu.com/ubuntu bionic/main amd64 libfftw3-double3 amd64 3.3.7-1 [735 kB]\n",
            "Get:76 http://archive.ubuntu.com/ubuntu bionic/main amd64 libsamplerate0 amd64 0.1.9-1 [938 kB]\n",
            "Get:77 http://archive.ubuntu.com/ubuntu bionic/universe amd64 librubberband2 amd64 1.8.1-7ubuntu2 [86.7 kB]\n",
            "Get:78 http://archive.ubuntu.com/ubuntu bionic-updates/universe amd64 libswscale4 amd64 7:3.4.4-0ubuntu0.18.04.1 [150 kB]\n",
            "Get:79 http://archive.ubuntu.com/ubuntu bionic-updates/universe amd64 libavfilter6 amd64 7:3.4.4-0ubuntu0.18.04.1 [874 kB]\n",
            "Get:80 http://archive.ubuntu.com/ubuntu bionic/main amd64 libcaca0 amd64 0.99.beta19-2build2~gcc5.3 [202 kB]\n",
            "Get:81 http://archive.ubuntu.com/ubuntu bionic/main amd64 libcdio17 amd64 1.0.0-2ubuntu2 [58.8 kB]\n",
            "Get:82 http://archive.ubuntu.com/ubuntu bionic/main amd64 libcdio-cdda2 amd64 10.2+0.94+2-2build1 [17.7 kB]\n",
            "Get:83 http://archive.ubuntu.com/ubuntu bionic/main amd64 libcdio-paranoia2 amd64 10.2+0.94+2-2build1 [17.2 kB]\n",
            "Get:84 http://archive.ubuntu.com/ubuntu bionic/universe amd64 libdc1394-22 amd64 2.2.5-1 [77.5 kB]\n",
            "Get:85 http://archive.ubuntu.com/ubuntu bionic/main amd64 libxcb-glx0 amd64 1.13-1 [22.0 kB]\n",
            "Get:86 http://archive.ubuntu.com/ubuntu bionic/main amd64 libxdamage1 amd64 1:1.1.4-3 [6,934 B]\n",
            "Get:87 http://archive.ubuntu.com/ubuntu bionic/main amd64 libdrm-amdgpu1 amd64 2.4.91-2 [19.0 kB]\n",
            "Get:88 http://archive.ubuntu.com/ubuntu bionic/main amd64 libpciaccess0 amd64 0.14-1 [17.9 kB]\n",
            "Get:89 http://archive.ubuntu.com/ubuntu bionic/main amd64 libdrm-intel1 amd64 2.4.91-2 [59.8 kB]\n",
            "Get:90 http://archive.ubuntu.com/ubuntu bionic/main amd64 libdrm-nouveau2 amd64 2.4.91-2 [16.5 kB]\n",
            "Get:91 http://archive.ubuntu.com/ubuntu bionic/main amd64 libdrm-radeon1 amd64 2.4.91-2 [21.7 kB]\n",
            "Get:92 http://archive.ubuntu.com/ubuntu bionic/main amd64 libllvm6.0 amd64 1:6.0-1ubuntu2 [14.5 MB]\n",
            "Get:93 http://archive.ubuntu.com/ubuntu bionic/main amd64 libsensors4 amd64 1:3.4.0-4 [28.8 kB]\n",
            "Get:94 http://archive.ubuntu.com/ubuntu bionic-updates/main amd64 libgl1-mesa-dri amd64 18.0.5-0ubuntu0~18.04.1 [6,011 kB]\n",
            "Get:95 http://archive.ubuntu.com/ubuntu bionic-updates/main amd64 libglx-mesa0 amd64 18.0.5-0ubuntu0~18.04.1 [132 kB]\n",
            "Get:96 http://archive.ubuntu.com/ubuntu bionic-updates/main amd64 libglx0 amd64 1.0.0-2ubuntu2.2 [28.1 kB]\n",
            "Get:97 http://archive.ubuntu.com/ubuntu bionic-updates/main amd64 libgl1 amd64 1.0.0-2ubuntu2.2 [84.8 kB]\n",
            "Get:98 http://archive.ubuntu.com/ubuntu bionic/main amd64 libiec61883-0 amd64 1.2.0-2 [23.5 kB]\n",
            "Get:99 http://archive.ubuntu.com/ubuntu bionic/main amd64 libjack-jackd2-0 amd64 1.9.12~dfsg-2 [263 kB]\n",
            "Get:100 http://archive.ubuntu.com/ubuntu bionic/universe amd64 libopenal-data all 1:1.18.2-2 [102 kB]\n",
            "Get:101 http://archive.ubuntu.com/ubuntu bionic/universe amd64 libsndio6.1 amd64 1.1.0-3 [23.4 kB]\n",
            "Get:102 http://archive.ubuntu.com/ubuntu bionic/universe amd64 libopenal1 amd64 1:1.18.2-2 [266 kB]\n",
            "Get:103 http://archive.ubuntu.com/ubuntu bionic/main amd64 libasyncns0 amd64 0.8-6 [12.1 kB]\n",
            "Get:104 http://archive.ubuntu.com/ubuntu bionic/main amd64 libflac8 amd64 1.3.2-1 [213 kB]\n",
            "Get:105 http://archive.ubuntu.com/ubuntu bionic/main amd64 libsndfile1 amd64 1.0.28-4 [169 kB]\n",
            "Get:106 http://archive.ubuntu.com/ubuntu bionic/main amd64 libwrap0 amd64 7.6.q-27 [46.3 kB]\n",
            "Get:107 http://archive.ubuntu.com/ubuntu bionic-updates/main amd64 libpulse0 amd64 1:11.1-1ubuntu7.1 [265 kB]\n",
            "Get:108 http://archive.ubuntu.com/ubuntu bionic/main amd64 libwayland-cursor0 amd64 1.14.0-2 [9,976 B]\n",
            "Get:109 http://archive.ubuntu.com/ubuntu bionic-updates/main amd64 libwayland-egl1-mesa amd64 18.0.5-0ubuntu0~18.04.1 [7,148 B]\n",
            "Get:110 http://archive.ubuntu.com/ubuntu bionic/main amd64 libxcursor1 amd64 1:1.1.15-1 [19.8 kB]\n",
            "Get:111 http://archive.ubuntu.com/ubuntu bionic/main amd64 libxi6 amd64 2:1.7.9-1 [29.2 kB]\n",
            "Get:112 http://archive.ubuntu.com/ubuntu bionic-updates/main amd64 libxkbcommon0 amd64 0.8.0-1ubuntu0.1 [97.9 kB]\n",
            "Get:113 http://archive.ubuntu.com/ubuntu bionic/main amd64 libxrandr2 amd64 2:1.5.1-1 [18.1 kB]\n",
            "Get:114 http://archive.ubuntu.com/ubuntu bionic-updates/universe amd64 libsdl2-2.0-0 amd64 2.0.8+dfsg1-1ubuntu1.18.04.1 [378 kB]\n",
            "Get:115 http://archive.ubuntu.com/ubuntu bionic/main amd64 libxcb-shape0 amd64 1.13-1 [5,964 B]\n",
            "Get:116 http://archive.ubuntu.com/ubuntu bionic/main amd64 libxv1 amd64 2:1.0.11-1 [10.7 kB]\n",
            "Get:117 http://archive.ubuntu.com/ubuntu bionic-updates/universe amd64 libavdevice57 amd64 7:3.4.4-0ubuntu0.18.04.1 [74.9 kB]\n",
            "Get:118 http://archive.ubuntu.com/ubuntu bionic-updates/universe amd64 ffmpeg amd64 7:3.4.4-0ubuntu0.18.04.1 [1,587 kB]\n",
            "Get:119 http://archive.ubuntu.com/ubuntu bionic/universe amd64 libaacs0 amd64 0.9.0-1 [51.4 kB]\n",
            "Get:120 http://archive.ubuntu.com/ubuntu bionic/universe amd64 libbdplus0 amd64 0.1.2-2 [46.6 kB]\n",
            "Get:121 http://archive.ubuntu.com/ubuntu bionic/main amd64 libgdk-pixbuf2.0-bin amd64 2.36.11-2 [7,864 B]\n",
            "Get:122 http://archive.ubuntu.com/ubuntu bionic/main amd64 librsvg2-common amd64 2.40.20-2 [5,124 B]\n",
            "Get:123 http://archive.ubuntu.com/ubuntu bionic-updates/universe amd64 mesa-va-drivers amd64 18.0.5-0ubuntu0~18.04.1 [1,778 kB]\n",
            "Get:124 http://archive.ubuntu.com/ubuntu bionic-updates/main amd64 mesa-vdpau-drivers amd64 18.0.5-0ubuntu0~18.04.1 [1,902 kB]\n",
            "Get:125 http://archive.ubuntu.com/ubuntu bionic/universe amd64 i965-va-driver amd64 2.1.0-0ubuntu1 [925 kB]\n",
            "Get:126 http://archive.ubuntu.com/ubuntu bionic/universe amd64 va-driver-all amd64 2.1.0-3 [4,376 B]\n",
            "Get:127 http://archive.ubuntu.com/ubuntu bionic/main amd64 vdpau-driver-all amd64 1.1.1-3ubuntu1 [4,674 B]\n",
            "Fetched 60.5 MB in 7s (8,358 kB/s)\n",
            "Extracting templates from packages: 100%\n",
            "Selecting previously unselected package fontconfig.\n",
            "(Reading database ... 22280 files and directories currently installed.)\n",
            "Preparing to unpack .../000-fontconfig_2.12.6-0ubuntu2_amd64.deb ...\n",
            "Unpacking fontconfig (2.12.6-0ubuntu2) ...\n",
            "Selecting previously unselected package libogg0:amd64.\n",
            "Preparing to unpack .../001-libogg0_1.3.2-1_amd64.deb ...\n",
            "Unpacking libogg0:amd64 (1.3.2-1) ...\n",
            "Selecting previously unselected package libxinerama1:amd64.\n",
            "Preparing to unpack .../002-libxinerama1_2%3a1.1.3-1_amd64.deb ...\n",
            "Unpacking libxinerama1:amd64 (2:1.1.3-1) ...\n",
            "Selecting previously unselected package libxxf86vm1:amd64.\n",
            "Preparing to unpack .../003-libxxf86vm1_1%3a1.1.4-1_amd64.deb ...\n",
            "Unpacking libxxf86vm1:amd64 (1:1.1.4-1) ...\n",
            "Selecting previously unselected package libfribidi0:amd64.\n",
            "Preparing to unpack .../004-libfribidi0_0.19.7-2_amd64.deb ...\n",
            "Unpacking libfribidi0:amd64 (0.19.7-2) ...\n",
            "Selecting previously unselected package libslang2:amd64.\n",
            "Preparing to unpack .../005-libslang2_2.3.1a-3ubuntu1_amd64.deb ...\n",
            "Unpacking libslang2:amd64 (2.3.1a-3ubuntu1) ...\n",
            "Selecting previously unselected package shared-mime-info.\n",
            "Preparing to unpack .../006-shared-mime-info_1.9-2_amd64.deb ...\n",
            "Unpacking shared-mime-info (1.9-2) ...\n",
            "Selecting previously unselected package xkb-data.\n",
            "Preparing to unpack .../007-xkb-data_2.23.1-1ubuntu1_all.deb ...\n",
            "Unpacking xkb-data (2.23.1-1ubuntu1) ...\n",
            "Selecting previously unselected package libnuma1:amd64.\n",
            "Preparing to unpack .../008-libnuma1_2.0.11-2.1_amd64.deb ...\n",
            "Unpacking libnuma1:amd64 (2.0.11-2.1) ...\n",
            "Selecting previously unselected package libusb-1.0-0:amd64.\n",
            "Preparing to unpack .../009-libusb-1.0-0_2%3a1.0.21-2_amd64.deb ...\n",
            "Unpacking libusb-1.0-0:amd64 (2:1.0.21-2) ...\n",
            "Selecting previously unselected package libva2:amd64.\n",
            "Preparing to unpack .../010-libva2_2.1.0-3_amd64.deb ...\n",
            "Unpacking libva2:amd64 (2.1.0-3) ...\n",
            "Selecting previously unselected package libva-drm2:amd64.\n",
            "Preparing to unpack .../011-libva-drm2_2.1.0-3_amd64.deb ...\n",
            "Unpacking libva-drm2:amd64 (2.1.0-3) ...\n",
            "Selecting previously unselected package libxfixes3:amd64.\n",
            "Preparing to unpack .../012-libxfixes3_1%3a5.0.3-1_amd64.deb ...\n",
            "Unpacking libxfixes3:amd64 (1:5.0.3-1) ...\n",
            "Selecting previously unselected package libva-x11-2:amd64.\n",
            "Preparing to unpack .../013-libva-x11-2_2.1.0-3_amd64.deb ...\n",
            "Unpacking libva-x11-2:amd64 (2.1.0-3) ...\n",
            "Selecting previously unselected package libvdpau1:amd64.\n",
            "Preparing to unpack .../014-libvdpau1_1.1.1-3ubuntu1_amd64.deb ...\n",
            "Unpacking libvdpau1:amd64 (1.1.1-3ubuntu1) ...\n",
            "Selecting previously unselected package libavutil55:amd64.\n",
            "Preparing to unpack .../015-libavutil55_7%3a3.4.4-0ubuntu0.18.04.1_amd64.deb ...\n",
            "Unpacking libavutil55:amd64 (7:3.4.4-0ubuntu0.18.04.1) ...\n",
            "Selecting previously unselected package libpixman-1-0:amd64.\n",
            "Preparing to unpack .../016-libpixman-1-0_0.34.0-2_amd64.deb ...\n",
            "Unpacking libpixman-1-0:amd64 (0.34.0-2) ...\n",
            "Selecting previously unselected package libxcb-render0:amd64.\n",
            "Preparing to unpack .../017-libxcb-render0_1.13-1_amd64.deb ...\n",
            "Unpacking libxcb-render0:amd64 (1.13-1) ...\n",
            "Selecting previously unselected package libxcb-shm0:amd64.\n",
            "Preparing to unpack .../018-libxcb-shm0_1.13-1_amd64.deb ...\n",
            "Unpacking libxcb-shm0:amd64 (1.13-1) ...\n",
            "Selecting previously unselected package libcairo2:amd64.\n",
            "Preparing to unpack .../019-libcairo2_1.15.10-2_amd64.deb ...\n",
            "Unpacking libcairo2:amd64 (1.15.10-2) ...\n",
            "Selecting previously unselected package libcrystalhd3:amd64.\n",
            "Preparing to unpack .../020-libcrystalhd3_1%3a0.0~git20110715.fdd2f19-12_amd64.deb ...\n",
            "Unpacking libcrystalhd3:amd64 (1:0.0~git20110715.fdd2f19-12) ...\n",
            "Selecting previously unselected package libgsm1:amd64.\n",
            "Preparing to unpack .../021-libgsm1_1.0.13-4build1_amd64.deb ...\n",
            "Unpacking libgsm1:amd64 (1.0.13-4build1) ...\n",
            "Selecting previously unselected package libmp3lame0:amd64.\n",
            "Preparing to unpack .../022-libmp3lame0_3.100-2_amd64.deb ...\n",
            "Unpacking libmp3lame0:amd64 (3.100-2) ...\n",
            "Selecting previously unselected package libopenjp2-7:amd64.\n",
            "Preparing to unpack .../023-libopenjp2-7_2.3.0-1_amd64.deb ...\n",
            "Unpacking libopenjp2-7:amd64 (2.3.0-1) ...\n",
            "Selecting previously unselected package libopus0:amd64.\n",
            "Preparing to unpack .../024-libopus0_1.1.2-1ubuntu1_amd64.deb ...\n",
            "Unpacking libopus0:amd64 (1.1.2-1ubuntu1) ...\n",
            "Selecting previously unselected package libcroco3:amd64.\n",
            "Preparing to unpack .../025-libcroco3_0.6.12-2_amd64.deb ...\n",
            "Unpacking libcroco3:amd64 (0.6.12-2) ...\n",
            "Selecting previously unselected package libjbig0:amd64.\n",
            "Preparing to unpack .../026-libjbig0_2.1-3.1build1_amd64.deb ...\n",
            "Unpacking libjbig0:amd64 (2.1-3.1build1) ...\n",
            "Selecting previously unselected package libtiff5:amd64.\n",
            "Preparing to unpack .../027-libtiff5_4.0.9-5_amd64.deb ...\n",
            "Unpacking libtiff5:amd64 (4.0.9-5) ...\n",
            "Selecting previously unselected package libgdk-pixbuf2.0-common.\n",
            "Preparing to unpack .../028-libgdk-pixbuf2.0-common_2.36.11-2_all.deb ...\n",
            "Unpacking libgdk-pixbuf2.0-common (2.36.11-2) ...\n",
            "Selecting previously unselected package libgdk-pixbuf2.0-0:amd64.\n",
            "Preparing to unpack .../029-libgdk-pixbuf2.0-0_2.36.11-2_amd64.deb ...\n",
            "Unpacking libgdk-pixbuf2.0-0:amd64 (2.36.11-2) ...\n",
            "Selecting previously unselected package libthai-data.\n",
            "Preparing to unpack .../030-libthai-data_0.1.27-2_all.deb ...\n",
            "Unpacking libthai-data (0.1.27-2) ...\n",
            "Selecting previously unselected package libdatrie1:amd64.\n",
            "Preparing to unpack .../031-libdatrie1_0.2.10-7_amd64.deb ...\n",
            "Unpacking libdatrie1:amd64 (0.2.10-7) ...\n",
            "Selecting previously unselected package libthai0:amd64.\n",
            "Preparing to unpack .../032-libthai0_0.1.27-2_amd64.deb ...\n",
            "Unpacking libthai0:amd64 (0.1.27-2) ...\n",
            "Selecting previously unselected package libpango-1.0-0:amd64.\n",
            "Preparing to unpack .../033-libpango-1.0-0_1.40.14-1ubuntu0.1_amd64.deb ...\n",
            "Unpacking libpango-1.0-0:amd64 (1.40.14-1ubuntu0.1) ...\n",
            "Selecting previously unselected package libpangoft2-1.0-0:amd64.\n",
            "Preparing to unpack .../034-libpangoft2-1.0-0_1.40.14-1ubuntu0.1_amd64.deb ...\n",
            "Unpacking libpangoft2-1.0-0:amd64 (1.40.14-1ubuntu0.1) ...\n",
            "Selecting previously unselected package libpangocairo-1.0-0:amd64.\n",
            "Preparing to unpack .../035-libpangocairo-1.0-0_1.40.14-1ubuntu0.1_amd64.deb ...\n",
            "Unpacking libpangocairo-1.0-0:amd64 (1.40.14-1ubuntu0.1) ...\n",
            "Selecting previously unselected package librsvg2-2:amd64.\n",
            "Preparing to unpack .../036-librsvg2-2_2.40.20-2_amd64.deb ...\n",
            "Unpacking librsvg2-2:amd64 (2.40.20-2) ...\n",
            "Selecting previously unselected package libshine3:amd64.\n",
            "Preparing to unpack .../037-libshine3_3.1.1-1_amd64.deb ...\n",
            "Unpacking libshine3:amd64 (3.1.1-1) ...\n",
            "Selecting previously unselected package libsnappy1v5:amd64.\n",
            "Preparing to unpack .../038-libsnappy1v5_1.1.7-1_amd64.deb ...\n",
            "Unpacking libsnappy1v5:amd64 (1.1.7-1) ...\n",
            "Selecting previously unselected package libspeex1:amd64.\n",
            "Preparing to unpack .../039-libspeex1_1.2~rc1.2-1ubuntu2_amd64.deb ...\n",
            "Unpacking libspeex1:amd64 (1.2~rc1.2-1ubuntu2) ...\n",
            "Selecting previously unselected package libsoxr0:amd64.\n",
            "Preparing to unpack .../040-libsoxr0_0.1.2-3_amd64.deb ...\n",
            "Unpacking libsoxr0:amd64 (0.1.2-3) ...\n",
            "Selecting previously unselected package libswresample2:amd64.\n",
            "Preparing to unpack .../041-libswresample2_7%3a3.4.4-0ubuntu0.18.04.1_amd64.deb ...\n",
            "Unpacking libswresample2:amd64 (7:3.4.4-0ubuntu0.18.04.1) ...\n",
            "Selecting previously unselected package libtheora0:amd64.\n",
            "Preparing to unpack .../042-libtheora0_1.1.1+dfsg.1-14_amd64.deb ...\n",
            "Unpacking libtheora0:amd64 (1.1.1+dfsg.1-14) ...\n",
            "Selecting previously unselected package libtwolame0:amd64.\n",
            "Preparing to unpack .../043-libtwolame0_0.3.13-3_amd64.deb ...\n",
            "Unpacking libtwolame0:amd64 (0.3.13-3) ...\n",
            "Selecting previously unselected package libvorbis0a:amd64.\n",
            "Preparing to unpack .../044-libvorbis0a_1.3.5-4.2_amd64.deb ...\n",
            "Unpacking libvorbis0a:amd64 (1.3.5-4.2) ...\n",
            "Selecting previously unselected package libvorbisenc2:amd64.\n",
            "Preparing to unpack .../045-libvorbisenc2_1.3.5-4.2_amd64.deb ...\n",
            "Unpacking libvorbisenc2:amd64 (1.3.5-4.2) ...\n",
            "Selecting previously unselected package libvpx5:amd64.\n",
            "Preparing to unpack .../046-libvpx5_1.7.0-3_amd64.deb ...\n",
            "Unpacking libvpx5:amd64 (1.7.0-3) ...\n",
            "Selecting previously unselected package libwavpack1:amd64.\n",
            "Preparing to unpack .../047-libwavpack1_5.1.0-2ubuntu1.1_amd64.deb ...\n",
            "Unpacking libwavpack1:amd64 (5.1.0-2ubuntu1.1) ...\n",
            "Selecting previously unselected package libwebp6:amd64.\n",
            "Preparing to unpack .../048-libwebp6_0.6.1-2_amd64.deb ...\n",
            "Unpacking libwebp6:amd64 (0.6.1-2) ...\n",
            "Selecting previously unselected package libwebpmux3:amd64.\n",
            "Preparing to unpack .../049-libwebpmux3_0.6.1-2_amd64.deb ...\n",
            "Unpacking libwebpmux3:amd64 (0.6.1-2) ...\n",
            "Selecting previously unselected package libx264-152:amd64.\n",
            "Preparing to unpack .../050-libx264-152_2%3a0.152.2854+gite9a5903-2_amd64.deb ...\n",
            "Unpacking libx264-152:amd64 (2:0.152.2854+gite9a5903-2) ...\n",
            "Selecting previously unselected package libx265-146:amd64.\n",
            "Preparing to unpack .../051-libx265-146_2.6-3_amd64.deb ...\n",
            "Unpacking libx265-146:amd64 (2.6-3) ...\n",
            "Selecting previously unselected package libxvidcore4:amd64.\n",
            "Preparing to unpack .../052-libxvidcore4_2%3a1.3.5-1_amd64.deb ...\n",
            "Unpacking libxvidcore4:amd64 (2:1.3.5-1) ...\n",
            "Selecting previously unselected package libzvbi-common.\n",
            "Preparing to unpack .../053-libzvbi-common_0.2.35-13_all.deb ...\n",
            "Unpacking libzvbi-common (0.2.35-13) ...\n",
            "Selecting previously unselected package libzvbi0:amd64.\n",
            "Preparing to unpack .../054-libzvbi0_0.2.35-13_amd64.deb ...\n",
            "Unpacking libzvbi0:amd64 (0.2.35-13) ...\n",
            "Selecting previously unselected package libavcodec57:amd64.\n",
            "Preparing to unpack .../055-libavcodec57_7%3a3.4.4-0ubuntu0.18.04.1_amd64.deb ...\n",
            "Unpacking libavcodec57:amd64 (7:3.4.4-0ubuntu0.18.04.1) ...\n",
            "Selecting previously unselected package libasound2-data.\n",
            "Preparing to unpack .../056-libasound2-data_1.1.3-5ubuntu0.1_all.deb ...\n",
            "Unpacking libasound2-data (1.1.3-5ubuntu0.1) ...\n",
            "Selecting previously unselected package libasound2:amd64.\n",
            "Preparing to unpack .../057-libasound2_1.1.3-5ubuntu0.1_amd64.deb ...\n",
            "Unpacking libasound2:amd64 (1.1.3-5ubuntu0.1) ...\n",
            "Selecting previously unselected package libraw1394-11:amd64.\n",
            "Preparing to unpack .../058-libraw1394-11_2.1.2-1_amd64.deb ...\n",
            "Unpacking libraw1394-11:amd64 (2.1.2-1) ...\n",
            "Selecting previously unselected package libavc1394-0:amd64.\n",
            "Preparing to unpack .../059-libavc1394-0_0.5.4-4build1_amd64.deb ...\n",
            "Unpacking libavc1394-0:amd64 (0.5.4-4build1) ...\n",
            "Selecting previously unselected package libass9:amd64.\n",
            "Preparing to unpack .../060-libass9_1%3a0.14.0-1_amd64.deb ...\n",
            "Unpacking libass9:amd64 (1:0.14.0-1) ...\n",
            "Selecting previously unselected package libbluray2:amd64.\n",
            "Preparing to unpack .../061-libbluray2_1%3a1.0.2-3_amd64.deb ...\n",
            "Unpacking libbluray2:amd64 (1:1.0.2-3) ...\n",
            "Selecting previously unselected package libchromaprint1:amd64.\n",
            "Preparing to unpack .../062-libchromaprint1_1.4.3-1_amd64.deb ...\n",
            "Unpacking libchromaprint1:amd64 (1.4.3-1) ...\n",
            "Selecting previously unselected package libgme0:amd64.\n",
            "Preparing to unpack .../063-libgme0_0.6.2-1_amd64.deb ...\n",
            "Unpacking libgme0:amd64 (0.6.2-1) ...\n",
            "Selecting previously unselected package libmpg123-0:amd64.\n",
            "Preparing to unpack .../064-libmpg123-0_1.25.10-1_amd64.deb ...\n",
            "Unpacking libmpg123-0:amd64 (1.25.10-1) ...\n",
            "Selecting previously unselected package libvorbisfile3:amd64.\n",
            "Preparing to unpack .../065-libvorbisfile3_1.3.5-4.2_amd64.deb ...\n",
            "Unpacking libvorbisfile3:amd64 (1.3.5-4.2) ...\n",
            "Selecting previously unselected package libopenmpt0:amd64.\n",
            "Preparing to unpack .../066-libopenmpt0_0.3.6-1_amd64.deb ...\n",
            "Unpacking libopenmpt0:amd64 (0.3.6-1) ...\n",
            "Selecting previously unselected package libssh-gcrypt-4:amd64.\n",
            "Preparing to unpack .../067-libssh-gcrypt-4_0.8.0~20170825.94fa1e38-1ubuntu0.1_amd64.deb ...\n",
            "Unpacking libssh-gcrypt-4:amd64 (0.8.0~20170825.94fa1e38-1ubuntu0.1) ...\n",
            "Selecting previously unselected package libavformat57:amd64.\n",
            "Preparing to unpack .../068-libavformat57_7%3a3.4.4-0ubuntu0.18.04.1_amd64.deb ...\n",
            "Unpacking libavformat57:amd64 (7:3.4.4-0ubuntu0.18.04.1) ...\n",
            "Selecting previously unselected package libavresample3:amd64.\n",
            "Preparing to unpack .../069-libavresample3_7%3a3.4.4-0ubuntu0.18.04.1_amd64.deb ...\n",
            "Unpacking libavresample3:amd64 (7:3.4.4-0ubuntu0.18.04.1) ...\n",
            "Selecting previously unselected package libbs2b0:amd64.\n",
            "Preparing to unpack .../070-libbs2b0_3.1.0+dfsg-2.2_amd64.deb ...\n",
            "Unpacking libbs2b0:amd64 (3.1.0+dfsg-2.2) ...\n",
            "Selecting previously unselected package libflite1:amd64.\n",
            "Preparing to unpack .../071-libflite1_2.1-release-1_amd64.deb ...\n",
            "Unpacking libflite1:amd64 (2.1-release-1) ...\n",
            "Selecting previously unselected package libmysofa0:amd64.\n",
            "Preparing to unpack .../072-libmysofa0_0.6~dfsg0-2_amd64.deb ...\n",
            "Unpacking libmysofa0:amd64 (0.6~dfsg0-2) ...\n",
            "Selecting previously unselected package libpostproc54:amd64.\n",
            "Preparing to unpack .../073-libpostproc54_7%3a3.4.4-0ubuntu0.18.04.1_amd64.deb ...\n",
            "Unpacking libpostproc54:amd64 (7:3.4.4-0ubuntu0.18.04.1) ...\n",
            "Selecting previously unselected package libfftw3-double3:amd64.\n",
            "Preparing to unpack .../074-libfftw3-double3_3.3.7-1_amd64.deb ...\n",
            "Unpacking libfftw3-double3:amd64 (3.3.7-1) ...\n",
            "Selecting previously unselected package libsamplerate0:amd64.\n",
            "Preparing to unpack .../075-libsamplerate0_0.1.9-1_amd64.deb ...\n",
            "Unpacking libsamplerate0:amd64 (0.1.9-1) ...\n",
            "Selecting previously unselected package librubberband2:amd64.\n",
            "Preparing to unpack .../076-librubberband2_1.8.1-7ubuntu2_amd64.deb ...\n",
            "Unpacking librubberband2:amd64 (1.8.1-7ubuntu2) ...\n",
            "Selecting previously unselected package libswscale4:amd64.\n",
            "Preparing to unpack .../077-libswscale4_7%3a3.4.4-0ubuntu0.18.04.1_amd64.deb ...\n",
            "Unpacking libswscale4:amd64 (7:3.4.4-0ubuntu0.18.04.1) ...\n",
            "Selecting previously unselected package libavfilter6:amd64.\n",
            "Preparing to unpack .../078-libavfilter6_7%3a3.4.4-0ubuntu0.18.04.1_amd64.deb ...\n",
            "Unpacking libavfilter6:amd64 (7:3.4.4-0ubuntu0.18.04.1) ...\n",
            "Selecting previously unselected package libcaca0:amd64.\n",
            "Preparing to unpack .../079-libcaca0_0.99.beta19-2build2~gcc5.3_amd64.deb ...\n",
            "Unpacking libcaca0:amd64 (0.99.beta19-2build2~gcc5.3) ...\n",
            "Selecting previously unselected package libcdio17:amd64.\n",
            "Preparing to unpack .../080-libcdio17_1.0.0-2ubuntu2_amd64.deb ...\n",
            "Unpacking libcdio17:amd64 (1.0.0-2ubuntu2) ...\n",
            "Selecting previously unselected package libcdio-cdda2:amd64.\n",
            "Preparing to unpack .../081-libcdio-cdda2_10.2+0.94+2-2build1_amd64.deb ...\n",
            "Unpacking libcdio-cdda2:amd64 (10.2+0.94+2-2build1) ...\n",
            "Selecting previously unselected package libcdio-paranoia2:amd64.\n",
            "Preparing to unpack .../082-libcdio-paranoia2_10.2+0.94+2-2build1_amd64.deb ...\n",
            "Unpacking libcdio-paranoia2:amd64 (10.2+0.94+2-2build1) ...\n",
            "Selecting previously unselected package libdc1394-22:amd64.\n",
            "Preparing to unpack .../083-libdc1394-22_2.2.5-1_amd64.deb ...\n",
            "Unpacking libdc1394-22:amd64 (2.2.5-1) ...\n",
            "Selecting previously unselected package libxcb-glx0:amd64.\n",
            "Preparing to unpack .../084-libxcb-glx0_1.13-1_amd64.deb ...\n",
            "Unpacking libxcb-glx0:amd64 (1.13-1) ...\n",
            "Selecting previously unselected package libxdamage1:amd64.\n",
            "Preparing to unpack .../085-libxdamage1_1%3a1.1.4-3_amd64.deb ...\n",
            "Unpacking libxdamage1:amd64 (1:1.1.4-3) ...\n",
            "Selecting previously unselected package libdrm-amdgpu1:amd64.\n",
            "Preparing to unpack .../086-libdrm-amdgpu1_2.4.91-2_amd64.deb ...\n",
            "Unpacking libdrm-amdgpu1:amd64 (2.4.91-2) ...\n",
            "Selecting previously unselected package libpciaccess0:amd64.\n",
            "Preparing to unpack .../087-libpciaccess0_0.14-1_amd64.deb ...\n",
            "Unpacking libpciaccess0:amd64 (0.14-1) ...\n",
            "Selecting previously unselected package libdrm-intel1:amd64.\n",
            "Preparing to unpack .../088-libdrm-intel1_2.4.91-2_amd64.deb ...\n",
            "Unpacking libdrm-intel1:amd64 (2.4.91-2) ...\n",
            "Selecting previously unselected package libdrm-nouveau2:amd64.\n",
            "Preparing to unpack .../089-libdrm-nouveau2_2.4.91-2_amd64.deb ...\n",
            "Unpacking libdrm-nouveau2:amd64 (2.4.91-2) ...\n",
            "Selecting previously unselected package libdrm-radeon1:amd64.\n",
            "Preparing to unpack .../090-libdrm-radeon1_2.4.91-2_amd64.deb ...\n",
            "Unpacking libdrm-radeon1:amd64 (2.4.91-2) ...\n",
            "Selecting previously unselected package libllvm6.0:amd64.\n",
            "Preparing to unpack .../091-libllvm6.0_1%3a6.0-1ubuntu2_amd64.deb ...\n",
            "Unpacking libllvm6.0:amd64 (1:6.0-1ubuntu2) ...\n",
            "Selecting previously unselected package libsensors4:amd64.\n",
            "Preparing to unpack .../092-libsensors4_1%3a3.4.0-4_amd64.deb ...\n",
            "Unpacking libsensors4:amd64 (1:3.4.0-4) ...\n",
            "Selecting previously unselected package libgl1-mesa-dri:amd64.\n",
            "Preparing to unpack .../093-libgl1-mesa-dri_18.0.5-0ubuntu0~18.04.1_amd64.deb ...\n",
            "Unpacking libgl1-mesa-dri:amd64 (18.0.5-0ubuntu0~18.04.1) ...\n",
            "Selecting previously unselected package libglx-mesa0:amd64.\n",
            "Preparing to unpack .../094-libglx-mesa0_18.0.5-0ubuntu0~18.04.1_amd64.deb ...\n",
            "Unpacking libglx-mesa0:amd64 (18.0.5-0ubuntu0~18.04.1) ...\n",
            "Selecting previously unselected package libglx0:amd64.\n",
            "Preparing to unpack .../095-libglx0_1.0.0-2ubuntu2.2_amd64.deb ...\n",
            "Unpacking libglx0:amd64 (1.0.0-2ubuntu2.2) ...\n",
            "Selecting previously unselected package libgl1:amd64.\n",
            "Preparing to unpack .../096-libgl1_1.0.0-2ubuntu2.2_amd64.deb ...\n",
            "Unpacking libgl1:amd64 (1.0.0-2ubuntu2.2) ...\n",
            "Selecting previously unselected package libiec61883-0:amd64.\n",
            "Preparing to unpack .../097-libiec61883-0_1.2.0-2_amd64.deb ...\n",
            "Unpacking libiec61883-0:amd64 (1.2.0-2) ...\n",
            "Selecting previously unselected package libjack-jackd2-0:amd64.\n",
            "Preparing to unpack .../098-libjack-jackd2-0_1.9.12~dfsg-2_amd64.deb ...\n",
            "Unpacking libjack-jackd2-0:amd64 (1.9.12~dfsg-2) ...\n",
            "Selecting previously unselected package libopenal-data.\n",
            "Preparing to unpack .../099-libopenal-data_1%3a1.18.2-2_all.deb ...\n",
            "Unpacking libopenal-data (1:1.18.2-2) ...\n",
            "Selecting previously unselected package libsndio6.1:amd64.\n",
            "Preparing to unpack .../100-libsndio6.1_1.1.0-3_amd64.deb ...\n",
            "Unpacking libsndio6.1:amd64 (1.1.0-3) ...\n",
            "Selecting previously unselected package libopenal1:amd64.\n",
            "Preparing to unpack .../101-libopenal1_1%3a1.18.2-2_amd64.deb ...\n",
            "Unpacking libopenal1:amd64 (1:1.18.2-2) ...\n",
            "Selecting previously unselected package libasyncns0:amd64.\n",
            "Preparing to unpack .../102-libasyncns0_0.8-6_amd64.deb ...\n",
            "Unpacking libasyncns0:amd64 (0.8-6) ...\n",
            "Selecting previously unselected package libflac8:amd64.\n",
            "Preparing to unpack .../103-libflac8_1.3.2-1_amd64.deb ...\n",
            "Unpacking libflac8:amd64 (1.3.2-1) ...\n",
            "Selecting previously unselected package libsndfile1:amd64.\n",
            "Preparing to unpack .../104-libsndfile1_1.0.28-4_amd64.deb ...\n",
            "Unpacking libsndfile1:amd64 (1.0.28-4) ...\n",
            "Selecting previously unselected package libwrap0:amd64.\n",
            "Preparing to unpack .../105-libwrap0_7.6.q-27_amd64.deb ...\n",
            "Unpacking libwrap0:amd64 (7.6.q-27) ...\n",
            "Selecting previously unselected package libpulse0:amd64.\n",
            "Preparing to unpack .../106-libpulse0_1%3a11.1-1ubuntu7.1_amd64.deb ...\n",
            "Unpacking libpulse0:amd64 (1:11.1-1ubuntu7.1) ...\n",
            "Selecting previously unselected package libwayland-cursor0:amd64.\n",
            "Preparing to unpack .../107-libwayland-cursor0_1.14.0-2_amd64.deb ...\n",
            "Unpacking libwayland-cursor0:amd64 (1.14.0-2) ...\n",
            "Selecting previously unselected package libwayland-egl1-mesa:amd64.\n",
            "Preparing to unpack .../108-libwayland-egl1-mesa_18.0.5-0ubuntu0~18.04.1_amd64.deb ...\n",
            "Unpacking libwayland-egl1-mesa:amd64 (18.0.5-0ubuntu0~18.04.1) ...\n",
            "Selecting previously unselected package libxcursor1:amd64.\n",
            "Preparing to unpack .../109-libxcursor1_1%3a1.1.15-1_amd64.deb ...\n",
            "Unpacking libxcursor1:amd64 (1:1.1.15-1) ...\n",
            "Selecting previously unselected package libxi6:amd64.\n",
            "Preparing to unpack .../110-libxi6_2%3a1.7.9-1_amd64.deb ...\n",
            "Unpacking libxi6:amd64 (2:1.7.9-1) ...\n",
            "Selecting previously unselected package libxkbcommon0:amd64.\n",
            "Preparing to unpack .../111-libxkbcommon0_0.8.0-1ubuntu0.1_amd64.deb ...\n",
            "Unpacking libxkbcommon0:amd64 (0.8.0-1ubuntu0.1) ...\n",
            "Selecting previously unselected package libxrandr2:amd64.\n",
            "Preparing to unpack .../112-libxrandr2_2%3a1.5.1-1_amd64.deb ...\n",
            "Unpacking libxrandr2:amd64 (2:1.5.1-1) ...\n",
            "Selecting previously unselected package libsdl2-2.0-0:amd64.\n",
            "Preparing to unpack .../113-libsdl2-2.0-0_2.0.8+dfsg1-1ubuntu1.18.04.1_amd64.deb ...\n",
            "Unpacking libsdl2-2.0-0:amd64 (2.0.8+dfsg1-1ubuntu1.18.04.1) ...\n",
            "Selecting previously unselected package libxcb-shape0:amd64.\n",
            "Preparing to unpack .../114-libxcb-shape0_1.13-1_amd64.deb ...\n",
            "Unpacking libxcb-shape0:amd64 (1.13-1) ...\n",
            "Selecting previously unselected package libxv1:amd64.\n",
            "Preparing to unpack .../115-libxv1_2%3a1.0.11-1_amd64.deb ...\n",
            "Unpacking libxv1:amd64 (2:1.0.11-1) ...\n",
            "Selecting previously unselected package libavdevice57:amd64.\n",
            "Preparing to unpack .../116-libavdevice57_7%3a3.4.4-0ubuntu0.18.04.1_amd64.deb ...\n",
            "Unpacking libavdevice57:amd64 (7:3.4.4-0ubuntu0.18.04.1) ...\n",
            "Selecting previously unselected package ffmpeg.\n",
            "Preparing to unpack .../117-ffmpeg_7%3a3.4.4-0ubuntu0.18.04.1_amd64.deb ...\n",
            "Unpacking ffmpeg (7:3.4.4-0ubuntu0.18.04.1) ...\n",
            "Selecting previously unselected package libaacs0:amd64.\n",
            "Preparing to unpack .../118-libaacs0_0.9.0-1_amd64.deb ...\n",
            "Unpacking libaacs0:amd64 (0.9.0-1) ...\n",
            "Selecting previously unselected package libbdplus0:amd64.\n",
            "Preparing to unpack .../119-libbdplus0_0.1.2-2_amd64.deb ...\n",
            "Unpacking libbdplus0:amd64 (0.1.2-2) ...\n",
            "Selecting previously unselected package libgdk-pixbuf2.0-bin.\n",
            "Preparing to unpack .../120-libgdk-pixbuf2.0-bin_2.36.11-2_amd64.deb ...\n",
            "Unpacking libgdk-pixbuf2.0-bin (2.36.11-2) ...\n",
            "Selecting previously unselected package librsvg2-common:amd64.\n",
            "Preparing to unpack .../121-librsvg2-common_2.40.20-2_amd64.deb ...\n",
            "Unpacking librsvg2-common:amd64 (2.40.20-2) ...\n",
            "Selecting previously unselected package mesa-va-drivers:amd64.\n",
            "Preparing to unpack .../122-mesa-va-drivers_18.0.5-0ubuntu0~18.04.1_amd64.deb ...\n",
            "Unpacking mesa-va-drivers:amd64 (18.0.5-0ubuntu0~18.04.1) ...\n",
            "Selecting previously unselected package mesa-vdpau-drivers:amd64.\n",
            "Preparing to unpack .../123-mesa-vdpau-drivers_18.0.5-0ubuntu0~18.04.1_amd64.deb ...\n",
            "Unpacking mesa-vdpau-drivers:amd64 (18.0.5-0ubuntu0~18.04.1) ...\n",
            "Selecting previously unselected package i965-va-driver:amd64.\n",
            "Preparing to unpack .../124-i965-va-driver_2.1.0-0ubuntu1_amd64.deb ...\n",
            "Unpacking i965-va-driver:amd64 (2.1.0-0ubuntu1) ...\n",
            "Selecting previously unselected package va-driver-all:amd64.\n",
            "Preparing to unpack .../125-va-driver-all_2.1.0-3_amd64.deb ...\n",
            "Unpacking va-driver-all:amd64 (2.1.0-3) ...\n",
            "Selecting previously unselected package vdpau-driver-all:amd64.\n",
            "Preparing to unpack .../126-vdpau-driver-all_1.1.1-3ubuntu1_amd64.deb ...\n",
            "Unpacking vdpau-driver-all:amd64 (1.1.1-3ubuntu1) ...\n",
            "Setting up libxi6:amd64 (2:1.7.9-1) ...\n",
            "Setting up libxinerama1:amd64 (2:1.1.3-1) ...\n",
            "Setting up libxcb-glx0:amd64 (1.13-1) ...\n",
            "Setting up libtwolame0:amd64 (0.3.13-3) ...\n",
            "Setting up libraw1394-11:amd64 (2.1.2-1) ...\n",
            "Setting up libx264-152:amd64 (2:0.152.2854+gite9a5903-2) ...\n",
            "Setting up libxcb-render0:amd64 (1.13-1) ...\n",
            "Setting up libopenjp2-7:amd64 (2.3.0-1) ...\n",
            "Setting up libasyncns0:amd64 (0.8-6) ...\n",
            "Setting up libxdamage1:amd64 (1:1.1.4-3) ...\n",
            "Setting up libxfixes3:amd64 (1:5.0.3-1) ...\n",
            "Setting up libdrm-amdgpu1:amd64 (2.4.91-2) ...\n",
            "Setting up libllvm6.0:amd64 (1:6.0-1ubuntu2) ...\n",
            "Setting up libwavpack1:amd64 (5.1.0-2ubuntu1.1) ...\n",
            "Setting up libjbig0:amd64 (2.1-3.1build1) ...\n",
            "Setting up libaacs0:amd64 (0.9.0-1) ...\n",
            "Setting up libnuma1:amd64 (2.0.11-2.1) ...\n",
            "Setting up libsoxr0:amd64 (0.1.2-3) ...\n",
            "Setting up libssh-gcrypt-4:amd64 (0.8.0~20170825.94fa1e38-1ubuntu0.1) ...\n",
            "Setting up libasound2-data (1.1.3-5ubuntu0.1) ...\n",
            "Setting up xkb-data (2.23.1-1ubuntu1) ...\n",
            "Setting up libbluray2:amd64 (1:1.0.2-3) ...\n",
            "Setting up libvdpau1:amd64 (1.1.1-3ubuntu1) ...\n",
            "Setting up libgdk-pixbuf2.0-common (2.36.11-2) ...\n",
            "Setting up libdatrie1:amd64 (0.2.10-7) ...\n",
            "Setting up libtiff5:amd64 (4.0.9-5) ...\n",
            "Setting up libshine3:amd64 (3.1.1-1) ...\n",
            "Setting up libva2:amd64 (2.1.0-3) ...\n",
            "Setting up libiec61883-0:amd64 (1.2.0-2) ...\n",
            "Setting up libspeex1:amd64 (1.2~rc1.2-1ubuntu2) ...\n",
            "Setting up libfftw3-double3:amd64 (3.3.7-1) ...\n",
            "Setting up libxvidcore4:amd64 (2:1.3.5-1) ...\n",
            "Setting up libopus0:amd64 (1.1.2-1ubuntu1) ...\n",
            "Setting up libx265-146:amd64 (2.6-3) ...\n",
            "Setting up libasound2:amd64 (1.1.3-5ubuntu0.1) ...\n",
            "Setting up libopenal-data (1:1.18.2-2) ...\n",
            "Setting up libbs2b0:amd64 (3.1.0+dfsg-2.2) ...\n",
            "Setting up libcroco3:amd64 (0.6.12-2) ...\n",
            "Setting up libogg0:amd64 (1.3.2-1) ...\n",
            "Setting up libpixman-1-0:amd64 (0.34.0-2) ...\n",
            "Setting up libmp3lame0:amd64 (3.100-2) ...\n",
            "Setting up libxcursor1:amd64 (1:1.1.15-1) ...\n",
            "Setting up libusb-1.0-0:amd64 (2:1.0.21-2) ...\n",
            "Setting up libcrystalhd3:amd64 (1:0.0~git20110715.fdd2f19-12) ...\n",
            "Processing triggers for libc-bin (2.27-3ubuntu1) ...\n",
            "Setting up libsnappy1v5:amd64 (1.1.7-1) ...\n",
            "Setting up libwayland-egl1-mesa:amd64 (18.0.5-0ubuntu0~18.04.1) ...\n",
            "Setting up libva-drm2:amd64 (2.1.0-3) ...\n",
            "Setting up libavc1394-0:amd64 (0.5.4-4build1) ...\n",
            "Setting up libzvbi-common (0.2.35-13) ...\n",
            "Setting up libfribidi0:amd64 (0.19.7-2) ...\n",
            "Setting up libxcb-shm0:amd64 (1.13-1) ...\n",
            "Setting up libxcb-shape0:amd64 (1.13-1) ...\n",
            "Setting up libpciaccess0:amd64 (0.14-1) ...\n",
            "Setting up libxv1:amd64 (2:1.0.11-1) ...\n",
            "Setting up libsensors4:amd64 (1:3.4.0-4) ...\n",
            "Setting up shared-mime-info (1.9-2) ...\n",
            "Setting up libxkbcommon0:amd64 (0.8.0-1ubuntu0.1) ...\n",
            "Setting up libvpx5:amd64 (1.7.0-3) ...\n",
            "Setting up libdrm-radeon1:amd64 (2.4.91-2) ...\n",
            "Setting up libgme0:amd64 (0.6.2-1) ...\n",
            "Setting up libthai-data (0.1.27-2) ...\n",
            "Setting up libbdplus0:amd64 (0.1.2-2) ...\n",
            "Setting up libxxf86vm1:amd64 (1:1.1.4-1) ...\n",
            "Setting up libzvbi0:amd64 (0.2.35-13) ...\n",
            "Setting up libva-x11-2:amd64 (2.1.0-3) ...\n",
            "Setting up libdrm-nouveau2:amd64 (2.4.91-2) ...\n",
            "Setting up libsamplerate0:amd64 (0.1.9-1) ...\n",
            "Setting up libsndio6.1:amd64 (1.1.0-3) ...\n",
            "Setting up libvorbis0a:amd64 (1.3.5-4.2) ...\n",
            "Setting up libmpg123-0:amd64 (1.25.10-1) ...\n",
            "Setting up libslang2:amd64 (2.3.1a-3ubuntu1) ...\n",
            "Setting up libwayland-cursor0:amd64 (1.14.0-2) ...\n",
            "Setting up libgsm1:amd64 (1.0.13-4build1) ...\n",
            "Setting up libmysofa0:amd64 (0.6~dfsg0-2) ...\n",
            "Setting up libcdio17:amd64 (1.0.0-2ubuntu2) ...\n",
            "Setting up libxrandr2:amd64 (2:1.5.1-1) ...\n",
            "Setting up fontconfig (2.12.6-0ubuntu2) ...\n",
            "Regenerating fonts cache... done.\n",
            "Setting up libwrap0:amd64 (7.6.q-27) ...\n",
            "Setting up libwebp6:amd64 (0.6.1-2) ...\n",
            "Setting up libvorbisfile3:amd64 (1.3.5-4.2) ...\n",
            "Setting up libcairo2:amd64 (1.15.10-2) ...\n",
            "Setting up libavutil55:amd64 (7:3.4.4-0ubuntu0.18.04.1) ...\n",
            "Setting up libopenmpt0:amd64 (0.3.6-1) ...\n",
            "Setting up libflite1:amd64 (2.1-release-1) ...\n",
            "Setting up mesa-vdpau-drivers:amd64 (18.0.5-0ubuntu0~18.04.1) ...\n",
            "Setting up libgdk-pixbuf2.0-0:amd64 (2.36.11-2) ...\n",
            "Setting up libass9:amd64 (1:0.14.0-1) ...\n",
            "Setting up libflac8:amd64 (1.3.2-1) ...\n",
            "Setting up libgdk-pixbuf2.0-bin (2.36.11-2) ...\n",
            "Setting up libdc1394-22:amd64 (2.2.5-1) ...\n",
            "Setting up libcdio-cdda2:amd64 (10.2+0.94+2-2build1) ...\n",
            "Setting up libthai0:amd64 (0.1.27-2) ...\n",
            "Setting up libswresample2:amd64 (7:3.4.4-0ubuntu0.18.04.1) ...\n",
            "Setting up libdrm-intel1:amd64 (2.4.91-2) ...\n",
            "Setting up librubberband2:amd64 (1.8.1-7ubuntu2) ...\n",
            "Setting up libswscale4:amd64 (7:3.4.4-0ubuntu0.18.04.1) ...\n",
            "Setting up libwebpmux3:amd64 (0.6.1-2) ...\n",
            "Setting up mesa-va-drivers:amd64 (18.0.5-0ubuntu0~18.04.1) ...\n",
            "Setting up libpango-1.0-0:amd64 (1.40.14-1ubuntu0.1) ...\n",
            "Setting up libcdio-paranoia2:amd64 (10.2+0.94+2-2build1) ...\n",
            "Setting up libpostproc54:amd64 (7:3.4.4-0ubuntu0.18.04.1) ...\n",
            "Setting up libjack-jackd2-0:amd64 (1.9.12~dfsg-2) ...\n",
            "Setting up libopenal1:amd64 (1:1.18.2-2) ...\n",
            "Setting up libvorbisenc2:amd64 (1.3.5-4.2) ...\n",
            "Setting up libcaca0:amd64 (0.99.beta19-2build2~gcc5.3) ...\n",
            "Setting up libtheora0:amd64 (1.1.1+dfsg.1-14) ...\n",
            "Setting up vdpau-driver-all:amd64 (1.1.1-3ubuntu1) ...\n",
            "Setting up libavresample3:amd64 (7:3.4.4-0ubuntu0.18.04.1) ...\n",
            "Setting up libgl1-mesa-dri:amd64 (18.0.5-0ubuntu0~18.04.1) ...\n",
            "Setting up libpangoft2-1.0-0:amd64 (1.40.14-1ubuntu0.1) ...\n",
            "Setting up libsndfile1:amd64 (1.0.28-4) ...\n",
            "Setting up i965-va-driver:amd64 (2.1.0-0ubuntu1) ...\n",
            "Setting up va-driver-all:amd64 (2.1.0-3) ...\n",
            "Setting up libglx-mesa0:amd64 (18.0.5-0ubuntu0~18.04.1) ...\n",
            "Setting up libpangocairo-1.0-0:amd64 (1.40.14-1ubuntu0.1) ...\n",
            "Setting up libpulse0:amd64 (1:11.1-1ubuntu7.1) ...\n",
            "Setting up libsdl2-2.0-0:amd64 (2.0.8+dfsg1-1ubuntu1.18.04.1) ...\n",
            "Setting up libglx0:amd64 (1.0.0-2ubuntu2.2) ...\n",
            "Setting up librsvg2-2:amd64 (2.40.20-2) ...\n",
            "Setting up libavcodec57:amd64 (7:3.4.4-0ubuntu0.18.04.1) ...\n",
            "Setting up librsvg2-common:amd64 (2.40.20-2) ...\n",
            "Setting up libgl1:amd64 (1.0.0-2ubuntu2.2) ...\n",
            "Setting up libchromaprint1:amd64 (1.4.3-1) ...\n",
            "Setting up libavformat57:amd64 (7:3.4.4-0ubuntu0.18.04.1) ...\n",
            "Setting up libavfilter6:amd64 (7:3.4.4-0ubuntu0.18.04.1) ...\n",
            "Setting up libavdevice57:amd64 (7:3.4.4-0ubuntu0.18.04.1) ...\n",
            "Setting up ffmpeg (7:3.4.4-0ubuntu0.18.04.1) ...\n",
            "Processing triggers for libc-bin (2.27-3ubuntu1) ...\n",
            "Processing triggers for libgdk-pixbuf2.0-0:amd64 (2.36.11-2) ...\n"
          ],
          "name": "stdout"
        }
      ]
    },
    {
      "metadata": {
        "id": "jcnLxpkClrfE",
        "colab_type": "code",
        "colab": {
          "base_uri": "https://localhost:8080/",
          "height": 138
        },
        "outputId": "12f9e634-5d2b-464c-c4d2-69da0d18ab68"
      },
      "cell_type": "code",
      "source": [
        "!pip install torch"
      ],
      "execution_count": 23,
      "outputs": [
        {
          "output_type": "stream",
          "text": [
            "Collecting torch\n",
            "\u001b[?25l  Downloading https://files.pythonhosted.org/packages/49/0e/e382bcf1a6ae8225f50b99cc26effa2d4cc6d66975ccf3fa9590efcbedce/torch-0.4.1-cp36-cp36m-manylinux1_x86_64.whl (519.5MB)\n",
            "\u001b[K    100% |████████████████████████████████| 519.5MB 24kB/s \n",
            "tcmalloc: large alloc 1073750016 bytes == 0x59910000 @  0x7f782d2e52a4 0x594e17 0x626104 0x51190a 0x4f5277 0x510c78 0x5119bd 0x4f5277 0x4f3338 0x510fb0 0x5119bd 0x4f5277 0x4f3338 0x510fb0 0x5119bd 0x4f5277 0x4f3338 0x510fb0 0x5119bd 0x4f6070 0x510c78 0x5119bd 0x4f5277 0x4f3338 0x510fb0 0x5119bd 0x4f6070 0x4f3338 0x510fb0 0x5119bd 0x4f6070\n",
            "\u001b[?25hInstalling collected packages: torch\n",
            "Successfully installed torch-0.4.1\n"
          ],
          "name": "stdout"
        }
      ]
    },
    {
      "metadata": {
        "id": "E4ZGK-I4hANA",
        "colab_type": "text"
      },
      "cell_type": "markdown",
      "source": [
        "# Modelando con NMF y SVD"
      ]
    },
    {
      "metadata": {
        "id": "drehWWyThGLQ",
        "colab_type": "code",
        "colab": {}
      },
      "cell_type": "code",
      "source": [
        "import numpy as np\n",
        "from sklearn.datasets import fetch_20newsgroups\n",
        "from sklearn import decomposition\n",
        "from scipy import linalg\n",
        "import matplotlib.pyplot as plt"
      ],
      "execution_count": 0,
      "outputs": []
    },
    {
      "metadata": {
        "id": "RRA9eSo7nb8T",
        "colab_type": "code",
        "colab": {}
      },
      "cell_type": "code",
      "source": [
        "%matplotlib inline\n",
        "np.set_printoptions(suppress=True)"
      ],
      "execution_count": 0,
      "outputs": []
    },
    {
      "metadata": {
        "id": "iJ_UAXrBn7xd",
        "colab_type": "text"
      },
      "cell_type": "markdown",
      "source": [
        "Configurando Datos"
      ]
    },
    {
      "metadata": {
        "id": "uDeC3vuan-mA",
        "colab_type": "code",
        "colab": {
          "base_uri": "https://localhost:8080/",
          "height": 50
        },
        "outputId": "75e78b47-73e2-4fc3-8fa6-762f43ae66f7"
      },
      "cell_type": "code",
      "source": [
        "categories = ['alt.atheism', 'talk.religion.misc', 'comp.graphics', 'sci.space']\n",
        "remove = ('headers', 'footers', 'quotes')\n",
        "newsgroups_train = fetch_20newsgroups(subset='train', categories=categories, remove=remove)\n",
        "newsgroups_test = fetch_20newsgroups(subset='test', categories=categories, remove=remove)"
      ],
      "execution_count": 30,
      "outputs": [
        {
          "output_type": "stream",
          "text": [
            "Downloading 20news dataset. This may take a few minutes.\n",
            "Downloading dataset from https://ndownloader.figshare.com/files/5975967 (14 MB)\n"
          ],
          "name": "stderr"
        }
      ]
    },
    {
      "metadata": {
        "id": "i-MRg55XoAA6",
        "colab_type": "code",
        "outputId": "3519d841-650d-485d-c188-0af700a30e24",
        "colab": {
          "base_uri": "https://localhost:8080/",
          "height": 34
        }
      },
      "cell_type": "code",
      "source": [
        "newsgroups_train.filenames.shape, newsgroups_train.target.shape"
      ],
      "execution_count": 31,
      "outputs": [
        {
          "output_type": "execute_result",
          "data": {
            "text/plain": [
              "((2034,), (2034,))"
            ]
          },
          "metadata": {
            "tags": []
          },
          "execution_count": 31
        }
      ]
    },
    {
      "metadata": {
        "id": "o80vvCLwomyb",
        "colab_type": "code",
        "outputId": "e5650496-99d9-4695-d2a3-2dc6ce0f1615",
        "colab": {
          "base_uri": "https://localhost:8080/",
          "height": 605
        }
      },
      "cell_type": "code",
      "source": [
        "print(\"\\n\".join(newsgroups_train.data[:3]))"
      ],
      "execution_count": 32,
      "outputs": [
        {
          "output_type": "stream",
          "text": [
            "Hi,\n",
            "\n",
            "I've noticed that if you only save a model (with all your mapping planes\n",
            "positioned carefully) to a .3DS file that when you reload it after restarting\n",
            "3DS, they are given a default position and orientation.  But if you save\n",
            "to a .PRJ file their positions/orientation are preserved.  Does anyone\n",
            "know why this information is not stored in the .3DS file?  Nothing is\n",
            "explicitly said in the manual about saving texture rules in the .PRJ file. \n",
            "I'd like to be able to read the texture rule information, does anyone have \n",
            "the format for the .PRJ file?\n",
            "\n",
            "Is the .CEL file format available from somewhere?\n",
            "\n",
            "Rych\n",
            "\n",
            "\n",
            "Seems to be, barring evidence to the contrary, that Koresh was simply\n",
            "another deranged fanatic who thought it neccessary to take a whole bunch of\n",
            "folks with him, children and all, to satisfy his delusional mania. Jim\n",
            "Jones, circa 1993.\n",
            "\n",
            "\n",
            "Nope - fruitcakes like Koresh have been demonstrating such evil corruption\n",
            "for centuries.\n",
            "\n",
            " >In article <1993Apr19.020359.26996@sq.sq.com>, msb@sq.sq.com (Mark Brader) \n",
            "\n",
            "MB>                                                             So the\n",
            "MB> 1970 figure seems unlikely to actually be anything but a perijove.\n",
            "\n",
            "JG>Sorry, _perijoves_...I'm not used to talking this language.\n",
            "\n",
            "Couldn't we just say periapsis or apoapsis?\n",
            "\n",
            " \n"
          ],
          "name": "stdout"
        }
      ]
    },
    {
      "metadata": {
        "id": "2Z6wPq2_o-1n",
        "colab_type": "code",
        "outputId": "06821061-a775-4097-e1d5-f281e7871aff",
        "colab": {
          "base_uri": "https://localhost:8080/",
          "height": 34
        }
      },
      "cell_type": "code",
      "source": [
        "newsgroups_train.target"
      ],
      "execution_count": 33,
      "outputs": [
        {
          "output_type": "execute_result",
          "data": {
            "text/plain": [
              "array([1, 3, 2, ..., 1, 0, 1])"
            ]
          },
          "metadata": {
            "tags": []
          },
          "execution_count": 33
        }
      ]
    },
    {
      "metadata": {
        "id": "XzRCKRYzpZNT",
        "colab_type": "code",
        "outputId": "6fde04f6-9d52-4ecd-f8d4-835199a7ffd5",
        "colab": {
          "base_uri": "https://localhost:8080/",
          "height": 50
        }
      },
      "cell_type": "code",
      "source": [
        "np.array(newsgroups_train.target_names)[newsgroups_train.target[:]]"
      ],
      "execution_count": 34,
      "outputs": [
        {
          "output_type": "execute_result",
          "data": {
            "text/plain": [
              "array(['comp.graphics', 'talk.religion.misc', 'sci.space', ..., 'comp.graphics', 'alt.atheism',\n",
              "       'comp.graphics'], dtype='<U18')"
            ]
          },
          "metadata": {
            "tags": []
          },
          "execution_count": 34
        }
      ]
    },
    {
      "metadata": {
        "id": "TK-ORh4mpaG3",
        "colab_type": "code",
        "outputId": "d4df1af3-44f4-4bb6-eb35-8cfe2880e300",
        "colab": {
          "base_uri": "https://localhost:8080/",
          "height": 34
        }
      },
      "cell_type": "code",
      "source": [
        "newsgroups_train.target[:10]"
      ],
      "execution_count": 35,
      "outputs": [
        {
          "output_type": "execute_result",
          "data": {
            "text/plain": [
              "array([1, 3, 2, 0, 2, 0, 2, 1, 2, 1])"
            ]
          },
          "metadata": {
            "tags": []
          },
          "execution_count": 35
        }
      ]
    },
    {
      "metadata": {
        "id": "-sEC8LcGpsMy",
        "colab_type": "code",
        "colab": {}
      },
      "cell_type": "code",
      "source": [
        "num_topics, num_top_words = 6, 8"
      ],
      "execution_count": 0,
      "outputs": []
    },
    {
      "metadata": {
        "id": "0hxG9FYGpywB",
        "colab_type": "code",
        "colab": {}
      },
      "cell_type": "code",
      "source": [
        "from sklearn.feature_extraction.text import CountVectorizer, TfidfVectorizer"
      ],
      "execution_count": 0,
      "outputs": []
    },
    {
      "metadata": {
        "id": "9qJnlB89v2s3",
        "colab_type": "code",
        "outputId": "82b710ac-f185-4b29-d911-5d1768ea8d20",
        "colab": {
          "base_uri": "https://localhost:8080/",
          "height": 34
        }
      },
      "cell_type": "code",
      "source": [
        "vectorizer = CountVectorizer(stop_words='english')\n",
        "vectors = vectorizer.fit_transform(newsgroups_train.data).todense() # (documents, vocab)\n",
        "vectors.shape #, vectors.nnz / vectors.shape[0], row_means.shape"
      ],
      "execution_count": 38,
      "outputs": [
        {
          "output_type": "execute_result",
          "data": {
            "text/plain": [
              "(2034, 26576)"
            ]
          },
          "metadata": {
            "tags": []
          },
          "execution_count": 38
        }
      ]
    },
    {
      "metadata": {
        "id": "3ZbSSE6sv5eK",
        "colab_type": "code",
        "outputId": "4d72c1f4-f302-45d0-e1ff-5082c490f6fa",
        "colab": {
          "base_uri": "https://localhost:8080/",
          "height": 34
        }
      },
      "cell_type": "code",
      "source": [
        "print(len(newsgroups_train.data), vectors.shape)"
      ],
      "execution_count": 39,
      "outputs": [
        {
          "output_type": "stream",
          "text": [
            "2034 (2034, 26576)\n"
          ],
          "name": "stdout"
        }
      ]
    },
    {
      "metadata": {
        "id": "lWoh-lScv-15",
        "colab_type": "code",
        "colab": {}
      },
      "cell_type": "code",
      "source": [
        "vocab = np.array(vectorizer.get_feature_names())"
      ],
      "execution_count": 0,
      "outputs": []
    },
    {
      "metadata": {
        "id": "R9ZOC7PpwEZ-",
        "colab_type": "code",
        "outputId": "17a97884-2942-4267-8cbd-bdae298de7d9",
        "colab": {
          "base_uri": "https://localhost:8080/",
          "height": 34
        }
      },
      "cell_type": "code",
      "source": [
        "vocab.shape"
      ],
      "execution_count": 41,
      "outputs": [
        {
          "output_type": "execute_result",
          "data": {
            "text/plain": [
              "(26576,)"
            ]
          },
          "metadata": {
            "tags": []
          },
          "execution_count": 41
        }
      ]
    },
    {
      "metadata": {
        "id": "LaRuqWA0wGjA",
        "colab_type": "code",
        "outputId": "e0908ff9-e191-45c7-fcb9-f19731f36306",
        "colab": {
          "base_uri": "https://localhost:8080/",
          "height": 67
        }
      },
      "cell_type": "code",
      "source": [
        "vocab[7000:7020]"
      ],
      "execution_count": 42,
      "outputs": [
        {
          "output_type": "execute_result",
          "data": {
            "text/plain": [
              "array(['cosmonauts', 'cosmos', 'cosponsored', 'cost', 'costa', 'costar', 'costing', 'costly',\n",
              "       'costruction', 'costs', 'cosy', 'cote', 'couched', 'couldn', 'council', 'councils',\n",
              "       'counsel', 'counselees', 'counselor', 'count'], dtype='<U80')"
            ]
          },
          "metadata": {
            "tags": []
          },
          "execution_count": 42
        }
      ]
    },
    {
      "metadata": {
        "id": "yIf9YolBxC7J",
        "colab_type": "text"
      },
      "cell_type": "markdown",
      "source": [
        "#Descomposición de Valor Singular (SVD)"
      ]
    },
    {
      "metadata": {
        "id": "okZhKGkGwJzs",
        "colab_type": "code",
        "outputId": "b0066e0d-1a7a-4f44-a9ba-23a6245d59e4",
        "colab": {
          "base_uri": "https://localhost:8080/",
          "height": 50
        }
      },
      "cell_type": "code",
      "source": [
        "%time U, s, Vh = linalg.svd(vectors, full_matrices=False)"
      ],
      "execution_count": 43,
      "outputs": [
        {
          "output_type": "stream",
          "text": [
            "CPU times: user 1min 39s, sys: 6.14 s, total: 1min 45s\n",
            "Wall time: 54.3 s\n"
          ],
          "name": "stdout"
        }
      ]
    },
    {
      "metadata": {
        "id": "UPd94LesxBcS",
        "colab_type": "code",
        "outputId": "334c6cee-5545-4ad3-a3c2-fd3c9bfb494d",
        "colab": {
          "base_uri": "https://localhost:8080/",
          "height": 34
        }
      },
      "cell_type": "code",
      "source": [
        "print(U.shape, s.shape, Vh.shape)"
      ],
      "execution_count": 44,
      "outputs": [
        {
          "output_type": "stream",
          "text": [
            "(2034, 2034) (2034,) (2034, 26576)\n"
          ],
          "name": "stdout"
        }
      ]
    },
    {
      "metadata": {
        "id": "DKNOVXiskwO-",
        "colab_type": "text"
      },
      "cell_type": "markdown",
      "source": [
        "### Ejercicio: confirma que U, s, Vh es una descomposición de las variables "
      ]
    },
    {
      "metadata": {
        "id": "1bwKcnFExWCC",
        "colab_type": "code",
        "outputId": "ee490754-caef-4916-ff02-7d3cf202e971",
        "colab": {
          "base_uri": "https://localhost:8080/",
          "height": 34
        }
      },
      "cell_type": "code",
      "source": [
        "#Obteniendo o creando la diagonal de un vector - np.diag\n",
        "#np.diag te permite obtener una matriz de un vector, o un vector de una matriz\n",
        "reconstruyendo_vector = U @ np.diag(s) @  Vh\n",
        "np.linalg.norm(reconstruyendo_vector - vectors)\n",
        "np.allclose(reconstruyendo_vector,vectors)"
      ],
      "execution_count": 45,
      "outputs": [
        {
          "output_type": "execute_result",
          "data": {
            "text/plain": [
              "True"
            ]
          },
          "metadata": {
            "tags": []
          },
          "execution_count": 45
        }
      ]
    },
    {
      "metadata": {
        "id": "zWzrrpbCuUap",
        "colab_type": "text"
      },
      "cell_type": "markdown",
      "source": [
        "###Ejercicio: confirme que U, Vh son ortonormales"
      ]
    },
    {
      "metadata": {
        "id": "oeWSjPCUoouW",
        "colab_type": "code",
        "outputId": "302ed028-d766-457e-af21-a3c0f8885c36",
        "colab": {
          "base_uri": "https://localhost:8080/",
          "height": 34
        }
      },
      "cell_type": "code",
      "source": [
        "#Ortogonales:Multiplicación de sus transposiciones y luego su comparación con su identidad\n",
        "#np.eye - Devuelve una matriz que tiene 1 en la diagonal y 0 en cualquier otra parte de la matriz\n",
        "np.allclose(U @ U.T, np.eye(U.shape[0]))\n",
        "np.allclose(Vh @ Vh.T, np.eye(Vh.shape[0]))"
      ],
      "execution_count": 46,
      "outputs": [
        {
          "output_type": "execute_result",
          "data": {
            "text/plain": [
              "True"
            ]
          },
          "metadata": {
            "tags": []
          },
          "execution_count": 46
        }
      ]
    },
    {
      "metadata": {
        "id": "aBShDwfEVXAh",
        "colab_type": "code",
        "outputId": "6adff6f7-6644-4a4a-84fe-bad291f1f478",
        "colab": {
          "base_uri": "https://localhost:8080/",
          "height": 282
        }
      },
      "cell_type": "code",
      "source": [
        "plt.plot(s)"
      ],
      "execution_count": 47,
      "outputs": [
        {
          "output_type": "execute_result",
          "data": {
            "text/plain": [
              "[<matplotlib.lines.Line2D at 0x7f8ee3bbfc18>]"
            ]
          },
          "metadata": {
            "tags": []
          },
          "execution_count": 47
        },
        {
          "output_type": "display_data",
          "data": {
            "image/png": "[encoded data removed]",
            "text/plain": [
              "<matplotlib.figure.Figure at 0x7f8ee3c30c18>"
            ]
          },
          "metadata": {
            "tags": []
          }
        }
      ]
    },
    {
      "metadata": {
        "id": "-C17p6i-VbqB",
        "colab_type": "code",
        "outputId": "bda0f7a6-019d-4774-e381-ead9074ff087",
        "colab": {
          "base_uri": "https://localhost:8080/",
          "height": 286
        }
      },
      "cell_type": "code",
      "source": [
        "plt.plot(s[:10])"
      ],
      "execution_count": 48,
      "outputs": [
        {
          "output_type": "execute_result",
          "data": {
            "text/plain": [
              "[<matplotlib.lines.Line2D at 0x7f8ee3bf0828>]"
            ]
          },
          "metadata": {
            "tags": []
          },
          "execution_count": 48
        },
        {
          "output_type": "display_data",
          "data": {
            "image/png": "[encoded data removed]",
            "text/plain": [
              "<matplotlib.figure.Figure at 0x7f8ee3bc2ef0>"
            ]
          },
          "metadata": {
            "tags": []
          }
        }
      ]
    },
    {
      "metadata": {
        "id": "Qezwu2AtVmlZ",
        "colab_type": "code",
        "colab": {}
      },
      "cell_type": "code",
      "source": [
        "#np.argsort - Devuelve los índices que clasificarían una matriz.\n",
        "#El método join () proporciona una forma flexible de concatenar strings. \n",
        "#Concatena cada elemento de forma iterable (como listas, strings y tuplas) y devuelve el string concatenado.\n",
        "\n",
        "\n",
        "num_top_words=8\n",
        "\n",
        "\n",
        "def show_topics(a):\n",
        "    top_words = lambda t: [vocab[i] for i in np.argsort(t)[:-num_top_words-1:-1]]\n",
        "    topic_words = ([top_words(t) for t in a])\n",
        "    return [' '.join(t) for t in topic_words]"
      ],
      "execution_count": 0,
      "outputs": []
    },
    {
      "metadata": {
        "id": "NbdbTYqSY1TA",
        "colab_type": "code",
        "outputId": "be09e5af-e668-401e-e2ab-26ac9a17c4f4",
        "colab": {
          "base_uri": "https://localhost:8080/",
          "height": 185
        }
      },
      "cell_type": "code",
      "source": [
        "show_topics(Vh[:10])"
      ],
      "execution_count": 50,
      "outputs": [
        {
          "output_type": "execute_result",
          "data": {
            "text/plain": [
              "['ditto critus propagandist surname galacticentric kindergarten surreal imaginative',\n",
              " 'jpeg gif file color quality image jfif format',\n",
              " 'graphics edu pub mail 128 3d ray ftp',\n",
              " 'jesus god matthew people atheists atheism does graphics',\n",
              " 'image data processing analysis software available tools display',\n",
              " 'god atheists atheism religious believe religion argument true',\n",
              " 'space nasa lunar mars probe moon missions probes',\n",
              " 'image probe surface lunar mars probes moon orbit',\n",
              " 'argument fallacy conclusion example true ad argumentum premises',\n",
              " 'space larson image theory universe physical nasa material']"
            ]
          },
          "metadata": {
            "tags": []
          },
          "execution_count": 50
        }
      ]
    },
    {
      "metadata": {
        "id": "U_NpvUvWaNvA",
        "colab_type": "text"
      },
      "cell_type": "markdown",
      "source": [
        "# Factorización matricial no negativa (NMF)"
      ]
    },
    {
      "metadata": {
        "id": "WoC-BitJoo9m",
        "colab_type": "text"
      },
      "cell_type": "markdown",
      "source": [
        "La factorización de matriz no negativa (FNM) es una factorización no exacta que se basa en una matriz positiva delgada y una matriz positiva corta. NMF es NP-hard y no único. Hay una serie de variaciones en NMF, creadas agregando diferentes restricciones."
      ]
    },
    {
      "metadata": {
        "id": "cij6YlQjaRZ3",
        "colab_type": "code",
        "colab": {}
      },
      "cell_type": "code",
      "source": [
        "n,m=vectors.shape\n",
        "d=5 #num topics"
      ],
      "execution_count": 0,
      "outputs": []
    },
    {
      "metadata": {
        "id": "y38U_XxMKBC3",
        "colab_type": "code",
        "colab": {}
      },
      "cell_type": "code",
      "source": [
        "CLF = decomposition.NMF(n_components=d,random_state=1)\n",
        "\n",
        "W1 = CLF.fit_transform(vectors)\n",
        "H1 = CLF.components_"
      ],
      "execution_count": 0,
      "outputs": []
    },
    {
      "metadata": {
        "id": "FZlDfRCgKhVF",
        "colab_type": "code",
        "outputId": "fef072d1-e5ca-4133-e129-ffa7be945cee",
        "colab": {
          "base_uri": "https://localhost:8080/",
          "height": 101
        }
      },
      "cell_type": "code",
      "source": [
        "show_topics(H1)"
      ],
      "execution_count": 53,
      "outputs": [
        {
          "output_type": "execute_result",
          "data": {
            "text/plain": [
              "['jpeg image gif file color images format quality',\n",
              " 'edu graphics pub mail 128 ray ftp send',\n",
              " 'space launch satellite nasa commercial satellites year market',\n",
              " 'jesus god people matthew atheists does atheism said',\n",
              " 'image data available software processing ftp edu analysis']"
            ]
          },
          "metadata": {
            "tags": []
          },
          "execution_count": 53
        }
      ]
    },
    {
      "metadata": {
        "id": "FoU0d5w3Oxe0",
        "colab_type": "text"
      },
      "cell_type": "markdown",
      "source": [
        "###TF_IDF\n",
        "La frecuencia de documentos de frecuencia inversa (TF-IDF, por sus siglas en inglés) es una forma de normalizar el recuento de términos teniendo en cuenta la frecuencia con la que aparecen en un documento, la duración del documento y el carácter común/raro del término."
      ]
    },
    {
      "metadata": {
        "id": "HUMa2qL7PIGJ",
        "colab_type": "text"
      },
      "cell_type": "markdown",
      "source": [
        "TF = (# recuento del término t en el documento) / (# de palabras en el documento)\n",
        "\n",
        "IDF = log(# de documentos / # de documentos con el término t en el documento)"
      ]
    },
    {
      "metadata": {
        "id": "sCJu_OeGPEZF",
        "colab_type": "code",
        "colab": {}
      },
      "cell_type": "code",
      "source": [
        "vectorizer_tfidf = TfidfVectorizer(stop_words='english')\n",
        "vectors_tfidf = vectorizer_tfidf.fit_transform(newsgroups_train.data) #(documents,vocab)"
      ],
      "execution_count": 0,
      "outputs": []
    },
    {
      "metadata": {
        "id": "y1HMtqaxQjMa",
        "colab_type": "code",
        "colab": {}
      },
      "cell_type": "code",
      "source": [
        "W1 = CLF.fit_transform(vectors_tfidf)\n",
        "H1 = CLF.components_"
      ],
      "execution_count": 0,
      "outputs": []
    },
    {
      "metadata": {
        "id": "pAJLiKdQQukb",
        "colab_type": "code",
        "outputId": "66bc6e9b-e469-4bc4-f17c-6e0484935b24",
        "colab": {
          "base_uri": "https://localhost:8080/",
          "height": 101
        }
      },
      "cell_type": "code",
      "source": [
        "show_topics(H1)"
      ],
      "execution_count": 56,
      "outputs": [
        {
          "output_type": "execute_result",
          "data": {
            "text/plain": [
              "['people don think just like objective say morality',\n",
              " 'graphics thanks files image file program windows know',\n",
              " 'space nasa launch shuttle orbit moon lunar earth',\n",
              " 'ico bobbe tek beauchaine bronx manhattan sank queens',\n",
              " 'god jesus bible believe christian atheism does belief']"
            ]
          },
          "metadata": {
            "tags": []
          },
          "execution_count": 56
        }
      ]
    },
    {
      "metadata": {
        "id": "LmMJ5SbXQxhG",
        "colab_type": "code",
        "outputId": "39cba56b-bafc-480b-a4b6-f4779a8769da",
        "colab": {
          "base_uri": "https://localhost:8080/",
          "height": 282
        }
      },
      "cell_type": "code",
      "source": [
        "plt.plot(CLF.components_[0])"
      ],
      "execution_count": 57,
      "outputs": [
        {
          "output_type": "execute_result",
          "data": {
            "text/plain": [
              "[<matplotlib.lines.Line2D at 0x7f8ee371ec88>]"
            ]
          },
          "metadata": {
            "tags": []
          },
          "execution_count": 57
        },
        {
          "output_type": "display_data",
          "data": {
            "image/png": "[encoded data removed]",
            "text/plain": [
              "<matplotlib.figure.Figure at 0x7f8ee3c3a438>"
            ]
          },
          "metadata": {
            "tags": []
          }
        }
      ]
    },
    {
      "metadata": {
        "id": "AwNwg9xXQ3nH",
        "colab_type": "code",
        "outputId": "12169a89-3f8a-46d9-829e-c886b6db1f60",
        "colab": {
          "base_uri": "https://localhost:8080/",
          "height": 34
        }
      },
      "cell_type": "code",
      "source": [
        "CLF.reconstruction_err_"
      ],
      "execution_count": 58,
      "outputs": [
        {
          "output_type": "execute_result",
          "data": {
            "text/plain": [
              "43.7129"
            ]
          },
          "metadata": {
            "tags": []
          },
          "execution_count": 58
        }
      ]
    },
    {
      "metadata": {
        "id": "Vo9XMx9TSdGg",
        "colab_type": "text"
      },
      "cell_type": "markdown",
      "source": [
        "##NMF usando SGD(Gradiente Estocastica Descendiente)"
      ]
    },
    {
      "metadata": {
        "id": "g_NEKQEbW2-a",
        "colab_type": "text"
      },
      "cell_type": "markdown",
      "source": [
        "La idea clave de la pendiente de gradiente estándar :\n",
        "\n",
        "1. Elige aleatoriamente algunos pesos para comenzar.\n",
        "2. Loop:\n",
        "      * Usa pesos para calcular una predicción\n",
        "      * Calcular la derivada de la pérdida.\n",
        "      * Actualizar los pesos.\n",
        "\n",
        "3. Repita el paso 2 muchas veces. Finalmente se termina con algunos pesos decentes.\n",
        "\n",
        "Clave : Queremos disminuir nuestra pérdida y el derivado nos dice la dirección del descenso más pronunciado .\n",
        "\n",
        "Tenga en cuenta que la pérdida , el error y el costo son términos usados ​**​para describir lo mismo.**"
      ]
    },
    {
      "metadata": {
        "id": "A-pnZtZ4YrOf",
        "colab_type": "code",
        "colab": {}
      },
      "cell_type": "code",
      "source": [
        "%matplotlib inline\n",
        "import math,sys,os,numpy as np\n",
        "from numpy.random import random\n",
        "from matplotlib import pyplot as plt, rcParams, animation, rc\n",
        "from __future__ import print_function, division\n",
        "from ipywidgets import interact, interactive, fixed\n",
        "from ipywidgets.widgets import *\n",
        "rc('animation', html='html5')\n",
        "rcParams['figure.figsize'] = 3, 3\n",
        "%precision 4\n",
        "np.set_printoptions(precision=4, linewidth=100)"
      ],
      "execution_count": 0,
      "outputs": []
    },
    {
      "metadata": {
        "id": "E2rESeBXZBoJ",
        "colab_type": "code",
        "colab": {}
      },
      "cell_type": "code",
      "source": [
        "#Función lineal\n",
        "def lin(a,b,x): return a*x+b"
      ],
      "execution_count": 0,
      "outputs": []
    },
    {
      "metadata": {
        "id": "pCVtIDAwZOxo",
        "colab_type": "code",
        "colab": {}
      },
      "cell_type": "code",
      "source": [
        "#definiendo los pesos\n",
        "a=3.\n",
        "b=8."
      ],
      "execution_count": 0,
      "outputs": []
    },
    {
      "metadata": {
        "id": "EyG9ZCd-ZSwa",
        "colab_type": "code",
        "colab": {}
      },
      "cell_type": "code",
      "source": [
        "n=30\n",
        "x = random(n)\n",
        "y = lin(a,b,x)"
      ],
      "execution_count": 0,
      "outputs": []
    },
    {
      "metadata": {
        "id": "7t64Pq4HZcey",
        "colab_type": "code",
        "colab": {
          "base_uri": "https://localhost:8080/",
          "height": 67
        },
        "outputId": "2190192e-2f05-43d0-900f-8d1985162391"
      },
      "cell_type": "code",
      "source": [
        "x"
      ],
      "execution_count": 8,
      "outputs": [
        {
          "output_type": "execute_result",
          "data": {
            "text/plain": [
              "array([0.656 , 0.3872, 0.5473, 0.5352, 0.1011, 0.1615, 0.8352, 0.3188, 0.0265, 0.3819, 0.7293,\n",
              "       0.8587, 0.8376, 0.9553, 0.2918, 0.2562, 0.7627, 0.5206, 0.2977, 0.4708, 0.2386, 0.3724,\n",
              "       0.995 , 0.0423, 0.9698, 0.1335, 0.694 , 0.2815, 0.8883, 0.8084])"
            ]
          },
          "metadata": {
            "tags": []
          },
          "execution_count": 8
        }
      ]
    },
    {
      "metadata": {
        "id": "_BQjzIprZeVp",
        "colab_type": "code",
        "colab": {
          "base_uri": "https://localhost:8080/",
          "height": 67
        },
        "outputId": "8de9e07f-1e51-4886-bad5-4ed995deba76"
      },
      "cell_type": "code",
      "source": [
        "y"
      ],
      "execution_count": 9,
      "outputs": [
        {
          "output_type": "execute_result",
          "data": {
            "text/plain": [
              "array([ 9.9679,  9.1615,  9.642 ,  9.6056,  8.3034,  8.4845, 10.5055,  8.9563,  8.0796,  9.1457,\n",
              "       10.188 , 10.576 , 10.5127, 10.866 ,  8.8755,  8.7687, 10.2881,  9.5617,  8.8931,  9.4123,\n",
              "        8.7159,  9.1173, 10.985 ,  8.1268, 10.9095,  8.4004, 10.0821,  8.8445, 10.6648, 10.4251])"
            ]
          },
          "metadata": {
            "tags": []
          },
          "execution_count": 9
        }
      ]
    },
    {
      "metadata": {
        "id": "eWFIvTkrZhBF",
        "colab_type": "code",
        "colab": {
          "base_uri": "https://localhost:8080/",
          "height": 228
        },
        "outputId": "e97d4e47-ede2-44fa-a3c2-b579d2a7d0e2"
      },
      "cell_type": "code",
      "source": [
        "#Cálculo de la dispersión entre puntos\n",
        "plt.scatter(x,y)"
      ],
      "execution_count": 10,
      "outputs": [
        {
          "output_type": "execute_result",
          "data": {
            "text/plain": [
              "<matplotlib.collections.PathCollection at 0x7f8f1ef2fc18>"
            ]
          },
          "metadata": {
            "tags": []
          },
          "execution_count": 10
        },
        {
          "output_type": "display_data",
          "data": {
            "image/png": "[encoded data removed]",
            "text/plain": [
              "<matplotlib.figure.Figure at 0x7f8f1f651860>"
            ]
          },
          "metadata": {
            "tags": []
          }
        }
      ]
    },
    {
      "metadata": {
        "id": "GIzqDvd-ZxwC",
        "colab_type": "code",
        "colab": {}
      },
      "cell_type": "code",
      "source": [
        "# sse --> sesgo\n",
        "# loss --> peso\n",
        "# avg_loss --> promedio de perdidad\n",
        "def sse(y,y_pred): return ((y-y_pred)**2).sum()\n",
        "def loss(y,a,b,x): return sse(y, lin(a,b,x))\n",
        "def avg_loss(y,a,b,x): return np.sqrt(loss(y,a,b,x)/n)"
      ],
      "execution_count": 0,
      "outputs": []
    },
    {
      "metadata": {
        "id": "0kHi4KrHaKTV",
        "colab_type": "code",
        "colab": {
          "base_uri": "https://localhost:8080/",
          "height": 34
        },
        "outputId": "7804945b-371c-407b-c3dd-5803bcf34b59"
      },
      "cell_type": "code",
      "source": [
        "#actualizacion de los pesos \n",
        "a_guess=-1.\n",
        "b_guess=1.\n",
        "avg_loss(y, a_guess, b_guess, x)"
      ],
      "execution_count": 13,
      "outputs": [
        {
          "output_type": "execute_result",
          "data": {
            "text/plain": [
              "9.1247"
            ]
          },
          "metadata": {
            "tags": []
          },
          "execution_count": 13
        }
      ]
    },
    {
      "metadata": {
        "id": "ODElvQefaVmL",
        "colab_type": "code",
        "colab": {}
      },
      "cell_type": "code",
      "source": [
        "lr=0.01\n",
        "# d[(y-(a*x+b))**2,b] = 2 (b + a x - y)      = 2 (y_pred - y)\n",
        "# d[(y-(a*x+b))**2,a] = 2 x (b + a x - y)    = x * dy/db\n"
      ],
      "execution_count": 0,
      "outputs": []
    },
    {
      "metadata": {
        "id": "nkpHlGn-aaZ9",
        "colab_type": "code",
        "colab": {}
      },
      "cell_type": "code",
      "source": [
        "#funcion global para actualizar los pesos\n",
        "def upd():\n",
        "    global a_guess, b_guess\n",
        "    \n",
        "    # hace la predicción usando los pesos actuales\n",
        "    y_pred = lin(a_guess, b_guess, x)\n",
        "    \n",
        "    # calula la derivada de la perdida\n",
        "    dydb = 2 * (y_pred - y)\n",
        "    dyda = x*dydb\n",
        "    \n",
        "    # actuliza los pesos moviendolos en una dirección empinada descendiente \n",
        "    a_guess -= lr*dyda.mean()\n",
        "    b_guess -= lr*dydb.mean()"
      ],
      "execution_count": 0,
      "outputs": []
    },
    {
      "metadata": {
        "id": "H6W3b24SYLw3",
        "colab_type": "text"
      },
      "cell_type": "markdown",
      "source": [
        "# Pendiente de gradiente estocástico (SGD)"
      ]
    },
    {
      "metadata": {
        "id": "wl199ep8dHwP",
        "colab_type": "text"
      },
      "cell_type": "markdown",
      "source": [
        " Es un método de optimización útil (también es el corazón del aprendizaje profundo, donde se utiliza para back-propagation).\n",
        " \n",
        "Para el gradiente estándar descendiente , evaluamos la pérdida utilizando todos nuestros datos, que pueden ser realmente lentos. En la gradiente estocástica descendiente, evaluamos nuestra función de pérdida solo en una muestra de nuestros datos (a veces se denomina mini-lote ). Obteniendo diferentes valores de pérdida en diferentes muestras de los datos, por lo que es estocástico . Resulta que esta sigue siendo una forma efectiva de optimizar, ¡y es mucho más eficiente!.\n"
      ]
    },
    {
      "metadata": {
        "id": "gT-meGNAdRK0",
        "colab_type": "code",
        "colab": {
          "base_uri": "https://localhost:8080/",
          "height": 195
        },
        "outputId": "1976bf72-d81f-4b5b-80c3-122c86724cad"
      },
      "cell_type": "code",
      "source": [
        "lam=1e3\n",
        "lr=1e-2\n",
        "m, n = vectors_tfidf.shape"
      ],
      "execution_count": 25,
      "outputs": [
        {
          "output_type": "error",
          "ename": "NameError",
          "evalue": "ignored",
          "traceback": [
            "\u001b[0;31m---------------------------------------------------------------------------\u001b[0m",
            "\u001b[0;31mNameError\u001b[0m                                 Traceback (most recent call last)",
            "\u001b[0;32m<ipython-input-25-3e43800b0dd6>\u001b[0m in \u001b[0;36m<module>\u001b[0;34m()\u001b[0m\n\u001b[1;32m      1\u001b[0m \u001b[0mlam\u001b[0m\u001b[0;34m=\u001b[0m\u001b[0;36m1e3\u001b[0m\u001b[0;34m\u001b[0m\u001b[0m\n\u001b[1;32m      2\u001b[0m \u001b[0mlr\u001b[0m\u001b[0;34m=\u001b[0m\u001b[0;36m1e-2\u001b[0m\u001b[0;34m\u001b[0m\u001b[0m\n\u001b[0;32m----> 3\u001b[0;31m \u001b[0mm\u001b[0m\u001b[0;34m,\u001b[0m \u001b[0mn\u001b[0m \u001b[0;34m=\u001b[0m \u001b[0mvectors_tfidf\u001b[0m\u001b[0;34m.\u001b[0m\u001b[0mshape\u001b[0m\u001b[0;34m\u001b[0m\u001b[0m\n\u001b[0m",
            "\u001b[0;31mNameError\u001b[0m: name 'vectors_tfidf' is not defined"
          ]
        }
      ]
    },
    {
      "metadata": {
        "id": "jyG93usrmeIw",
        "colab_type": "code",
        "colab": {}
      },
      "cell_type": "code",
      "source": [
        "W1 = clf.fit_transform(vectors)\n",
        "H1 = clf.components_\n"
      ],
      "execution_count": 0,
      "outputs": []
    },
    {
      "metadata": {
        "id": "-b9de0RJmgD-",
        "colab_type": "code",
        "colab": {}
      },
      "cell_type": "code",
      "source": [
        "show_topics(H1)"
      ],
      "execution_count": 0,
      "outputs": []
    },
    {
      "metadata": {
        "id": "ukkY7gjBmjhy",
        "colab_type": "code",
        "colab": {}
      },
      "cell_type": "code",
      "source": [
        "mu = 1e-6\n",
        "def grads(M, W, H):\n",
        "    R = W@H-M\n",
        "    return R@H.T + penalty(W, mu)*lam, W.T@R + penalty(H, mu)*lam # dW, dH"
      ],
      "execution_count": 0,
      "outputs": []
    },
    {
      "metadata": {
        "id": "RcvkJMcWmlqt",
        "colab_type": "code",
        "colab": {}
      },
      "cell_type": "code",
      "source": [
        "def penalty(M, mu):\n",
        "    return np.where(M>=mu,0, np.min(M - mu, 0))\n"
      ],
      "execution_count": 0,
      "outputs": []
    },
    {
      "metadata": {
        "id": "r4uQGFFEmooI",
        "colab_type": "code",
        "colab": {}
      },
      "cell_type": "code",
      "source": [
        "def upd(M, W, H, lr):\n",
        "  dW,dH = grads(M,W,H)\n",
        "    W -= lr*dW; H -= lr*dH"
      ],
      "execution_count": 0,
      "outputs": []
    },
    {
      "metadata": {
        "id": "GYsm_ZSEmtpw",
        "colab_type": "code",
        "colab": {}
      },
      "cell_type": "code",
      "source": [
        "def report(M,W,H): \n",
        "    print(np.linalg.norm(M-W@H), W.min(), H.min(), (W<0).sum(), (H<0).sum())"
      ],
      "execution_count": 0,
      "outputs": []
    },
    {
      "metadata": {
        "id": "SxJWYGDYmzwJ",
        "colab_type": "code",
        "colab": {}
      },
      "cell_type": "code",
      "source": [
        "W = np.abs(np.random.normal(scale=0.01, size=(m,d)))\n",
        "H = np.abs(np.random.normal(scale=0.01, size=(d,n)))"
      ],
      "execution_count": 0,
      "outputs": []
    },
    {
      "metadata": {
        "id": "oW0xk4OTm15p",
        "colab_type": "code",
        "colab": {}
      },
      "cell_type": "code",
      "source": [
        "report(vectors_tfidf, W, H)"
      ],
      "execution_count": 0,
      "outputs": []
    },
    {
      "metadata": {
        "id": "AKZwyOLBm4A7",
        "colab_type": "code",
        "colab": {}
      },
      "cell_type": "code",
      "source": [
        "upd(vectors_tfidf,W,H,lr)"
      ],
      "execution_count": 0,
      "outputs": []
    },
    {
      "metadata": {
        "id": "SAZ-4mwNm4qS",
        "colab_type": "code",
        "colab": {}
      },
      "cell_type": "code",
      "source": [
        "report(vectors_tfidf, W, H)"
      ],
      "execution_count": 0,
      "outputs": []
    },
    {
      "metadata": {
        "id": "Smx77usZm8Xl",
        "colab_type": "code",
        "colab": {}
      },
      "cell_type": "code",
      "source": [
        "for i in range(50): \n",
        "    upd(vectors_tfidf,W,H,lr)\n",
        "    if i % 10 == 0: report(vectors_tfidf,W,H)"
      ],
      "execution_count": 0,
      "outputs": []
    },
    {
      "metadata": {
        "id": "vn5f3rUSnB9M",
        "colab_type": "code",
        "colab": {}
      },
      "cell_type": "code",
      "source": [
        "show_topics(H)"
      ],
      "execution_count": 0,
      "outputs": []
    },
    {
      "metadata": {
        "id": "W3_nbZd3nIiH",
        "colab_type": "text"
      },
      "cell_type": "markdown",
      "source": [
        "# Pytorch"
      ]
    },
    {
      "metadata": {
        "id": "kzUYt-lXnMir",
        "colab_type": "text"
      },
      "cell_type": "markdown",
      "source": [
        "Es un paquete basado en scientific computing package con el objetivo de:\n",
        "  * Como reemplazo de Numpy para usar el poder del GPU.\n",
        "  * Como plataforma de investigación de Deep Learning, que posee una máxima flexibilidad y velocidad."
      ]
    },
    {
      "metadata": {
        "id": "CBgw-v0EjVe4",
        "colab_type": "code",
        "colab": {}
      },
      "cell_type": "code",
      "source": [
        "import torch\n",
        "import torch.cuda as tc\n",
        "from torch.autograd import Variable"
      ],
      "execution_count": 0,
      "outputs": []
    },
    {
      "metadata": {
        "id": "wBi3VeFFn8Lm",
        "colab_type": "code",
        "colab": {}
      },
      "cell_type": "code",
      "source": [
        "def V(M): return Variable(M, requires_grad=True)\n"
      ],
      "execution_count": 0,
      "outputs": []
    },
    {
      "metadata": {
        "id": "GytOR09on83p",
        "colab_type": "code",
        "colab": {}
      },
      "cell_type": "code",
      "source": [
        "v=vectors_tfidf.todense()"
      ],
      "execution_count": 0,
      "outputs": []
    },
    {
      "metadata": {
        "id": "6jh6LQ3un_hV",
        "colab_type": "code",
        "colab": {}
      },
      "cell_type": "code",
      "source": [
        "t_vectors = torch.Tensor(v.astype(np.float32))"
      ],
      "execution_count": 0,
      "outputs": []
    },
    {
      "metadata": {
        "id": "4FJ6rL3homX9",
        "colab_type": "code",
        "colab": {}
      },
      "cell_type": "code",
      "source": [
        "mu = 1e-5"
      ],
      "execution_count": 0,
      "outputs": []
    },
    {
      "metadata": {
        "id": "aaz2wvPToryo",
        "colab_type": "code",
        "colab": {}
      },
      "cell_type": "code",
      "source": [
        "def grads_t(M, W, H):\n",
        "    R = W.mm(H)-M\n",
        "    return (R.mm(H.t()) + penalty_t(W, mu)*lam, \n",
        "        W.t().mm(R) + penalty_t(H, mu)*lam) # dW, dH\n",
        "\n",
        "def penalty_t(M, mu):\n",
        "    return (M<mu).type(tc.FloatTensor)*torch.clamp(M - mu, max=0.)\n",
        "\n",
        "def upd_t(M, W, H, lr):\n",
        "    dW,dH = grads_t(M,W,H)\n",
        "    W.sub_(lr*dW); H.sub_(lr*dH)\n",
        "\n",
        "def report_t(M,W,H): \n",
        "    print((M-W.mm(H)).norm(2), W.min(), H.min(), (W<0).sum(), (H<0).sum())"
      ],
      "execution_count": 0,
      "outputs": []
    },
    {
      "metadata": {
        "id": "tjJjWgjoounT",
        "colab_type": "code",
        "colab": {}
      },
      "cell_type": "code",
      "source": [
        "t_W = tc.FloatTensor(m,d)\n",
        "t_H = tc.FloatTensor(d,n)\n",
        "t_W.normal_(std=0.01).abs_(); \n",
        "t_H.normal_(std=0.01).abs_();"
      ],
      "execution_count": 0,
      "outputs": []
    },
    {
      "metadata": {
        "id": "nzlaDoifowTQ",
        "colab_type": "code",
        "colab": {}
      },
      "cell_type": "code",
      "source": [
        "d=6; lam=100; lr=0.05"
      ],
      "execution_count": 0,
      "outputs": []
    },
    {
      "metadata": {
        "id": "61UsEHMXozCZ",
        "colab_type": "code",
        "colab": {}
      },
      "cell_type": "code",
      "source": [
        "for i in range(1000): \n",
        "    upd_t(t_vectors,t_W,t_H,lr)\n",
        "    if i % 100 == 0: \n",
        "        report_t(t_vectors,t_W,t_H)\n",
        "        lr *= 0.9"
      ],
      "execution_count": 0,
      "outputs": []
    }
  ]
}