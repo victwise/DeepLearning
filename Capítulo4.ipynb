{
  "nbformat": 4,
  "nbformat_minor": 0,
  "metadata": {
    "colab": {
      "name": "Capítulo4.ipynb",
      "version": "0.3.2",
      "provenance": [],
      "collapsed_sections": [],
      "toc_visible": true,
      "include_colab_link": true
    },
    "kernelspec": {
      "name": "python3",
      "display_name": "Python 3"
    }
  },
  "cells": [
    {
      "cell_type": "markdown",
      "metadata": {
        "id": "view-in-github",
        "colab_type": "text"
      },
      "source": [
        "<a href=\"https://colab.research.google.com/github/victwise/fastai_numerical_linear_algebra/blob/master/Cap%C3%ADtulo4.ipynb\" target=\"_parent\"><img src=\"https://colab.research.google.com/assets/colab-badge.svg\" alt=\"Open In Colab\"/></a>"
      ]
    },
    {
      "metadata": {
        "id": "I_Uug1i-4vRC",
        "colab_type": "text"
      },
      "cell_type": "markdown",
      "source": [
        "Sources:\n",
        "- http://www.mathcs.emory.edu/~cheung/Courses/561/Syllabus/3-C/sparse.html\n",
        "- https://people.csail.mit.edu/indyk/princeton.pdf\n",
        "- https://scikit-learn.org/stable/auto_examples/applications/plot_tomography_l1_reconstruction.html\n",
        "- http://www.cs.colostate.edu/~mcrob/toolbox/c++/sparseMatrix/sparse_matrix_compression.html"
      ]
    },
    {
      "metadata": {
        "id": "YCVjdQiDs-X4",
        "colab_type": "text"
      },
      "cell_type": "markdown",
      "source": [
        "# Detección comprimida de tomografías computarizadas con regresión robusta"
      ]
    },
    {
      "metadata": {
        "id": "mtwDMLjMtHJ6",
        "colab_type": "text"
      },
      "cell_type": "markdown",
      "source": [
        "##Broadcasting\n",
        "El término **broadcasting** o difusión describe cómo se tratan las matrices con diferentes formas durante las operaciones aritméticas. El término difusión fue utilizado por primera vez por Numpy, aunque ahora se usa en otras bibliotecas como Tensorflow y Matlab; Las reglas pueden variar según la biblioteca."
      ]
    },
    {
      "metadata": {
        "id": "i2FjvT3Zte8R",
        "colab_type": "code",
        "colab": {}
      },
      "cell_type": "code",
      "source": [
        "import numpy as np"
      ],
      "execution_count": 0,
      "outputs": []
    },
    {
      "metadata": {
        "id": "rliRU7X5tDoY",
        "colab_type": "code",
        "colab": {
          "base_uri": "https://localhost:8080/",
          "height": 34
        },
        "outputId": "b3a19675-497f-4456-b43c-ec481579502d"
      },
      "cell_type": "code",
      "source": [
        "a  =  np . array ([ 1.0 ,  2.0 ,  3.0 ]) \n",
        "b  =  2.0 \n",
        "a  *  b"
      ],
      "execution_count": 3,
      "outputs": [
        {
          "output_type": "execute_result",
          "data": {
            "text/plain": [
              "array([2., 4., 6.])"
            ]
          },
          "metadata": {
            "tags": []
          },
          "execution_count": 3
        }
      ]
    },
    {
      "metadata": {
        "id": "1Tk2u1QutclP",
        "colab_type": "code",
        "colab": {
          "base_uri": "https://localhost:8080/",
          "height": 34
        },
        "outputId": "940efe09-8bf6-49fc-8951-3a4177b49e7b"
      },
      "cell_type": "code",
      "source": [
        "v=np.array([1,2,3])\n",
        "print(v, v.shape)"
      ],
      "execution_count": 4,
      "outputs": [
        {
          "output_type": "stream",
          "text": [
            "[1 2 3] (3,)\n"
          ],
          "name": "stdout"
        }
      ]
    },
    {
      "metadata": {
        "id": "Z0rSC-fMt7mc",
        "colab_type": "code",
        "colab": {
          "base_uri": "https://localhost:8080/",
          "height": 67
        },
        "outputId": "1ebdfe05-8b53-4613-9e5f-f2e8c8060198"
      },
      "cell_type": "code",
      "source": [
        "m=np.array([v,v*2,v*3]); m, m.shape"
      ],
      "execution_count": 5,
      "outputs": [
        {
          "output_type": "execute_result",
          "data": {
            "text/plain": [
              "(array([[1, 2, 3],\n",
              "        [2, 4, 6],\n",
              "        [3, 6, 9]]), (3, 3))"
            ]
          },
          "metadata": {
            "tags": []
          },
          "execution_count": 5
        }
      ]
    },
    {
      "metadata": {
        "id": "Dz-Ro3hZt9jX",
        "colab_type": "code",
        "colab": {}
      },
      "cell_type": "code",
      "source": [
        "n = np.array([m*1, m*5])"
      ],
      "execution_count": 0,
      "outputs": []
    },
    {
      "metadata": {
        "id": "ss5_SeciuABx",
        "colab_type": "code",
        "colab": {
          "base_uri": "https://localhost:8080/",
          "height": 134
        },
        "outputId": "bafb46eb-9f34-4b1d-b0c7-208d3dad388d"
      },
      "cell_type": "code",
      "source": [
        "n"
      ],
      "execution_count": 7,
      "outputs": [
        {
          "output_type": "execute_result",
          "data": {
            "text/plain": [
              "array([[[ 1,  2,  3],\n",
              "        [ 2,  4,  6],\n",
              "        [ 3,  6,  9]],\n",
              "\n",
              "       [[ 5, 10, 15],\n",
              "        [10, 20, 30],\n",
              "        [15, 30, 45]]])"
            ]
          },
          "metadata": {
            "tags": []
          },
          "execution_count": 7
        }
      ]
    },
    {
      "metadata": {
        "id": "3DK26dD7uBlO",
        "colab_type": "code",
        "colab": {
          "base_uri": "https://localhost:8080/",
          "height": 34
        },
        "outputId": "749e2bc8-0b96-43cc-8224-6cfc6a88163b"
      },
      "cell_type": "code",
      "source": [
        "n.shape, m.shape"
      ],
      "execution_count": 8,
      "outputs": [
        {
          "output_type": "execute_result",
          "data": {
            "text/plain": [
              "((2, 3, 3), (3, 3))"
            ]
          },
          "metadata": {
            "tags": []
          },
          "execution_count": 8
        }
      ]
    },
    {
      "metadata": {
        "id": "N79u_vQcuMwl",
        "colab_type": "text"
      },
      "cell_type": "markdown",
      "source": [
        "Podemos usar broadcasting para sumar una matriz y un array:"
      ]
    },
    {
      "metadata": {
        "id": "Bn1BFz1zuIhd",
        "colab_type": "code",
        "colab": {
          "base_uri": "https://localhost:8080/",
          "height": 67
        },
        "outputId": "bd8f4bfa-2e6a-46ff-aeec-04477ebdba1b"
      },
      "cell_type": "code",
      "source": [
        "m+v"
      ],
      "execution_count": 9,
      "outputs": [
        {
          "output_type": "execute_result",
          "data": {
            "text/plain": [
              "array([[ 2,  4,  6],\n",
              "       [ 3,  6,  9],\n",
              "       [ 4,  8, 12]])"
            ]
          },
          "metadata": {
            "tags": []
          },
          "execution_count": 9
        }
      ]
    },
    {
      "metadata": {
        "id": "rkikQvJ9ucJV",
        "colab_type": "text"
      },
      "cell_type": "markdown",
      "source": [
        "Notese que hacemos si usamos la transposicion de un array."
      ]
    },
    {
      "metadata": {
        "id": "8Fy2mAfSuo-4",
        "colab_type": "code",
        "colab": {
          "base_uri": "https://localhost:8080/",
          "height": 67
        },
        "outputId": "f04b4a46-cd67-43f1-9180-3c7dfc453053"
      },
      "cell_type": "code",
      "source": [
        "v1=np.expand_dims(v,-1); v1, v1.shape"
      ],
      "execution_count": 11,
      "outputs": [
        {
          "output_type": "execute_result",
          "data": {
            "text/plain": [
              "(array([[1],\n",
              "        [2],\n",
              "        [3]]), (3, 1))"
            ]
          },
          "metadata": {
            "tags": []
          },
          "execution_count": 11
        }
      ]
    },
    {
      "metadata": {
        "id": "inIBp4ljuX_o",
        "colab_type": "code",
        "colab": {
          "base_uri": "https://localhost:8080/",
          "height": 67
        },
        "outputId": "6fe1730a-7be9-493e-bf13-3e8fc191c30f"
      },
      "cell_type": "code",
      "source": [
        "m+v1"
      ],
      "execution_count": 12,
      "outputs": [
        {
          "output_type": "execute_result",
          "data": {
            "text/plain": [
              "array([[ 2,  3,  4],\n",
              "       [ 4,  6,  8],\n",
              "       [ 6,  9, 12]])"
            ]
          },
          "metadata": {
            "tags": []
          },
          "execution_count": 12
        }
      ]
    },
    {
      "metadata": {
        "id": "dXWcwZyawqN4",
        "colab_type": "text"
      },
      "cell_type": "markdown",
      "source": [
        "## **Reglas Generales de Emisión Numpy **\n",
        "Cuando se opera en dos matrices, NumPy compara sus formas de manera elemental. Comienza con las dimensiones finales , y se abre camino hacia adelante. Dos dimensiones son compatibles cuando\n",
        "\n",
        "son iguales, o\n",
        "uno de ellos es 1\n",
        "\n",
        "Las matrices no necesitan tener el mismo número de dimensiones. Por ejemplo, si tienes una matriz de 256 × 256 × 3 de valores RGB, y desea escalar cada color en la imagen por un valor diferente, puede multiplicar la imagen por una matriz unidimensional con 3 valores. Alinear los tamaños de los ejes finales de estas matrices de acuerdo con las reglas de transmisión, muestra que son compatibles:\n",
        "\n",
        "Image  (3d array): 256 x 256 x 3\n",
        "\n",
        "Scale  (1d array):             3\n",
        "\n",
        "Result (3d array): 256 x 256 x 3"
      ]
    },
    {
      "metadata": {
        "id": "eAa96SFzumHO",
        "colab_type": "code",
        "colab": {}
      },
      "cell_type": "code",
      "source": [
        "v = np.array([1,2,3,4])\n",
        "m = np.array([v,v*2,v*3])\n",
        "A = np.array([5*m, -1*m])"
      ],
      "execution_count": 0,
      "outputs": []
    },
    {
      "metadata": {
        "id": "ZG2IlS40xd7E",
        "colab_type": "code",
        "colab": {
          "base_uri": "https://localhost:8080/",
          "height": 34
        },
        "outputId": "dd99f285-a141-41bc-a0b4-c6de1becb3f7"
      },
      "cell_type": "code",
      "source": [
        "v.shape, m.shape, A.shape"
      ],
      "execution_count": 14,
      "outputs": [
        {
          "output_type": "execute_result",
          "data": {
            "text/plain": [
              "((4,), (3, 4), (2, 3, 4))"
            ]
          },
          "metadata": {
            "tags": []
          },
          "execution_count": 14
        }
      ]
    },
    {
      "metadata": {
        "id": "86_xvtZTxgDI",
        "colab_type": "code",
        "colab": {
          "base_uri": "https://localhost:8080/",
          "height": 134
        },
        "outputId": "2496e4a1-5b71-4dc2-8bf5-8bcdb27de552"
      },
      "cell_type": "code",
      "source": [
        "A"
      ],
      "execution_count": 15,
      "outputs": [
        {
          "output_type": "execute_result",
          "data": {
            "text/plain": [
              "array([[[  5,  10,  15,  20],\n",
              "        [ 10,  20,  30,  40],\n",
              "        [ 15,  30,  45,  60]],\n",
              "\n",
              "       [[ -1,  -2,  -3,  -4],\n",
              "        [ -2,  -4,  -6,  -8],\n",
              "        [ -3,  -6,  -9, -12]]])"
            ]
          },
          "metadata": {
            "tags": []
          },
          "execution_count": 15
        }
      ]
    },
    {
      "metadata": {
        "id": "oGE_4vaMxids",
        "colab_type": "code",
        "colab": {
          "base_uri": "https://localhost:8080/",
          "height": 134
        },
        "outputId": "ef8a6afa-8a68-4f4b-dcad-cebb29a5561d"
      },
      "cell_type": "code",
      "source": [
        "A+v"
      ],
      "execution_count": 17,
      "outputs": [
        {
          "output_type": "execute_result",
          "data": {
            "text/plain": [
              "array([[[ 6, 12, 18, 24],\n",
              "        [11, 22, 33, 44],\n",
              "        [16, 32, 48, 64]],\n",
              "\n",
              "       [[ 0,  0,  0,  0],\n",
              "        [-1, -2, -3, -4],\n",
              "        [-2, -4, -6, -8]]])"
            ]
          },
          "metadata": {
            "tags": []
          },
          "execution_count": 17
        }
      ]
    },
    {
      "metadata": {
        "id": "wafUF0VIxkcn",
        "colab_type": "code",
        "colab": {
          "base_uri": "https://localhost:8080/",
          "height": 134
        },
        "outputId": "af149f3d-3b55-41e4-ca49-b662cb1a2955"
      },
      "cell_type": "code",
      "source": [
        "A"
      ],
      "execution_count": 18,
      "outputs": [
        {
          "output_type": "execute_result",
          "data": {
            "text/plain": [
              "array([[[  5,  10,  15,  20],\n",
              "        [ 10,  20,  30,  40],\n",
              "        [ 15,  30,  45,  60]],\n",
              "\n",
              "       [[ -1,  -2,  -3,  -4],\n",
              "        [ -2,  -4,  -6,  -8],\n",
              "        [ -3,  -6,  -9, -12]]])"
            ]
          },
          "metadata": {
            "tags": []
          },
          "execution_count": 18
        }
      ]
    },
    {
      "metadata": {
        "id": "rh6S-V-5xn3y",
        "colab_type": "code",
        "colab": {
          "base_uri": "https://localhost:8080/",
          "height": 34
        },
        "outputId": "3b06bd45-5307-486d-b372-141df4670e3f"
      },
      "cell_type": "code",
      "source": [
        "A.T.shape"
      ],
      "execution_count": 19,
      "outputs": [
        {
          "output_type": "execute_result",
          "data": {
            "text/plain": [
              "(4, 3, 2)"
            ]
          },
          "metadata": {
            "tags": []
          },
          "execution_count": 19
        }
      ]
    },
    {
      "metadata": {
        "id": "_aBDOSKnxq75",
        "colab_type": "code",
        "colab": {
          "base_uri": "https://localhost:8080/",
          "height": 269
        },
        "outputId": "d5ec14ca-3643-4f58-e3dc-8ab2b3eedab2"
      },
      "cell_type": "code",
      "source": [
        "A.T"
      ],
      "execution_count": 20,
      "outputs": [
        {
          "output_type": "execute_result",
          "data": {
            "text/plain": [
              "array([[[  5,  -1],\n",
              "        [ 10,  -2],\n",
              "        [ 15,  -3]],\n",
              "\n",
              "       [[ 10,  -2],\n",
              "        [ 20,  -4],\n",
              "        [ 30,  -6]],\n",
              "\n",
              "       [[ 15,  -3],\n",
              "        [ 30,  -6],\n",
              "        [ 45,  -9]],\n",
              "\n",
              "       [[ 20,  -4],\n",
              "        [ 40,  -8],\n",
              "        [ 60, -12]]])"
            ]
          },
          "metadata": {
            "tags": []
          },
          "execution_count": 20
        }
      ]
    },
    {
      "metadata": {
        "id": "xciKBUwM-bJJ",
        "colab_type": "text"
      },
      "cell_type": "markdown",
      "source": [
        "Este ejemplo muestra la reconstrucción de una imagen a partir de un conjunto de proyecciones paralelas, adquiridas en diferentes ángulos. Dicho conjunto de datos se adquiere en tomografía computarizada (TC).\n",
        "\n",
        "Sin información previa sobre la muestra, el número de proyecciones necesarias para reconstruir la imagen es del orden del tamaño lineal lde la imagen (en píxeles). Para simplificar, consideramos aquí una imagen dispersa, donde solo los píxeles en el límite de los objetos tienen un valor distinto de cero. Tales datos podrían corresponder, por ejemplo, a un material celular. Sin embargo, tenga en cuenta que la mayoría de las imágenes son dispersas en una base diferente, como las wavelets de Haar. Solo l/7se adquieren proyecciones, por lo tanto, es necesario utilizar la información previa disponible en la muestra (su escasez): este es un ejemplo de detección por compresión .\n",
        "\n",
        "La operación de proyección tomográfica es una transformación lineal. Además del término de fidelidad de datos correspondiente a una regresión lineal, penalizamos la norma L1 de la imagen para dar cuenta de su escasez. El problema de optimización resultante se llama el lazo . Usamos la clase sklearn.linear_model.Lasso, que usa el algoritmo de descenso de coordenadas. Es importante destacar que esta implementación es más eficiente computacionalmente en una matriz dispersa, que el operador de proyección utilizado aquí.\n",
        "\n",
        "La reconstrucción con penalización L1 da un resultado con cero error (todos los píxeles se etiquetan con éxito con 0 o 1), incluso si se agregó ruido a las proyecciones. En comparación, una penalización L2 ( sklearn.linear_model.Ridge) produce una gran cantidad de errores de etiquetado para los píxeles. Se observan artefactos importantes en la imagen reconstruida, contrariamente a la penalización L1. Tenga en cuenta en particular el artefacto circular que separa los píxeles en las esquinas, que han contribuido a menos proyecciones que el disco central."
      ]
    },
    {
      "metadata": {
        "id": "nbITTdvUxtWd",
        "colab_type": "code",
        "colab": {}
      },
      "cell_type": "code",
      "source": [
        "%matplotlib inline\n",
        "import numpy as np, matplotlib.pyplot as plt, math\n",
        "from scipy import ndimage, sparse"
      ],
      "execution_count": 0,
      "outputs": []
    },
    {
      "metadata": {
        "id": "ikUC0CON86Ek",
        "colab_type": "code",
        "colab": {}
      },
      "cell_type": "code",
      "source": [
        "np.set_printoptions(suppress=True)"
      ],
      "execution_count": 0,
      "outputs": []
    },
    {
      "metadata": {
        "id": "SXl7DRv28-lL",
        "colab_type": "code",
        "colab": {}
      },
      "cell_type": "code",
      "source": [
        "def generate_synthetic_data():\n",
        "    rs = np.random.RandomState(0)\n",
        "    n_pts = 36\n",
        "    x, y = np.ogrid[0:l, 0:l]\n",
        "    mask_outer = (x - l / 2) ** 2 + (y - l / 2) ** 2 < (l / 2) ** 2\n",
        "    mx,my = rs.randint(0, l, (2,n_pts))\n",
        "    mask = np.zeros((l, l))\n",
        "    mask[mx,my] = 1\n",
        "    mask = ndimage.gaussian_filter(mask, sigma=l / n_pts)\n",
        "    res = (mask > mask.mean()) & mask_outer\n",
        "    return res ^ ndimage.binary_erosion(res)"
      ],
      "execution_count": 0,
      "outputs": []
    },
    {
      "metadata": {
        "id": "K-5oqZDc9HUE",
        "colab_type": "code",
        "colab": {}
      },
      "cell_type": "code",
      "source": [
        "l = 128\n",
        "data = generate_synthetic_data()"
      ],
      "execution_count": 0,
      "outputs": []
    },
    {
      "metadata": {
        "id": "Zw-kCYJB9LvJ",
        "colab_type": "code",
        "colab": {
          "base_uri": "https://localhost:8080/",
          "height": 323
        },
        "outputId": "7bbde564-9e5e-4b10-c32c-02d69e88bf96"
      },
      "cell_type": "code",
      "source": [
        "plt.figure(figsize=(5,5))\n",
        "plt.imshow(data, cmap=plt.cm.gray);"
      ],
      "execution_count": 25,
      "outputs": [
        {
          "output_type": "display_data",
          "data": {
            "image/png": "[encoded data removed]",
            "text/plain": [
              "<matplotlib.figure.Figure at 0x7f0faa3b03c8>"
            ]
          },
          "metadata": {
            "tags": []
          }
        }
      ]
    },
    {
      "metadata": {
        "id": "auKbCsS29PD3",
        "colab_type": "code",
        "colab": {}
      },
      "cell_type": "code",
      "source": [
        "l=8; n_pts=5\n",
        "rs = np.random.RandomState(0)"
      ],
      "execution_count": 0,
      "outputs": []
    },
    {
      "metadata": {
        "id": "nu1ZrOUK_lYk",
        "colab_type": "code",
        "colab": {
          "base_uri": "https://localhost:8080/",
          "height": 151
        },
        "outputId": "eb85f5fd-337e-47fb-a888-31fbd4d7f258"
      },
      "cell_type": "code",
      "source": [
        "x, y = np.ogrid[0:l, 0:l]; x,y"
      ],
      "execution_count": 27,
      "outputs": [
        {
          "output_type": "execute_result",
          "data": {
            "text/plain": [
              "(array([[0],\n",
              "        [1],\n",
              "        [2],\n",
              "        [3],\n",
              "        [4],\n",
              "        [5],\n",
              "        [6],\n",
              "        [7]]), array([[0, 1, 2, 3, 4, 5, 6, 7]]))"
            ]
          },
          "metadata": {
            "tags": []
          },
          "execution_count": 27
        }
      ]
    },
    {
      "metadata": {
        "id": "hNTq0lnMAHBf",
        "colab_type": "code",
        "colab": {
          "base_uri": "https://localhost:8080/",
          "height": 151
        },
        "outputId": "8dec11a7-ca06-402c-b1fa-4868d2d53a8d"
      },
      "cell_type": "code",
      "source": [
        "x+y"
      ],
      "execution_count": 28,
      "outputs": [
        {
          "output_type": "execute_result",
          "data": {
            "text/plain": [
              "array([[ 0,  1,  2,  3,  4,  5,  6,  7],\n",
              "       [ 1,  2,  3,  4,  5,  6,  7,  8],\n",
              "       [ 2,  3,  4,  5,  6,  7,  8,  9],\n",
              "       [ 3,  4,  5,  6,  7,  8,  9, 10],\n",
              "       [ 4,  5,  6,  7,  8,  9, 10, 11],\n",
              "       [ 5,  6,  7,  8,  9, 10, 11, 12],\n",
              "       [ 6,  7,  8,  9, 10, 11, 12, 13],\n",
              "       [ 7,  8,  9, 10, 11, 12, 13, 14]])"
            ]
          },
          "metadata": {
            "tags": []
          },
          "execution_count": 28
        }
      ]
    },
    {
      "metadata": {
        "id": "G0hIdXFcAJSg",
        "colab_type": "code",
        "colab": {
          "base_uri": "https://localhost:8080/",
          "height": 151
        },
        "outputId": "f5f53023-ada0-423d-86a6-21240fcf6614"
      },
      "cell_type": "code",
      "source": [
        "(x - l/2) ** 2 "
      ],
      "execution_count": 29,
      "outputs": [
        {
          "output_type": "execute_result",
          "data": {
            "text/plain": [
              "array([[16.],\n",
              "       [ 9.],\n",
              "       [ 4.],\n",
              "       [ 1.],\n",
              "       [ 0.],\n",
              "       [ 1.],\n",
              "       [ 4.],\n",
              "       [ 9.]])"
            ]
          },
          "metadata": {
            "tags": []
          },
          "execution_count": 29
        }
      ]
    },
    {
      "metadata": {
        "id": "Prazc8Y_A4eU",
        "colab_type": "code",
        "colab": {
          "base_uri": "https://localhost:8080/",
          "height": 151
        },
        "outputId": "366f767d-6b3b-47b1-853b-4eaa41d0b2ea"
      },
      "cell_type": "code",
      "source": [
        "(x - l/2) ** 2 + (y - l/2) ** 2"
      ],
      "execution_count": 30,
      "outputs": [
        {
          "output_type": "execute_result",
          "data": {
            "text/plain": [
              "array([[32., 25., 20., 17., 16., 17., 20., 25.],\n",
              "       [25., 18., 13., 10.,  9., 10., 13., 18.],\n",
              "       [20., 13.,  8.,  5.,  4.,  5.,  8., 13.],\n",
              "       [17., 10.,  5.,  2.,  1.,  2.,  5., 10.],\n",
              "       [16.,  9.,  4.,  1.,  0.,  1.,  4.,  9.],\n",
              "       [17., 10.,  5.,  2.,  1.,  2.,  5., 10.],\n",
              "       [20., 13.,  8.,  5.,  4.,  5.,  8., 13.],\n",
              "       [25., 18., 13., 10.,  9., 10., 13., 18.]])"
            ]
          },
          "metadata": {
            "tags": []
          },
          "execution_count": 30
        }
      ]
    },
    {
      "metadata": {
        "id": "YGA8yMK9A6F8",
        "colab_type": "code",
        "colab": {
          "base_uri": "https://localhost:8080/",
          "height": 151
        },
        "outputId": "302ada76-6a8d-4d73-9f73-584841e7a5ef"
      },
      "cell_type": "code",
      "source": [
        "mask_outer = (x - l/2) ** 2 + (y - l/2) ** 2 < (l/2) ** 2; mask_outer"
      ],
      "execution_count": 31,
      "outputs": [
        {
          "output_type": "execute_result",
          "data": {
            "text/plain": [
              "array([[False, False, False, False, False, False, False, False],\n",
              "       [False, False,  True,  True,  True,  True,  True, False],\n",
              "       [False,  True,  True,  True,  True,  True,  True,  True],\n",
              "       [False,  True,  True,  True,  True,  True,  True,  True],\n",
              "       [False,  True,  True,  True,  True,  True,  True,  True],\n",
              "       [False,  True,  True,  True,  True,  True,  True,  True],\n",
              "       [False,  True,  True,  True,  True,  True,  True,  True],\n",
              "       [False, False,  True,  True,  True,  True,  True, False]])"
            ]
          },
          "metadata": {
            "tags": []
          },
          "execution_count": 31
        }
      ]
    },
    {
      "metadata": {
        "id": "KbuE_MFxA8A5",
        "colab_type": "code",
        "colab": {
          "base_uri": "https://localhost:8080/",
          "height": 282
        },
        "outputId": "45b97818-904e-4d5d-ca7b-9d43b70f8e7d"
      },
      "cell_type": "code",
      "source": [
        "plt.imshow(mask_outer, cmap='gray')"
      ],
      "execution_count": 32,
      "outputs": [
        {
          "output_type": "execute_result",
          "data": {
            "text/plain": [
              "<matplotlib.image.AxesImage at 0x7f0fa7629cf8>"
            ]
          },
          "metadata": {
            "tags": []
          },
          "execution_count": 32
        },
        {
          "output_type": "display_data",
          "data": {
            "image/png": "[encoded data removed]",
            "text/plain": [
              "<matplotlib.figure.Figure at 0x7f0fa9ec3048>"
            ]
          },
          "metadata": {
            "tags": []
          }
        }
      ]
    },
    {
      "metadata": {
        "id": "anUx3UKMA-hZ",
        "colab_type": "code",
        "colab": {
          "base_uri": "https://localhost:8080/",
          "height": 151
        },
        "outputId": "e9098f7a-d01c-4f72-cb65-14036218a826"
      },
      "cell_type": "code",
      "source": [
        "mask = np.zeros((l, l))\n",
        "mx,my = rs.randint(0, l, (2,n_pts))\n",
        "mask[mx,my] = 1; mask"
      ],
      "execution_count": 33,
      "outputs": [
        {
          "output_type": "execute_result",
          "data": {
            "text/plain": [
              "array([[0., 1., 0., 0., 0., 0., 0., 0.],\n",
              "       [0., 0., 0., 0., 0., 0., 0., 0.],\n",
              "       [0., 0., 0., 0., 0., 0., 0., 0.],\n",
              "       [0., 0., 0., 1., 0., 0., 0., 0.],\n",
              "       [0., 0., 0., 1., 0., 0., 0., 0.],\n",
              "       [0., 0., 0., 0., 0., 0., 0., 1.],\n",
              "       [0., 0., 0., 0., 0., 0., 0., 0.],\n",
              "       [0., 0., 0., 1., 0., 0., 0., 0.]])"
            ]
          },
          "metadata": {
            "tags": []
          },
          "execution_count": 33
        }
      ]
    },
    {
      "metadata": {
        "id": "ufDPKA8dBAjX",
        "colab_type": "code",
        "colab": {
          "base_uri": "https://localhost:8080/",
          "height": 282
        },
        "outputId": "5395d081-fd3f-4bd3-9a6e-1069d2d5c573"
      },
      "cell_type": "code",
      "source": [
        "plt.imshow(mask, cmap='gray')"
      ],
      "execution_count": 34,
      "outputs": [
        {
          "output_type": "execute_result",
          "data": {
            "text/plain": [
              "<matplotlib.image.AxesImage at 0x7f0fa7616518>"
            ]
          },
          "metadata": {
            "tags": []
          },
          "execution_count": 34
        },
        {
          "output_type": "display_data",
          "data": {
            "image/png": "[encoded data removed]",
            "text/plain": [
              "<matplotlib.figure.Figure at 0x7f0fa766a4e0>"
            ]
          },
          "metadata": {
            "tags": []
          }
        }
      ]
    },
    {
      "metadata": {
        "id": "l7zDkMarBEMx",
        "colab_type": "code",
        "colab": {}
      },
      "cell_type": "code",
      "source": [
        "mask = ndimage.gaussian_filter(mask, sigma=l / n_pts)"
      ],
      "execution_count": 0,
      "outputs": []
    },
    {
      "metadata": {
        "id": "xR7Od9C0BKf9",
        "colab_type": "code",
        "colab": {
          "base_uri": "https://localhost:8080/",
          "height": 282
        },
        "outputId": "7921bd14-a867-41e2-e308-0bee9a4a4466"
      },
      "cell_type": "code",
      "source": [
        "plt.imshow(mask, cmap='gray')"
      ],
      "execution_count": 36,
      "outputs": [
        {
          "output_type": "execute_result",
          "data": {
            "text/plain": [
              "<matplotlib.image.AxesImage at 0x7f0fa7571550>"
            ]
          },
          "metadata": {
            "tags": []
          },
          "execution_count": 36
        },
        {
          "output_type": "display_data",
          "data": {
            "image/png": "[encoded data removed]",
            "text/plain": [
              "<matplotlib.figure.Figure at 0x7f0fa75b1080>"
            ]
          },
          "metadata": {
            "tags": []
          }
        }
      ]
    },
    {
      "metadata": {
        "id": "qu1tHUnbBMMl",
        "colab_type": "code",
        "colab": {
          "base_uri": "https://localhost:8080/",
          "height": 265
        },
        "outputId": "6dd106f6-609c-43fe-885a-d99d73737562"
      },
      "cell_type": "code",
      "source": [
        "res = np.logical_and(mask > mask.mean(), mask_outer)\n",
        "plt.imshow(res, cmap='gray');"
      ],
      "execution_count": 37,
      "outputs": [
        {
          "output_type": "display_data",
          "data": {
            "image/png": "[encoded data removed]",
            "text/plain": [
              "<matplotlib.figure.Figure at 0x7f0fa75ccba8>"
            ]
          },
          "metadata": {
            "tags": []
          }
        }
      ]
    },
    {
      "metadata": {
        "id": "0ngAZcemBOmD",
        "colab_type": "code",
        "colab": {
          "base_uri": "https://localhost:8080/",
          "height": 265
        },
        "outputId": "90967b6e-7c9b-4e1a-e3fa-845d1525e89c"
      },
      "cell_type": "code",
      "source": [
        "plt.imshow(ndimage.binary_erosion(res), cmap='gray');"
      ],
      "execution_count": 38,
      "outputs": [
        {
          "output_type": "display_data",
          "data": {
            "image/png": "[encoded data removed]",
            "text/plain": [
              "<matplotlib.figure.Figure at 0x7f0fa74e0cf8>"
            ]
          },
          "metadata": {
            "tags": []
          }
        }
      ]
    },
    {
      "metadata": {
        "id": "nfmBDjM-BRF1",
        "colab_type": "code",
        "colab": {
          "base_uri": "https://localhost:8080/",
          "height": 265
        },
        "outputId": "a171eca9-0e98-49e9-b166-63ffa615d11a"
      },
      "cell_type": "code",
      "source": [
        "plt.imshow(res ^ ndimage.binary_erosion(res), cmap='gray');"
      ],
      "execution_count": 39,
      "outputs": [
        {
          "output_type": "display_data",
          "data": {
            "image/png": "[encoded data removed]",
            "text/plain": [
              "<matplotlib.figure.Figure at 0x7f0fa7504e80>"
            ]
          },
          "metadata": {
            "tags": []
          }
        }
      ]
    },
    {
      "metadata": {
        "id": "2R43rHLqBUqs",
        "colab_type": "text"
      },
      "cell_type": "markdown",
      "source": [
        "Generando Proyecciones"
      ]
    },
    {
      "metadata": {
        "id": "fhFuV1hhBSzL",
        "colab_type": "code",
        "colab": {}
      },
      "cell_type": "code",
      "source": [
        "def _weights(x, dx=1, orig=0):\n",
        "    x = np.ravel(x)\n",
        "    floor_x = np.floor((x - orig) / dx)\n",
        "    alpha = (x - orig - floor_x * dx) / dx\n",
        "    return np.hstack((floor_x, floor_x + 1)), np.hstack((1 - alpha, alpha))\n",
        "\n",
        "\n",
        "def _generate_center_coordinates(l_x):\n",
        "    X, Y = np.mgrid[:l_x, :l_x].astype(np.float64)\n",
        "    center = l_x / 2.\n",
        "    X += 0.5 - center\n",
        "    Y += 0.5 - center\n",
        "    return X, Y"
      ],
      "execution_count": 0,
      "outputs": []
    },
    {
      "metadata": {
        "id": "il9nnhdtBZPh",
        "colab_type": "code",
        "colab": {}
      },
      "cell_type": "code",
      "source": [
        "def build_projection_operator(l_x, n_dir):\n",
        "    X, Y = _generate_center_coordinates(l_x)\n",
        "    angles = np.linspace(0, np.pi, n_dir, endpoint=False)\n",
        "    data_inds, weights, camera_inds = [], [], []\n",
        "    data_unravel_indices = np.arange(l_x ** 2)\n",
        "    data_unravel_indices = np.hstack((data_unravel_indices,\n",
        "                                      data_unravel_indices))\n",
        "    for i, angle in enumerate(angles):\n",
        "        Xrot = np.cos(angle) * X - np.sin(angle) * Y\n",
        "        inds, w = _weights(Xrot, dx=1, orig=X.min())\n",
        "        mask = (inds >= 0) & (inds < l_x)\n",
        "        weights += list(w[mask])\n",
        "        camera_inds += list(inds[mask] + i * l_x)\n",
        "        data_inds += list(data_unravel_indices[mask])\n",
        "    proj_operator = sparse.coo_matrix((weights, (camera_inds, data_inds)))"
      ],
      "execution_count": 0,
      "outputs": []
    },
    {
      "metadata": {
        "id": "ouRt4D25BhSE",
        "colab_type": "text"
      },
      "cell_type": "markdown",
      "source": [
        "Operador de proyeccion"
      ]
    },
    {
      "metadata": {
        "id": "EGQW9M35BeBi",
        "colab_type": "code",
        "colab": {}
      },
      "cell_type": "code",
      "source": [
        "l = 128"
      ],
      "execution_count": 0,
      "outputs": []
    },
    {
      "metadata": {
        "id": "JAGO1RfTBmO_",
        "colab_type": "code",
        "colab": {}
      },
      "cell_type": "code",
      "source": [
        "proj_operator = build_projection_operator(l, l//7)"
      ],
      "execution_count": 0,
      "outputs": []
    },
    {
      "metadata": {
        "id": "u8PaU-aFBoFt",
        "colab_type": "code",
        "colab": {}
      },
      "cell_type": "code",
      "source": [
        "proj_operator"
      ],
      "execution_count": 0,
      "outputs": []
    },
    {
      "metadata": {
        "id": "lCjNS5g1BqVP",
        "colab_type": "code",
        "colab": {}
      },
      "cell_type": "code",
      "source": [
        ""
      ],
      "execution_count": 0,
      "outputs": []
    }
  ]
}