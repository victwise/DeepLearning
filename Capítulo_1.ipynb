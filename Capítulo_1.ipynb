{
  "nbformat": 4,
  "nbformat_minor": 0,
  "metadata": {
    "colab": {
      "name": "Capítulo 1",
      "version": "0.3.2",
      "provenance": [],
      "collapsed_sections": [],
      "toc_visible": true,
      "include_colab_link": true
    },
    "kernelspec": {
      "name": "python3",
      "display_name": "Python 3"
    }
  },
  "cells": [
    {
      "cell_type": "markdown",
      "metadata": {
        "id": "view-in-github",
        "colab_type": "text"
      },
      "source": [
        "[View in Colaboratory](https://colab.research.google.com/github/victwise/fastai_numerical_linear_algebra/blob/master/Cap%C3%ADtulo_1.ipynb)"
      ]
    },
    {
      "metadata": {
        "id": "3r4_IgeoBxFv",
        "colab_type": "text"
      },
      "cell_type": "markdown",
      "source": [
        "Resource main:\n",
        "\n",
        "\n",
        "*   http://nbviewer.jupyter.org/github/fastai/numerical-linear-algebra/blob/master/nbs/1.%20Why%20are%20we%20here.ipynb#Matrix-and-Tensor-Products\n",
        "\n"
      ]
    },
    {
      "metadata": {
        "id": "_baE4BQDhq0x",
        "colab_type": "text"
      },
      "cell_type": "markdown",
      "source": [
        "# Producto Matriz-Vector | Markov Chain"
      ]
    },
    {
      "metadata": {
        "id": "VyUBmw8NWw-I",
        "colab_type": "code",
        "colab": {}
      },
      "cell_type": "code",
      "source": [
        "#imports\n",
        "import numpy as np\n",
        "\n"
      ],
      "execution_count": 0,
      "outputs": []
    },
    {
      "metadata": {
        "id": "Y_whfeLZg-fB",
        "colab_type": "code",
        "colab": {}
      },
      "cell_type": "code",
      "source": [
        "# Matriz de Markov\n",
        "def matriz_estocastica(z):\n",
        "  Matrix = np.array([[0.9,0.07,0.02,0.01],[0.0,0.93,0.05,0.02],[0.0,0.0,0.85,0.15],[0.0,0.0,0.0,1.0]])\n",
        "  #Validacion para normalizar a 1 la suma de de mis filas, para que sea un vector estocastico\n",
        "  Matrix = Matrix/(1+z)\n",
        "  \n",
        "  return Matrix \n",
        "  "
      ],
      "execution_count": 0,
      "outputs": []
    },
    {
      "metadata": {
        "id": "N9MhUkL30wPr",
        "colab_type": "code",
        "colab": {}
      },
      "cell_type": "code",
      "source": [
        "# estado actual\n",
        "salud_actual = np.array ([0.85,0.10,0.05,0.0])"
      ],
      "execution_count": 0,
      "outputs": []
    },
    {
      "metadata": {
        "id": "J9o5Wb9B3ASo",
        "colab_type": "code",
        "colab": {}
      },
      "cell_type": "code",
      "source": [
        "# n es el número de iteraciones de la matriz, es decir cuantas veces se desplaza en el tiempo \"t\"\n",
        "# z es la variable de influencia de un estado con otro, por ejemplo que un sintoma hay un 0.05 de probabilidades más que lleve a la muerte,según este caso.\n",
        "def matriz_futura(n, z):\n",
        "    \n",
        "    # La función np.dot multiplica el vector de inicio, salud_actual, con la enésima potencia de la Matriz de Markov.\n",
        "    \n",
        "    return np.dot(salud_actual, np.linalg.matrix_power(matriz_estocastica(z),n))\n"
      ],
      "execution_count": 0,
      "outputs": []
    },
    {
      "metadata": {
        "id": "K1_MoLqA4P6e",
        "colab_type": "code",
        "colab": {
          "base_uri": "https://localhost:8080/",
          "height": 34
        },
        "outputId": "bf306072-56f1-4e01-968b-5ef5ab2daee9"
      },
      "cell_type": "code",
      "source": [
        "matriz_futura(1,0)"
      ],
      "execution_count": 0,
      "outputs": [
        {
          "output_type": "execute_result",
          "data": {
            "text/plain": [
              "array([0.765 , 0.1525, 0.0645, 0.018 ])"
            ]
          },
          "metadata": {
            "tags": []
          },
          "execution_count": 63
        }
      ]
    },
    {
      "metadata": {
        "id": "HHA74Nlj86TK",
        "colab_type": "text"
      },
      "cell_type": "markdown",
      "source": [
        "Recursos:\n",
        "\n",
        "\n",
        "*   https://www.datacamp.com/community/tutorials/markov-chains-python-tutorial\n",
        "\n"
      ]
    },
    {
      "metadata": {
        "id": "LHAgnQop9Ecl",
        "colab_type": "text"
      },
      "cell_type": "markdown",
      "source": [
        "# Producto Matriz-Matriz"
      ]
    },
    {
      "metadata": {
        "id": "-qZ0GeGmX2Pz",
        "colab_type": "code",
        "colab": {}
      },
      "cell_type": "code",
      "source": [
        "#import numpy\n",
        "import numpy as np"
      ],
      "execution_count": 0,
      "outputs": []
    },
    {
      "metadata": {
        "id": "Afin09zBX-VE",
        "colab_type": "code",
        "colab": {}
      },
      "cell_type": "code",
      "source": [
        "demanded_q = np.array([\n",
        "    [6,5,3,1],\n",
        "    [3,6,2,2],\n",
        "    [3,4,3,1]\n",
        "])"
      ],
      "execution_count": 0,
      "outputs": []
    },
    {
      "metadata": {
        "id": "oJZjZMZOZJ1p",
        "colab_type": "code",
        "colab": {}
      },
      "cell_type": "code",
      "source": [
        "prices = np.array([\n",
        "    [1.5,1],\n",
        "    [2,2.5],\n",
        "    [5,4.5],\n",
        "    [16,17]\n",
        "])"
      ],
      "execution_count": 0,
      "outputs": []
    },
    {
      "metadata": {
        "id": "HoUbjIRRZcec",
        "colab_type": "code",
        "colab": {}
      },
      "cell_type": "code",
      "source": [
        "result = demanded_q.dot(prices)"
      ],
      "execution_count": 0,
      "outputs": []
    },
    {
      "metadata": {
        "id": "ezi935oFZzCf",
        "colab_type": "code",
        "colab": {
          "base_uri": "https://localhost:8080/",
          "height": 67
        },
        "outputId": "abea07d9-b52d-4b9f-bb3a-99f32cf26262"
      },
      "cell_type": "code",
      "source": [
        "result"
      ],
      "execution_count": 5,
      "outputs": [
        {
          "output_type": "execute_result",
          "data": {
            "text/plain": [
              "array([[50. , 49. ],\n",
              "       [58.5, 61. ],\n",
              "       [43.5, 43.5]])"
            ]
          },
          "metadata": {
            "tags": []
          },
          "execution_count": 5
        }
      ]
    },
    {
      "metadata": {
        "id": "UjWOLAS6Zz_D",
        "colab_type": "code",
        "colab": {}
      },
      "cell_type": "code",
      "source": [
        ""
      ],
      "execution_count": 0,
      "outputs": []
    },
    {
      "metadata": {
        "id": "nzAFs4roZ-PI",
        "colab_type": "text"
      },
      "cell_type": "markdown",
      "source": [
        "# "
      ]
    }
  ]
}