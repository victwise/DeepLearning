{
  "nbformat": 4,
  "nbformat_minor": 0,
  "metadata": {
    "colab": {
      "name": "Capítulo 1",
      "version": "0.3.2",
      "provenance": [],
      "collapsed_sections": [],
      "toc_visible": true,
      "include_colab_link": true
    },
    "kernelspec": {
      "name": "python3",
      "display_name": "Python 3"
    }
  },
  "cells": [
    {
      "cell_type": "markdown",
      "metadata": {
        "id": "view-in-github",
        "colab_type": "text"
      },
      "source": [
        "[View in Colaboratory](https://colab.research.google.com/github/victwise/fastai_numerical_linear_algebra/blob/master/Cap%C3%ADtulo_1.ipynb)"
      ]
    },
    {
      "metadata": {
        "id": "3r4_IgeoBxFv",
        "colab_type": "text"
      },
      "cell_type": "markdown",
      "source": [
        "Resource main:\n",
        "\n",
        "\n",
        "*   http://nbviewer.jupyter.org/github/fastai/numerical-linear-algebra/blob/master/nbs/1.%20Why%20are%20we%20here.ipynb#Matrix-and-Tensor-Products\n",
        "\n"
      ]
    },
    {
      "metadata": {
        "id": "_baE4BQDhq0x",
        "colab_type": "text"
      },
      "cell_type": "markdown",
      "source": [
        "# Producto Matriz-Vector | Markov Chain"
      ]
    },
    {
      "metadata": {
        "id": "VyUBmw8NWw-I",
        "colab_type": "code",
        "colab": {}
      },
      "cell_type": "code",
      "source": [
        "#imports\n",
        "import numpy as np\n",
        "\n"
      ],
      "execution_count": 0,
      "outputs": []
    },
    {
      "metadata": {
        "id": "Y_whfeLZg-fB",
        "colab_type": "code",
        "colab": {}
      },
      "cell_type": "code",
      "source": [
        "# Matriz de Markov\n",
        "def matriz_estocastica(z):\n",
        "  Matrix = np.array([[0.9,0.07,0.02,0.01],[0.0,0.93,0.05,0.02],[0.0,0.0,0.85,0.15],[0.0,0.0,0.0,1.0]])\n",
        "  #Validacion para normalizar a 1 la suma de de mis filas, para que sea un vector estocastico\n",
        "  Matrix = Matrix/(1+z)\n",
        "  \n",
        "  return Matrix \n",
        "  "
      ],
      "execution_count": 0,
      "outputs": []
    },
    {
      "metadata": {
        "id": "N9MhUkL30wPr",
        "colab_type": "code",
        "colab": {}
      },
      "cell_type": "code",
      "source": [
        "# estado actual\n",
        "salud_actual = np.array ([0.85,0.10,0.05,0.0])"
      ],
      "execution_count": 0,
      "outputs": []
    },
    {
      "metadata": {
        "id": "J9o5Wb9B3ASo",
        "colab_type": "code",
        "colab": {}
      },
      "cell_type": "code",
      "source": [
        "# n es el número de iteraciones de la matriz, es decir cuantas veces se desplaza en el tiempo \"t\"\n",
        "# z es la variable de influencia de un estado con otro, por ejemplo que un sintoma hay un 0.05 de probabilidades más que lleve a la muerte,según este caso.\n",
        "def matriz_futura(n, z):\n",
        "    \n",
        "    # La función np.dot multiplica el vector de inicio, salud_actual, con la enésima potencia de la Matriz de Markov.\n",
        "    \n",
        "    return np.dot(salud_actual, np.linalg.matrix_power(matriz_estocastica(z),n))\n"
      ],
      "execution_count": 0,
      "outputs": []
    },
    {
      "metadata": {
        "id": "K1_MoLqA4P6e",
        "colab_type": "code",
        "colab": {
          "base_uri": "https://localhost:8080/",
          "height": 34
        },
        "outputId": "bf306072-56f1-4e01-968b-5ef5ab2daee9"
      },
      "cell_type": "code",
      "source": [
        "matriz_futura(1,0)"
      ],
      "execution_count": 0,
      "outputs": [
        {
          "output_type": "execute_result",
          "data": {
            "text/plain": [
              "array([0.765 , 0.1525, 0.0645, 0.018 ])"
            ]
          },
          "metadata": {
            "tags": []
          },
          "execution_count": 63
        }
      ]
    },
    {
      "metadata": {
        "id": "HHA74Nlj86TK",
        "colab_type": "text"
      },
      "cell_type": "markdown",
      "source": [
        "Recursos:\n",
        "\n",
        "\n",
        "*   https://www.datacamp.com/community/tutorials/markov-chains-python-tutorial\n",
        "\n"
      ]
    },
    {
      "metadata": {
        "id": "LHAgnQop9Ecl",
        "colab_type": "text"
      },
      "cell_type": "markdown",
      "source": [
        "# Producto Matriz-Matriz"
      ]
    },
    {
      "metadata": {
        "id": "-qZ0GeGmX2Pz",
        "colab_type": "code",
        "colab": {}
      },
      "cell_type": "code",
      "source": [
        "#import numpy\n",
        "import numpy as np"
      ],
      "execution_count": 0,
      "outputs": []
    },
    {
      "metadata": {
        "id": "Afin09zBX-VE",
        "colab_type": "code",
        "colab": {}
      },
      "cell_type": "code",
      "source": [
        "demanded_q = np.array([\n",
        "    [6,5,3,1],\n",
        "    [3,6,2,2],\n",
        "    [3,4,3,1]\n",
        "])"
      ],
      "execution_count": 0,
      "outputs": []
    },
    {
      "metadata": {
        "id": "oJZjZMZOZJ1p",
        "colab_type": "code",
        "colab": {}
      },
      "cell_type": "code",
      "source": [
        "prices = np.array([\n",
        "    [1.5,1],\n",
        "    [2,2.5],\n",
        "    [5,4.5],\n",
        "    [16,17]\n",
        "])"
      ],
      "execution_count": 0,
      "outputs": []
    },
    {
      "metadata": {
        "id": "HoUbjIRRZcec",
        "colab_type": "code",
        "colab": {}
      },
      "cell_type": "code",
      "source": [
        "result = demanded_q.dot(prices)"
      ],
      "execution_count": 0,
      "outputs": []
    },
    {
      "metadata": {
        "id": "ezi935oFZzCf",
        "colab_type": "code",
        "colab": {
          "base_uri": "https://localhost:8080/",
          "height": 67
        },
        "outputId": "abea07d9-b52d-4b9f-bb3a-99f32cf26262"
      },
      "cell_type": "code",
      "source": [
        "result"
      ],
      "execution_count": 5,
      "outputs": [
        {
          "output_type": "execute_result",
          "data": {
            "text/plain": [
              "array([[50. , 49. ],\n",
              "       [58.5, 61. ],\n",
              "       [43.5, 43.5]])"
            ]
          },
          "metadata": {
            "tags": []
          },
          "execution_count": 5
        }
      ]
    },
    {
      "metadata": {
        "id": "nzAFs4roZ-PI",
        "colab_type": "text"
      },
      "cell_type": "markdown",
      "source": [
        "# Datos en un Imagen\n"
      ]
    },
    {
      "metadata": {
        "id": "-utMj76SyzK4",
        "colab_type": "code",
        "colab": {}
      },
      "cell_type": "code",
      "source": [
        "%matplotlib inline\n",
        "import math,sys,os,numpy as np\n",
        "from numpy.linalg import norm\n",
        "from PIL import Image\n",
        "from matplotlib import pyplot as plt, rcParams, rc\n",
        "from scipy.ndimage import imread\n",
        "from skimage.measure import block_reduce\n",
        "import pickle as pickle\n",
        "from scipy.ndimage.filters import correlate, convolve\n",
        "rc('animation', html='html5')\n",
        "rcParams['figure.figsize'] = 3, 6\n",
        "%precision 4\n",
        "np.set_printoptions(precision=4, linewidth=100)"
      ],
      "execution_count": 0,
      "outputs": []
    },
    {
      "metadata": {
        "id": "J7OKVaB_zIrD",
        "colab_type": "code",
        "colab": {}
      },
      "cell_type": "code",
      "source": [
        "def plots(ims, interp=False, titles=None):\n",
        "    ims=np.array(ims)\n",
        "    mn,mx=ims.min(),ims.max()\n",
        "    f = plt.figure(figsize=(12,24))\n",
        "    for i in range(len(ims)):\n",
        "        sp=f.add_subplot(1, len(ims), i+1)\n",
        "        if not titles is None: sp.set_title(titles[i], fontsize=18)\n",
        "        plt.imshow(ims[i], interpolation=None if interp else 'none', vmin=mn,vmax=mx)\n",
        "\n",
        "def plot(im, interp=False):\n",
        "    f = plt.figure(figsize=(3,6), frameon=True)\n",
        "    # plt.show(im)\n",
        "    plt.imshow(im, interpolation=None if interp else 'none')\n",
        "\n",
        "plt.gray()\n",
        "plt.close()"
      ],
      "execution_count": 0,
      "outputs": []
    },
    {
      "metadata": {
        "id": "DsxeYJk17Yvj",
        "colab_type": "code",
        "colab": {}
      },
      "cell_type": "code",
      "source": [
        "from sklearn.datasets import fetch_mldata\n",
        "mnist = fetch_mldata('MNIST original')"
      ],
      "execution_count": 0,
      "outputs": []
    },
    {
      "metadata": {
        "id": "a-4ZMoNc7a5J",
        "colab_type": "code",
        "colab": {
          "base_uri": "https://localhost:8080/",
          "height": 34
        },
        "outputId": "98d85e7c-ad58-419e-a9c2-619a78f5288b"
      },
      "cell_type": "code",
      "source": [
        "mnist.keys()"
      ],
      "execution_count": 45,
      "outputs": [
        {
          "output_type": "execute_result",
          "data": {
            "text/plain": [
              "dict_keys(['DESCR', 'COL_NAMES', 'target', 'data'])"
            ]
          },
          "metadata": {
            "tags": []
          },
          "execution_count": 45
        }
      ]
    },
    {
      "metadata": {
        "id": "OucUUz7f7dIe",
        "colab_type": "code",
        "colab": {
          "base_uri": "https://localhost:8080/",
          "height": 34
        },
        "outputId": "3448faf3-fb47-42c4-fe37-936b4db53fb9"
      },
      "cell_type": "code",
      "source": [
        "mnist['data'].shape, mnist['target'].shape"
      ],
      "execution_count": 46,
      "outputs": [
        {
          "output_type": "execute_result",
          "data": {
            "text/plain": [
              "((70000, 784), (70000,))"
            ]
          },
          "metadata": {
            "tags": []
          },
          "execution_count": 46
        }
      ]
    },
    {
      "metadata": {
        "id": "n9KKImb77fGq",
        "colab_type": "code",
        "colab": {
          "base_uri": "https://localhost:8080/",
          "height": 34
        },
        "outputId": "b807d5b6-d8b7-435e-9293-29e614adadfc"
      },
      "cell_type": "code",
      "source": [
        "images = np.reshape(mnist['data'], (70000, 28, 28))\n",
        "labels = mnist['target'].astype(int)\n",
        "n=len(images)\n",
        "images.shape, labels.shape"
      ],
      "execution_count": 47,
      "outputs": [
        {
          "output_type": "execute_result",
          "data": {
            "text/plain": [
              "((70000, 28, 28), (70000,))"
            ]
          },
          "metadata": {
            "tags": []
          },
          "execution_count": 47
        }
      ]
    },
    {
      "metadata": {
        "id": "ODQfGY9G7iJ3",
        "colab_type": "code",
        "colab": {}
      },
      "cell_type": "code",
      "source": [
        "images = images/255"
      ],
      "execution_count": 0,
      "outputs": []
    },
    {
      "metadata": {
        "id": "lOpXtdbG7kZB",
        "colab_type": "code",
        "colab": {
          "base_uri": "https://localhost:8080/",
          "height": 216
        },
        "outputId": "115f178b-8420-4495-e12b-5ea1b6762a6a"
      },
      "cell_type": "code",
      "source": [
        "plot(images[0])"
      ],
      "execution_count": 49,
      "outputs": [
        {
          "output_type": "display_data",
          "data": {
            "image/png": "[encoded data removed]",
            "text/plain": [
              "<matplotlib.figure.Figure at 0x7fa0f63dbf60>"
            ]
          },
          "metadata": {
            "tags": []
          }
        }
      ]
    },
    {
      "metadata": {
        "id": "6J6uM9_37mFM",
        "colab_type": "code",
        "colab": {
          "base_uri": "https://localhost:8080/",
          "height": 34
        },
        "outputId": "d7b364fa-ae4e-4062-f50d-2943766b0eaa"
      },
      "cell_type": "code",
      "source": [
        "labels[0]"
      ],
      "execution_count": 50,
      "outputs": [
        {
          "output_type": "execute_result",
          "data": {
            "text/plain": [
              "0"
            ]
          },
          "metadata": {
            "tags": []
          },
          "execution_count": 50
        }
      ]
    },
    {
      "metadata": {
        "id": "lNBHvKPX7pSk",
        "colab_type": "code",
        "colab": {
          "base_uri": "https://localhost:8080/",
          "height": 182
        },
        "outputId": "cfa4f367-f577-468f-edcf-5fd1dc5913b8"
      },
      "cell_type": "code",
      "source": [
        "plots(images[:5], titles=labels[:5])"
      ],
      "execution_count": 51,
      "outputs": [
        {
          "output_type": "display_data",
          "data": {
            "image/png": "[encoded data removed]",
            "text/plain": [
              "<matplotlib.figure.Figure at 0x7fa0f5fef048>"
            ]
          },
          "metadata": {
            "tags": []
          }
        }
      ]
    },
    {
      "metadata": {
        "id": "t2sKU6Ro7rJc",
        "colab_type": "code",
        "colab": {
          "base_uri": "https://localhost:8080/",
          "height": 215
        },
        "outputId": "e6e64c33-f3d2-4fd0-af4a-2017b1a60cfb"
      },
      "cell_type": "code",
      "source": [
        "plot(images[0,0:14, 8:22])"
      ],
      "execution_count": 52,
      "outputs": [
        {
          "output_type": "display_data",
          "data": {
            "image/png": "[encoded data removed]",
            "text/plain": [
              "<matplotlib.figure.Figure at 0x7fa0f5e2b668>"
            ]
          },
          "metadata": {
            "tags": []
          }
        }
      ]
    },
    {
      "metadata": {
        "id": "TSf6G6-c7t1f",
        "colab_type": "code",
        "colab": {
          "base_uri": "https://localhost:8080/",
          "height": 219
        },
        "outputId": "815b54dd-6fce-4d1a-d704-dcaa5641fbec"
      },
      "cell_type": "code",
      "source": [
        "top=[[-1,-1,-1],\n",
        "     [ 1, 1, 1],\n",
        "     [ 0, 0, 0]]\n",
        "\n",
        "plot(top)"
      ],
      "execution_count": 53,
      "outputs": [
        {
          "output_type": "display_data",
          "data": {
            "image/png": "[encoded data removed]",
            "text/plain": [
              "<matplotlib.figure.Figure at 0x7fa0f5e2b0f0>"
            ]
          },
          "metadata": {
            "tags": []
          }
        }
      ]
    },
    {
      "metadata": {
        "id": "lO5K42BW7w67",
        "colab_type": "code",
        "colab": {
          "base_uri": "https://localhost:8080/",
          "height": 319
        },
        "outputId": "081b2210-1ebc-4b77-e64d-90298367945b"
      },
      "cell_type": "code",
      "source": [
        "dims = np.index_exp[10:28:1,3:13]\n",
        "images[0][dims]"
      ],
      "execution_count": 54,
      "outputs": [
        {
          "output_type": "execute_result",
          "data": {
            "text/plain": [
              "array([[0.    , 0.    , 0.    , 0.    , 0.    , 0.    , 0.1882, 0.9333, 0.9882, 0.9882],\n",
              "       [0.    , 0.    , 0.    , 0.    , 0.    , 0.149 , 0.6471, 0.9922, 0.9137, 0.8157],\n",
              "       [0.    , 0.    , 0.    , 0.    , 0.0275, 0.698 , 0.9882, 0.9412, 0.2784, 0.0745],\n",
              "       [0.    , 0.    , 0.    , 0.    , 0.2235, 0.9882, 0.9882, 0.2471, 0.    , 0.    ],\n",
              "       [0.    , 0.    , 0.    , 0.    , 0.7765, 0.9922, 0.7451, 0.    , 0.    , 0.    ],\n",
              "       [0.    , 0.    , 0.    , 0.298 , 0.9647, 0.9882, 0.4392, 0.    , 0.    , 0.    ],\n",
              "       [0.    , 0.    , 0.    , 0.3333, 0.9882, 0.902 , 0.098 , 0.    , 0.    , 0.    ],\n",
              "       [0.    , 0.    , 0.    , 0.3333, 0.9882, 0.8745, 0.    , 0.    , 0.    , 0.    ],\n",
              "       [0.    , 0.    , 0.    , 0.3333, 0.9882, 0.5686, 0.    , 0.    , 0.    , 0.    ],\n",
              "       [0.    , 0.    , 0.    , 0.3373, 0.9922, 0.8824, 0.    , 0.    , 0.    , 0.    ],\n",
              "       [0.    , 0.    , 0.    , 0.3333, 0.9882, 0.9765, 0.5725, 0.1882, 0.1137, 0.3333],\n",
              "       [0.    , 0.    , 0.    , 0.3333, 0.9882, 0.9882, 0.9882, 0.898 , 0.8431, 0.9882],\n",
              "       [0.    , 0.    , 0.    , 0.1098, 0.7804, 0.9882, 0.9882, 0.9922, 0.9882, 0.9882],\n",
              "       [0.    , 0.    , 0.    , 0.    , 0.098 , 0.502 , 0.9882, 0.9922, 0.9882, 0.5529],\n",
              "       [0.    , 0.    , 0.    , 0.    , 0.    , 0.    , 0.    , 0.    , 0.    , 0.    ],\n",
              "       [0.    , 0.    , 0.    , 0.    , 0.    , 0.    , 0.    , 0.    , 0.    , 0.    ],\n",
              "       [0.    , 0.    , 0.    , 0.    , 0.    , 0.    , 0.    , 0.    , 0.    , 0.    ],\n",
              "       [0.    , 0.    , 0.    , 0.    , 0.    , 0.    , 0.    , 0.    , 0.    , 0.    ]])"
            ]
          },
          "metadata": {
            "tags": []
          },
          "execution_count": 54
        }
      ]
    },
    {
      "metadata": {
        "id": "ETIPa9Sy70BK",
        "colab_type": "code",
        "colab": {}
      },
      "cell_type": "code",
      "source": [
        "corrtop = correlate(images[0], top)"
      ],
      "execution_count": 0,
      "outputs": []
    },
    {
      "metadata": {
        "id": "jj0ldaMU71mT",
        "colab_type": "code",
        "colab": {
          "base_uri": "https://localhost:8080/",
          "height": 319
        },
        "outputId": "6f192afe-9371-451b-995e-30afb01332c1"
      },
      "cell_type": "code",
      "source": [
        "corrtop[dims]"
      ],
      "execution_count": 56,
      "outputs": [
        {
          "output_type": "execute_result",
          "data": {
            "text/plain": [
              "array([[ 0.    ,  0.    ,  0.    ,  0.    ,  0.    ,  0.1882,  0.9216,  0.9765,  0.7843, -0.2392],\n",
              "       [ 0.    ,  0.    ,  0.    ,  0.    ,  0.149 ,  0.6078,  0.6667,  0.4431, -0.1882, -0.6196],\n",
              "       [ 0.    ,  0.    ,  0.    ,  0.0275,  0.5765,  0.9176,  0.8392, -0.3451, -1.4275, -1.5961],\n",
              "       [ 0.    ,  0.    ,  0.    ,  0.1961,  0.4863,  0.4863, -0.4039, -0.9725, -1.0471, -0.4627],\n",
              "       [ 0.    ,  0.    ,  0.    ,  0.5529,  0.5569,  0.3137, -0.4863, -0.4902, -0.2471,  0.    ],\n",
              "       [ 0.    ,  0.    ,  0.298 ,  0.4863,  0.4824, -0.1216, -0.3098, -0.3059,  0.    ,  0.    ],\n",
              "       [ 0.    ,  0.    ,  0.0353,  0.0588, -0.0275, -0.4039, -0.4275, -0.3412,  0.    ,  0.    ],\n",
              "       [ 0.    ,  0.    ,  0.    ,  0.    , -0.0275, -0.1255, -0.1255, -0.098 ,  0.    ,  0.    ],\n",
              "       [ 0.    ,  0.    ,  0.    ,  0.    , -0.3059, -0.3059, -0.3059,  0.    ,  0.    ,  0.    ],\n",
              "       [ 0.    ,  0.    ,  0.0039,  0.0078,  0.3216,  0.3176,  0.3137,  0.    ,  0.    ,  0.    ],\n",
              "       [ 0.    ,  0.    , -0.0039, -0.0078,  0.0863,  0.6627,  0.8549,  0.8745,  0.6353,  1.1451],\n",
              "       [ 0.    ,  0.    ,  0.    ,  0.    ,  0.0118,  0.4275,  1.1373,  1.8549,  2.0941,  1.6745],\n",
              "       [ 0.    ,  0.    , -0.2235, -0.4314, -0.4314, -0.2078,  0.0941,  0.2392,  0.2392,  0.0706],\n",
              "       [ 0.    ,  0.    , -0.1098, -0.7922, -1.2784, -1.1686, -0.4863,  0.    , -0.4353, -1.2039],\n",
              "       [ 0.    ,  0.    ,  0.    , -0.098 , -0.6   , -1.5882, -2.4824, -2.9686, -2.5333, -1.6863],\n",
              "       [ 0.    ,  0.    ,  0.    ,  0.    ,  0.    ,  0.    ,  0.    ,  0.    ,  0.    ,  0.    ],\n",
              "       [ 0.    ,  0.    ,  0.    ,  0.    ,  0.    ,  0.    ,  0.    ,  0.    ,  0.    ,  0.    ],\n",
              "       [ 0.    ,  0.    ,  0.    ,  0.    ,  0.    ,  0.    ,  0.    ,  0.    ,  0.    ,  0.    ]])"
            ]
          },
          "metadata": {
            "tags": []
          },
          "execution_count": 56
        }
      ]
    },
    {
      "metadata": {
        "id": "vWzsLv-H73XO",
        "colab_type": "code",
        "colab": {
          "base_uri": "https://localhost:8080/",
          "height": 216
        },
        "outputId": "a5f36f35-c05a-47d1-aafb-c2b6ed172704"
      },
      "cell_type": "code",
      "source": [
        "plot(corrtop)"
      ],
      "execution_count": 57,
      "outputs": [
        {
          "output_type": "display_data",
          "data": {
            "image/png": "[encoded data removed]",
            "text/plain": [
              "<matplotlib.figure.Figure at 0x7fa0f5dc3be0>"
            ]
          },
          "metadata": {
            "tags": []
          }
        }
      ]
    },
    {
      "metadata": {
        "id": "chyd34qO7553",
        "colab_type": "code",
        "colab": {
          "base_uri": "https://localhost:8080/",
          "height": 67
        },
        "outputId": "3c9c3c6a-5b39-40b5-c15b-997c2d58fce6"
      },
      "cell_type": "code",
      "source": [
        "np.rot90(top, 1)"
      ],
      "execution_count": 58,
      "outputs": [
        {
          "output_type": "execute_result",
          "data": {
            "text/plain": [
              "array([[-1,  1,  0],\n",
              "       [-1,  1,  0],\n",
              "       [-1,  1,  0]])"
            ]
          },
          "metadata": {
            "tags": []
          },
          "execution_count": 58
        }
      ]
    },
    {
      "metadata": {
        "id": "c3zfarXW78qD",
        "colab_type": "code",
        "colab": {
          "base_uri": "https://localhost:8080/",
          "height": 233
        },
        "outputId": "4c25ece5-4def-46c1-f9ca-2c017cfa8b8f"
      },
      "cell_type": "code",
      "source": [
        "convtop = convolve(images[0], np.rot90(top,2))\n",
        "plot(convtop)\n",
        "np.allclose(convtop, corrtop)"
      ],
      "execution_count": 59,
      "outputs": [
        {
          "output_type": "execute_result",
          "data": {
            "text/plain": [
              "True"
            ]
          },
          "metadata": {
            "tags": []
          },
          "execution_count": 59
        },
        {
          "output_type": "display_data",
          "data": {
            "image/png": "[encoded data removed]",
            "text/plain": [
              "<matplotlib.figure.Figure at 0x7fa0f5f720b8>"
            ]
          },
          "metadata": {
            "tags": []
          }
        }
      ]
    },
    {
      "metadata": {
        "id": "-kOhZ6hj7-Mm",
        "colab_type": "code",
        "colab": {
          "base_uri": "https://localhost:8080/",
          "height": 197
        },
        "outputId": "0418b7d8-b141-4ffc-cd9c-5748e0e3487c"
      },
      "cell_type": "code",
      "source": [
        "straights=[np.rot90(top,i) for i in range(4)]\n",
        "plots(straights)"
      ],
      "execution_count": 60,
      "outputs": [
        {
          "output_type": "display_data",
          "data": {
            "image/png": "[encoded data removed]",
            "text/plain": [
              "<matplotlib.figure.Figure at 0x7fa1230d8ef0>"
            ]
          },
          "metadata": {
            "tags": []
          }
        }
      ]
    },
    {
      "metadata": {
        "id": "unQe1dY98Al4",
        "colab_type": "code",
        "colab": {
          "base_uri": "https://localhost:8080/",
          "height": 197
        },
        "outputId": "21f3d577-c74b-4eaa-ee08-4c535dcc1d21"
      },
      "cell_type": "code",
      "source": [
        "br=[[ 0, 0, 1],\n",
        "    [ 0, 1,-1.5],\n",
        "    [ 1,-1.5, 0]]\n",
        "\n",
        "diags = [np.rot90(br,i) for i in range(4)]\n",
        "plots(diags)"
      ],
      "execution_count": 61,
      "outputs": [
        {
          "output_type": "display_data",
          "data": {
            "image/png": "[encoded data removed]",
            "text/plain": [
              "<matplotlib.figure.Figure at 0x7fa0f6633d68>"
            ]
          },
          "metadata": {
            "tags": []
          }
        }
      ]
    },
    {
      "metadata": {
        "id": "R5znIX8O8C8d",
        "colab_type": "code",
        "colab": {
          "base_uri": "https://localhost:8080/",
          "height": 122
        },
        "outputId": "3da9999f-59db-49ba-d8c6-c9ea9e1c5bb3"
      },
      "cell_type": "code",
      "source": [
        "rots = straights + diags\n",
        "corrs = [correlate(images[0], rot) for rot in rots]\n",
        "plots(corrs)"
      ],
      "execution_count": 62,
      "outputs": [
        {
          "output_type": "display_data",
          "data": {
            "image/png": "[encoded data removed]",
            "text/plain": [
              "<matplotlib.figure.Figure at 0x7fa0f8f49b00>"
            ]
          },
          "metadata": {
            "tags": []
          }
        }
      ]
    },
    {
      "metadata": {
        "id": "jtWNWJ2C8GDv",
        "colab_type": "code",
        "colab": {}
      },
      "cell_type": "code",
      "source": [
        "eights=[images[i] for i in range(n) if labels[i]==8]\n",
        "ones=[images[i] for i in range(n) if labels[i]==1]"
      ],
      "execution_count": 0,
      "outputs": []
    },
    {
      "metadata": {
        "id": "9mCFpncI8Hy9",
        "colab_type": "code",
        "colab": {
          "base_uri": "https://localhost:8080/",
          "height": 313
        },
        "outputId": "f347a982-f97e-447e-e6ec-904c581ce3a2"
      },
      "cell_type": "code",
      "source": [
        "plots(eights[:5])\n",
        "plots(ones[:5])"
      ],
      "execution_count": 64,
      "outputs": [
        {
          "output_type": "display_data",
          "data": {
            "image/png": "[encoded data removed]",
            "text/plain": [
              "<matplotlib.figure.Figure at 0x7fa0f647c5f8>"
            ]
          },
          "metadata": {
            "tags": []
          }
        },
        {
          "output_type": "display_data",
          "data": {
            "image/png": "[encoded data removed]",
            "text/plain": [
              "<matplotlib.figure.Figure at 0x7fa0f63809e8>"
            ]
          },
          "metadata": {
            "tags": []
          }
        }
      ]
    },
    {
      "metadata": {
        "id": "tvktzqYcS-Fo",
        "colab_type": "text"
      },
      "cell_type": "markdown",
      "source": [
        "# Artimética de Punto Flotante"
      ]
    },
    {
      "metadata": {
        "id": "_i8wAv8VTBgZ",
        "colab_type": "code",
        "colab": {}
      },
      "cell_type": "code",
      "source": [
        "def f(x):\n",
        "    if x <= 1/2:\n",
        "        return 2 * x\n",
        "    if x > 1/2:\n",
        "        return 2*x - 1"
      ],
      "execution_count": 0,
      "outputs": []
    },
    {
      "metadata": {
        "id": "lWEwYXqyTETg",
        "colab_type": "code",
        "colab": {
          "base_uri": "https://localhost:8080/",
          "height": 1361
        },
        "outputId": "43e1da5e-473d-4add-e282-adf98e3088d6"
      },
      "cell_type": "code",
      "source": [
        "x = 1/10\n",
        "for i in range(80):\n",
        "    print(x)\n",
        "    x = f(x)"
      ],
      "execution_count": 2,
      "outputs": [
        {
          "output_type": "stream",
          "text": [
            "0.1\n",
            "0.2\n",
            "0.4\n",
            "0.8\n",
            "0.6000000000000001\n",
            "0.20000000000000018\n",
            "0.40000000000000036\n",
            "0.8000000000000007\n",
            "0.6000000000000014\n",
            "0.20000000000000284\n",
            "0.4000000000000057\n",
            "0.8000000000000114\n",
            "0.6000000000000227\n",
            "0.20000000000004547\n",
            "0.40000000000009095\n",
            "0.8000000000001819\n",
            "0.6000000000003638\n",
            "0.2000000000007276\n",
            "0.4000000000014552\n",
            "0.8000000000029104\n",
            "0.6000000000058208\n",
            "0.20000000001164153\n",
            "0.40000000002328306\n",
            "0.8000000000465661\n",
            "0.6000000000931323\n",
            "0.20000000018626451\n",
            "0.40000000037252903\n",
            "0.8000000007450581\n",
            "0.6000000014901161\n",
            "0.20000000298023224\n",
            "0.4000000059604645\n",
            "0.800000011920929\n",
            "0.6000000238418579\n",
            "0.20000004768371582\n",
            "0.40000009536743164\n",
            "0.8000001907348633\n",
            "0.6000003814697266\n",
            "0.20000076293945312\n",
            "0.40000152587890625\n",
            "0.8000030517578125\n",
            "0.600006103515625\n",
            "0.20001220703125\n",
            "0.4000244140625\n",
            "0.800048828125\n",
            "0.60009765625\n",
            "0.2001953125\n",
            "0.400390625\n",
            "0.80078125\n",
            "0.6015625\n",
            "0.203125\n",
            "0.40625\n",
            "0.8125\n",
            "0.625\n",
            "0.25\n",
            "0.5\n",
            "1.0\n",
            "1.0\n",
            "1.0\n",
            "1.0\n",
            "1.0\n",
            "1.0\n",
            "1.0\n",
            "1.0\n",
            "1.0\n",
            "1.0\n",
            "1.0\n",
            "1.0\n",
            "1.0\n",
            "1.0\n",
            "1.0\n",
            "1.0\n",
            "1.0\n",
            "1.0\n",
            "1.0\n",
            "1.0\n",
            "1.0\n",
            "1.0\n",
            "1.0\n",
            "1.0\n",
            "1.0\n"
          ],
          "name": "stdout"
        }
      ]
    },
    {
      "metadata": {
        "id": "d9YfiWeGWjl2",
        "colab_type": "text"
      },
      "cell_type": "markdown",
      "source": [
        "# Cóndicional y Estabilidad\n"
      ]
    },
    {
      "metadata": {
        "id": "MlmAFSHLWmTw",
        "colab_type": "code",
        "colab": {
          "base_uri": "https://localhost:8080/",
          "height": 84
        },
        "outputId": "21cec79b-324c-4068-f1a9-b93989b80e4c"
      },
      "cell_type": "code",
      "source": [
        "import numpy as np\n",
        "import scipy.linalg as la \n",
        "\n",
        "A = np.array([[1., 1000], [0, 1]])\n",
        "B = np.array([[1, 1000], [0.001, 1]])\n",
        "\n",
        "print(A)\n",
        "\n",
        "print(B)"
      ],
      "execution_count": 4,
      "outputs": [
        {
          "output_type": "stream",
          "text": [
            "[[   1. 1000.]\n",
            " [   0.    1.]]\n",
            "[[1.e+00 1.e+03]\n",
            " [1.e-03 1.e+00]]\n"
          ],
          "name": "stdout"
        }
      ]
    },
    {
      "metadata": {
        "id": "CaAHOM_jWp5T",
        "colab_type": "code",
        "colab": {}
      },
      "cell_type": "code",
      "source": [
        "np.set_printoptions(suppress=True, precision=4)"
      ],
      "execution_count": 0,
      "outputs": []
    },
    {
      "metadata": {
        "id": "Ic977l0WWwYC",
        "colab_type": "code",
        "colab": {
          "base_uri": "https://localhost:8080/",
          "height": 34
        },
        "outputId": "e5efe4b2-2e3f-4d82-b274-a7b44297735a"
      },
      "cell_type": "code",
      "source": [
        "wA, vrA = la.eig(A)\n",
        "wB, vrB = la.eig(B)\n",
        "\n",
        "wA, wB"
      ],
      "execution_count": 6,
      "outputs": [
        {
          "output_type": "execute_result",
          "data": {
            "text/plain": [
              "(array([1.+0.j, 1.+0.j]), array([2.+0.j, 0.+0.j]))"
            ]
          },
          "metadata": {
            "tags": []
          },
          "execution_count": 6
        }
      ]
    },
    {
      "metadata": {
        "id": "1NtpmhpzXM87",
        "colab_type": "text"
      },
      "cell_type": "markdown",
      "source": [
        "\n",
        "\n",
        "*   La diferencia entre un número X y un punto flotante aproximado F(X) es siempre más pequeño que el Machine Epsilon(Es la mitad de la distancia entre 1 y el siguiente número más grande. ) en términos relativos.\n",
        "*   Cada operador mátematico + - / * , de un punto flotante artimetico es exactamente relativo al tamaño del error del Machine Epsilon.\n",
        "\n"
      ]
    },
    {
      "metadata": {
        "id": "r3lnrSmsYZVQ",
        "colab_type": "code",
        "colab": {}
      },
      "cell_type": "code",
      "source": [
        ""
      ],
      "execution_count": 0,
      "outputs": []
    }
  ]
}