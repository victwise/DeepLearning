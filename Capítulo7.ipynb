{
  "nbformat": 4,
  "nbformat_minor": 0,
  "metadata": {
    "colab": {
      "name": "Capítulo7.ipynb",
      "version": "0.3.2",
      "provenance": [],
      "collapsed_sections": [],
      "include_colab_link": true
    },
    "kernelspec": {
      "name": "python3",
      "display_name": "Python 3"
    }
  },
  "cells": [
    {
      "cell_type": "markdown",
      "metadata": {
        "id": "view-in-github",
        "colab_type": "text"
      },
      "source": [
        "<a href=\"https://colab.research.google.com/github/victwise/DeepLearning/blob/master/Cap%C3%ADtulo7.ipynb\" target=\"_parent\"><img src=\"https://colab.research.google.com/assets/colab-badge.svg\" alt=\"Open In Colab\"/></a>"
      ]
    },
    {
      "metadata": {
        "id": "BKdfqMaE-KW-",
        "colab_type": "text"
      },
      "cell_type": "markdown",
      "source": [
        "1. Psutil es una excelente manera de verificar el uso de la memoria. Esto será útil aquí ya que estamos utilizando un conjunto de datos más grande."
      ]
    },
    {
      "metadata": {
        "id": "Jmu6LUisuysl",
        "colab_type": "code",
        "colab": {}
      },
      "cell_type": "code",
      "source": [
        "import psutil\n",
        "import os"
      ],
      "execution_count": 0,
      "outputs": []
    },
    {
      "metadata": {
        "id": "DIBYbjCwu4rQ",
        "colab_type": "code",
        "colab": {}
      },
      "cell_type": "code",
      "source": [
        "process = psutil.Process(os.getpid())\n",
        "t = process.memory_info()"
      ],
      "execution_count": 0,
      "outputs": []
    },
    {
      "metadata": {
        "id": "g-4VGEFHu8e1",
        "colab_type": "code",
        "colab": {
          "base_uri": "https://localhost:8080/",
          "height": 34
        },
        "outputId": "46542930-c9bb-4106-8a8b-329debdfb25d"
      },
      "cell_type": "code",
      "source": [
        "t.vms, t.rss"
      ],
      "execution_count": 6,
      "outputs": [
        {
          "output_type": "execute_result",
          "data": {
            "text/plain": [
              "(730591232, 139575296)"
            ]
          },
          "metadata": {
            "tags": []
          },
          "execution_count": 6
        }
      ]
    },
    {
      "metadata": {
        "id": "i6LbTgYAu-QG",
        "colab_type": "code",
        "colab": {}
      },
      "cell_type": "code",
      "source": [
        "def mem_usage():\n",
        "    process = psutil.Process(os.getpid())\n",
        "    return process.memory_info().rss / psutil.virtual_memory().total"
      ],
      "execution_count": 0,
      "outputs": []
    },
    {
      "metadata": {
        "id": "pU8qQRUpz838",
        "colab_type": "code",
        "colab": {
          "base_uri": "https://localhost:8080/",
          "height": 34
        },
        "outputId": "1f39780a-60cd-457c-9c69-e509e8c2ca00"
      },
      "cell_type": "code",
      "source": [
        "mem_usage()"
      ],
      "execution_count": 8,
      "outputs": [
        {
          "output_type": "execute_result",
          "data": {
            "text/plain": [
              "0.010227358965121815"
            ]
          },
          "metadata": {
            "tags": []
          },
          "execution_count": 8
        }
      ]
    },
    {
      "metadata": {
        "id": "uFOzGAsg-Mn_",
        "colab_type": "text"
      },
      "cell_type": "markdown",
      "source": [
        "2. TQDM te da barras de progreso."
      ]
    },
    {
      "metadata": {
        "id": "8e6vMJC6-O3Q",
        "colab_type": "code",
        "colab": {}
      },
      "cell_type": "code",
      "source": [
        "from time import sleep"
      ],
      "execution_count": 0,
      "outputs": []
    },
    {
      "metadata": {
        "id": "gBhinaMf-RZF",
        "colab_type": "code",
        "colab": {
          "base_uri": "https://localhost:8080/",
          "height": 34
        },
        "outputId": "b2564dd2-723e-4c5c-b9e3-aeef21044260"
      },
      "cell_type": "code",
      "source": [
        "# Without TQDM\n",
        "s = 0\n",
        "for i in range(10):\n",
        "    s += i\n",
        "    sleep(0.2)\n",
        "print(s)"
      ],
      "execution_count": 10,
      "outputs": [
        {
          "output_type": "stream",
          "text": [
            "45\n"
          ],
          "name": "stdout"
        }
      ]
    },
    {
      "metadata": {
        "id": "XOENe5ZS-S90",
        "colab_type": "code",
        "colab": {
          "base_uri": "https://localhost:8080/",
          "height": 50
        },
        "outputId": "17ce7048-6aa6-428f-8a39-436cbe40c894"
      },
      "cell_type": "code",
      "source": [
        "# With TQDM\n",
        "from tqdm import tqdm\n",
        "\n",
        "s = 0\n",
        "for i in tqdm(range(10)):\n",
        "    s += i\n",
        "    sleep(0.2)\n",
        "print(s)"
      ],
      "execution_count": 11,
      "outputs": [
        {
          "output_type": "stream",
          "text": [
            "100%|██████████| 10/10 [00:02<00:00,  4.96it/s]"
          ],
          "name": "stderr"
        },
        {
          "output_type": "stream",
          "text": [
            "45\n"
          ],
          "name": "stdout"
        },
        {
          "output_type": "stream",
          "text": [
            "\n"
          ],
          "name": "stderr"
        }
      ]
    },
    {
      "metadata": {
        "id": "dDb_gp1S-wuX",
        "colab_type": "text"
      },
      "cell_type": "markdown",
      "source": [
        "##Aplicación SVD adicional \n",
        "\n",
        "Un uso interesante de la SVD que encontré recientemente fue como un paso en la eliminación de sesgos de incrustaciones de palabras de Word2Vec, desde Cuantificar y reducir estereotipos en incrustaciones de palabras (Bolukbasi, et al).\n",
        "\n",
        "Word2Vec es una biblioteca útil lanzada por Google que representa palabras como vectores. La similitud de los vectores captura el significado semántico, y se pueden encontrar analogías, como París: Francia :: Tokio: Japón .\n",
        "\n",
        "(fuente: Representaciones vectoriales de palabras )\n",
        "\n",
        "Sin embargo, estas incrustaciones pueden codificar implícitamente sesgos, como padre: médico :: madre: enfermera y hombre: programador de computadoras :: mujer: ama de casa .\n",
        "\n",
        "Un enfoque para eliminar la desviación del espacio implica el uso de SVD para reducir la dimensionalidad ( artículo de Bolukbasi )."
      ]
    },
    {
      "metadata": {
        "id": "rTITHcJp-3r5",
        "colab_type": "text"
      },
      "cell_type": "markdown",
      "source": [
        "##Maneras de pensar en SVD \n",
        "\n",
        "- Compresión de datos\n",
        "- SVD intercambia una gran cantidad de funciones por un conjunto más pequeño de características mejores\n",
        "- Todas las matrices son diagonales (si utiliza el cambio de bases en el dominio y rango)"
      ]
    },
    {
      "metadata": {
        "id": "dCKeo5eU_cXz",
        "colab_type": "text"
      },
      "cell_type": "markdown",
      "source": [
        "##Eigen Descomposición \n",
        "\n",
        "Los mejores métodos clásicos para calcular la SVD son las variantes de los métodos para calcular valores propios. Además de sus enlaces a SVD, las descomposiciones de Eigen también son útiles por sí mismas. Aquí hay algunas aplicaciones prácticas de descomposición eigen:\n",
        "\n",
        "- poderes de matriz rápidos\n",
        "- nth fibonacci numero\n",
        "- Comportamiento de las EDOs\n",
        "- Cadenas de Markov (economía del cuidado de la salud, Page Rank)\n",
        "- Análisis Lineal Discriminante en el conjunto de datos Iris"
      ]
    },
    {
      "metadata": {
        "id": "-oHs3c4EAHtG",
        "colab_type": "text"
      },
      "cell_type": "markdown",
      "source": [
        "##DBpedia Dataset "
      ]
    },
    {
      "metadata": {
        "id": "mu4Nd9GI-UvU",
        "colab_type": "code",
        "colab": {}
      },
      "cell_type": "code",
      "source": [
        "import os, numpy as np, pickle\n",
        "from bz2 import BZ2File\n",
        "from datetime import datetime\n",
        "from pprint import pprint\n",
        "from time import time\n",
        "from tqdm import tqdm_notebook\n",
        "from scipy import sparse\n",
        "\n",
        "from sklearn.decomposition import randomized_svd\n",
        "from sklearn.externals.joblib import Memory\n",
        "from urllib.request import urlopen"
      ],
      "execution_count": 0,
      "outputs": []
    },
    {
      "metadata": {
        "id": "QRF1vX6lAMQN",
        "colab_type": "code",
        "colab": {
          "base_uri": "https://localhost:8080/",
          "height": 50
        },
        "outputId": "b734ceab-f2c1-4cf5-d211-2bae7596b9af"
      },
      "cell_type": "code",
      "source": [
        "PATH = '/'\n",
        "URL_BASE = 'http://downloads.dbpedia.org/3.5.1/en/'\n",
        "filenames = [\"redirects_en.nt.bz2\", \"page_links_en.nt.bz2\"]\n",
        "\n",
        "for filename in filenames:\n",
        "    if not os.path.exists(PATH+filename):\n",
        "        print(\"Downloading '%s', please wait...\" % filename)\n",
        "        open(PATH+filename, 'wb').write(urlopen(URL_BASE+filename).read())"
      ],
      "execution_count": 16,
      "outputs": [
        {
          "output_type": "stream",
          "text": [
            "Downloading 'redirects_en.nt.bz2', please wait...\n",
            "Downloading 'page_links_en.nt.bz2', please wait...\n"
          ],
          "name": "stdout"
        }
      ]
    },
    {
      "metadata": {
        "id": "M5mtCIonAPIw",
        "colab_type": "code",
        "colab": {}
      },
      "cell_type": "code",
      "source": [
        "redirects_filename = PATH+filenames[0]\n",
        "page_links_filename = PATH+filenames[1]"
      ],
      "execution_count": 0,
      "outputs": []
    },
    {
      "metadata": {
        "id": "O6m01_efARav",
        "colab_type": "code",
        "colab": {}
      },
      "cell_type": "code",
      "source": [
        "DBPEDIA_RESOURCE_PREFIX_LEN = len(\"http://dbpedia.org/resource/\")\n",
        "SLICE = slice(DBPEDIA_RESOURCE_PREFIX_LEN + 1, -1)"
      ],
      "execution_count": 0,
      "outputs": []
    },
    {
      "metadata": {
        "id": "vK_sz_mLBejC",
        "colab_type": "code",
        "colab": {}
      },
      "cell_type": "code",
      "source": [
        "def get_lines(filename): return (line.split() for line in BZ2File(filename))"
      ],
      "execution_count": 0,
      "outputs": []
    },
    {
      "metadata": {
        "id": "6C2dj41xBgq1",
        "colab_type": "code",
        "colab": {}
      },
      "cell_type": "code",
      "source": [
        "def get_redirect(targ, redirects):\n",
        "    seen = set()\n",
        "    while True:\n",
        "        transitive_targ = targ\n",
        "        targ = redirects.get(targ)\n",
        "        if targ is None or targ in seen: break\n",
        "        seen.add(targ)\n",
        "    return transitive_targ"
      ],
      "execution_count": 0,
      "outputs": []
    },
    {
      "metadata": {
        "id": "XNpwxBu9Bipp",
        "colab_type": "code",
        "colab": {}
      },
      "cell_type": "code",
      "source": [
        "def get_redirects(redirects_filename):\n",
        "    redirects={}\n",
        "    lines = get_lines(redirects_filename)\n",
        "    return {src[SLICE]:get_redirect(targ[SLICE], redirects) \n",
        "                for src,_,targ,_ in tqdm_notebook(lines, leave=False)}"
      ],
      "execution_count": 0,
      "outputs": []
    },
    {
      "metadata": {
        "id": "YwxM5QCCBka0",
        "colab_type": "code",
        "colab": {}
      },
      "cell_type": "code",
      "source": [
        "redirects = get_redirects(redirects_filename)"
      ],
      "execution_count": 0,
      "outputs": []
    },
    {
      "metadata": {
        "id": "J78mVtVoBlya",
        "colab_type": "code",
        "colab": {
          "base_uri": "https://localhost:8080/",
          "height": 34
        },
        "outputId": "6bace067-74fd-4611-b676-3c9c6adc064a"
      },
      "cell_type": "code",
      "source": [
        "mem_usage()"
      ],
      "execution_count": 23,
      "outputs": [
        {
          "output_type": "execute_result",
          "data": {
            "text/plain": [
              "0.1394518512341611"
            ]
          },
          "metadata": {
            "tags": []
          },
          "execution_count": 23
        }
      ]
    },
    {
      "metadata": {
        "id": "zowiKQnsCOGF",
        "colab_type": "code",
        "colab": {}
      },
      "cell_type": "code",
      "source": [
        "def add_item(lst, redirects, index_map, item):\n",
        "    k = item[SLICE]\n",
        "    lst.append(index_map.setdefault(redirects.get(k, k), len(index_map)))"
      ],
      "execution_count": 0,
      "outputs": []
    },
    {
      "metadata": {
        "id": "jJMbz6uQCQOE",
        "colab_type": "code",
        "colab": {}
      },
      "cell_type": "code",
      "source": [
        "limit=119077682 #5000000"
      ],
      "execution_count": 0,
      "outputs": []
    },
    {
      "metadata": {
        "id": "qaizTURaCRiH",
        "colab_type": "code",
        "colab": {}
      },
      "cell_type": "code",
      "source": [
        "# Computing the integer index map\n",
        "index_map = dict() # links->IDs\n",
        "lines = get_lines(page_links_filename)\n",
        "source, destination, data = [],[],[]\n",
        "for l, split in tqdm_notebook(enumerate(lines), total=limit):\n",
        "    if l >= limit: break\n",
        "    add_item(source, redirects, index_map, split[0])\n",
        "    add_item(destination, redirects, index_map, split[2])\n",
        "    data.append(1)"
      ],
      "execution_count": 0,
      "outputs": []
    },
    {
      "metadata": {
        "id": "1fiNQINWCTEc",
        "colab_type": "code",
        "colab": {}
      },
      "cell_type": "code",
      "source": [
        "n=len(data); n"
      ],
      "execution_count": 0,
      "outputs": []
    },
    {
      "metadata": {
        "id": "OvxyqU3hCUvV",
        "colab_type": "code",
        "colab": {}
      },
      "cell_type": "code",
      "source": [
        ""
      ],
      "execution_count": 0,
      "outputs": []
    }
  ]
}